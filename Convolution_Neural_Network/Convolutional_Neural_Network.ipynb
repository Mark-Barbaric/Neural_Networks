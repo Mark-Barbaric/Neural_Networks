{
  "nbformat": 4,
  "nbformat_minor": 0,
  "metadata": {
    "colab": {
      "name": "Convolutional_Neural_Network.ipynb",
      "provenance": [],
      "collapsed_sections": [],
      "machine_shape": "hm"
    },
    "kernelspec": {
      "name": "python3",
      "display_name": "Python 3"
    }
  },
  "cells": [
    {
      "cell_type": "markdown",
      "metadata": {
        "id": "JVVbWepB_HPq",
        "colab_type": "text"
      },
      "source": [
        "# Medium Article - CNNs for Computer Vision\n",
        "\n",
        "https://medium.com/intuitive-deep-learning/intuitive-deep-learning-part-2-cnns-for-computer-vision-24992d050a27"
      ]
    },
    {
      "cell_type": "code",
      "metadata": {
        "id": "zV_2TmLG8br5",
        "colab_type": "code",
        "colab": {}
      },
      "source": [
        "import pandas as pd\n",
        "import tensorflow as tf\n",
        "import keras\n",
        "from sklearn import preprocessing\n",
        "from sklearn.model_selection import train_test_split\n",
        "from keras.models import Sequential\n",
        "from keras.layers import Dense, Dropout, Flatten, Conv2D, MaxPooling2D\n",
        "from keras.datasets import cifar10\n",
        "from keras import regularizers\n",
        "import matplotlib.pyplot as plt"
      ],
      "execution_count": 0,
      "outputs": []
    },
    {
      "cell_type": "markdown",
      "metadata": {
        "id": "bNeZ_o2CAIya",
        "colab_type": "text"
      },
      "source": [
        "Add seeding to models to generate reproducable training result."
      ]
    },
    {
      "cell_type": "code",
      "metadata": {
        "id": "2WKJDriaAvNM",
        "colab_type": "code",
        "colab": {}
      },
      "source": [
        "from numpy.random import seed\n",
        "seed(1)\n",
        "tf.random.set_seed(2)"
      ],
      "execution_count": 0,
      "outputs": []
    },
    {
      "cell_type": "markdown",
      "metadata": {
        "id": "Qxv7UIywA6SZ",
        "colab_type": "text"
      },
      "source": [
        "# Step 1 - Loading and Cleaning Image Data\n",
        "\n",
        "Images will be 32 x 32 pixels in size, with 10 possible labels and the dataset size will be 6000 (5000 for training and 1000 for testing)"
      ]
    },
    {
      "cell_type": "code",
      "metadata": {
        "id": "E1SRpaA1A_fX",
        "colab_type": "code",
        "outputId": "b1787ced-5525-4cd8-8951-a3a1bfccda90",
        "colab": {
          "base_uri": "https://localhost:8080/",
          "height": 51
        }
      },
      "source": [
        "(x_train, y_train), (x_test, y_test) = cifar10.load_data()"
      ],
      "execution_count": 0,
      "outputs": [
        {
          "output_type": "stream",
          "text": [
            "Downloading data from https://www.cs.toronto.edu/~kriz/cifar-10-python.tar.gz\n",
            "170500096/170498071 [==============================] - 3s 0us/step\n"
          ],
          "name": "stdout"
        }
      ]
    },
    {
      "cell_type": "markdown",
      "metadata": {
        "id": "T4wN4p70DIax",
        "colab_type": "text"
      },
      "source": [
        "Printing out dataset dimensions"
      ]
    },
    {
      "cell_type": "code",
      "metadata": {
        "id": "M0ubMvmmDKxT",
        "colab_type": "code",
        "outputId": "f52e242f-ea4e-4a1e-98b8-bfd0c4ff50df",
        "colab": {
          "base_uri": "https://localhost:8080/",
          "height": 34
        }
      },
      "source": [
        "print('x_train_shape', x_train.shape)"
      ],
      "execution_count": 0,
      "outputs": [
        {
          "output_type": "stream",
          "text": [
            "x_train_shape (50000, 32, 32, 3)\n"
          ],
          "name": "stdout"
        }
      ]
    },
    {
      "cell_type": "code",
      "metadata": {
        "id": "Oxb-Ruc7DU06",
        "colab_type": "code",
        "outputId": "bd5dd0bd-ae35-423f-bb4b-6edec5b70f47",
        "colab": {
          "base_uri": "https://localhost:8080/",
          "height": 34
        }
      },
      "source": [
        "print('x_test_shape', y_train.shape)"
      ],
      "execution_count": 0,
      "outputs": [
        {
          "output_type": "stream",
          "text": [
            "x_test_shape (50000, 1)\n"
          ],
          "name": "stdout"
        }
      ]
    },
    {
      "cell_type": "markdown",
      "metadata": {
        "id": "KHDCWDe9Ds2c",
        "colab_type": "text"
      },
      "source": [
        "Printing out individual image dataset."
      ]
    },
    {
      "cell_type": "code",
      "metadata": {
        "id": "gYrhR4gxDwCD",
        "colab_type": "code",
        "outputId": "6f81faa7-5ade-4e1c-8532-23c1134487d7",
        "colab": {
          "base_uri": "https://localhost:8080/",
          "height": 850
        }
      },
      "source": [
        "print('Image 1 Data', x_train[0])"
      ],
      "execution_count": 0,
      "outputs": [
        {
          "output_type": "stream",
          "text": [
            "Image 1 Data [[[ 59  62  63]\n",
            "  [ 43  46  45]\n",
            "  [ 50  48  43]\n",
            "  ...\n",
            "  [158 132 108]\n",
            "  [152 125 102]\n",
            "  [148 124 103]]\n",
            "\n",
            " [[ 16  20  20]\n",
            "  [  0   0   0]\n",
            "  [ 18   8   0]\n",
            "  ...\n",
            "  [123  88  55]\n",
            "  [119  83  50]\n",
            "  [122  87  57]]\n",
            "\n",
            " [[ 25  24  21]\n",
            "  [ 16   7   0]\n",
            "  [ 49  27   8]\n",
            "  ...\n",
            "  [118  84  50]\n",
            "  [120  84  50]\n",
            "  [109  73  42]]\n",
            "\n",
            " ...\n",
            "\n",
            " [[208 170  96]\n",
            "  [201 153  34]\n",
            "  [198 161  26]\n",
            "  ...\n",
            "  [160 133  70]\n",
            "  [ 56  31   7]\n",
            "  [ 53  34  20]]\n",
            "\n",
            " [[180 139  96]\n",
            "  [173 123  42]\n",
            "  [186 144  30]\n",
            "  ...\n",
            "  [184 148  94]\n",
            "  [ 97  62  34]\n",
            "  [ 83  53  34]]\n",
            "\n",
            " [[177 144 116]\n",
            "  [168 129  94]\n",
            "  [179 142  87]\n",
            "  ...\n",
            "  [216 184 140]\n",
            "  [151 118  84]\n",
            "  [123  92  72]]]\n"
          ],
          "name": "stdout"
        }
      ]
    },
    {
      "cell_type": "markdown",
      "metadata": {
        "id": "pQHmODQyD29z",
        "colab_type": "text"
      },
      "source": [
        "Showing the actual image."
      ]
    },
    {
      "cell_type": "code",
      "metadata": {
        "id": "vxqNEgRjD4Xr",
        "colab_type": "code",
        "outputId": "281769e8-45df-42db-e7c5-08605fb541ee",
        "colab": {
          "base_uri": "https://localhost:8080/",
          "height": 283
        }
      },
      "source": [
        "print('Image 1 Pic', plt.imshow(x_train[0]))"
      ],
      "execution_count": 0,
      "outputs": [
        {
          "output_type": "stream",
          "text": [
            "Image 1 Pic AxesImage(54,36;334.8x217.44)\n"
          ],
          "name": "stdout"
        },
        {
          "output_type": "display_data",
          "data": {
            "image/png": "[encoded data removed]",
            "text/plain": [
              "<Figure size 432x288 with 1 Axes>"
            ]
          },
          "metadata": {
            "tags": []
          }
        }
      ]
    },
    {
      "cell_type": "markdown",
      "metadata": {
        "id": "BHerguKeIpmy",
        "colab_type": "text"
      },
      "source": [
        "We need set up the model to it predicts the probability of each image being one of the ten classes. To do so, there need to be 10 Output Neurons in the network, and the label needs to be converted into a set of 10 numbers representing if the image belongs to that class (if the image belongs to the first class is will be set to 1 and the rest will be zero).\n",
        "\n",
        "![alt text](https://miro.medium.com/max/1130/1*t-ttNgcua-JtTlLjdRScww.png)\n"
      ]
    },
    {
      "cell_type": "code",
      "metadata": {
        "id": "4hamERp5Jw3i",
        "colab_type": "code",
        "outputId": "5f514519-0cab-4ff9-a54a-a6c99b322512",
        "colab": {
          "base_uri": "https://localhost:8080/",
          "height": 34
        }
      },
      "source": [
        "y_train_one_hot = keras.utils.to_categorical(y_train, 10)\n",
        "y_test_one_hot = keras.utils.to_categorical(y_test, 10)\n",
        "print('y_train_one_hot', y_train_one_hot[1])"
      ],
      "execution_count": 0,
      "outputs": [
        {
          "output_type": "stream",
          "text": [
            "y_train_one_hot [0. 0. 0. 0. 0. 0. 0. 0. 0. 1.]\n"
          ],
          "name": "stdout"
        }
      ]
    },
    {
      "cell_type": "markdown",
      "metadata": {
        "id": "-Cm_bI7TK-hJ",
        "colab_type": "text"
      },
      "source": [
        "The image data is represented as a number between 1 and 255, so this will need to be normalised in order to improve the training of the model."
      ]
    },
    {
      "cell_type": "code",
      "metadata": {
        "id": "jik85KIELKLV",
        "colab_type": "code",
        "outputId": "a0a330e8-8ddb-4732-8376-bb10d5c63877",
        "colab": {
          "base_uri": "https://localhost:8080/",
          "height": 850
        }
      },
      "source": [
        "x_train = x_train.astype('float32')\n",
        "x_test = x_test.astype('float32')\n",
        "x_train /= 255\n",
        "x_test /= 255\n",
        "\n",
        "#print the newly normalized data\n",
        "x_train[0]"
      ],
      "execution_count": 0,
      "outputs": [
        {
          "output_type": "execute_result",
          "data": {
            "text/plain": [
              "array([[[0.23137255, 0.24313726, 0.24705882],\n",
              "        [0.16862746, 0.18039216, 0.1764706 ],\n",
              "        [0.19607843, 0.1882353 , 0.16862746],\n",
              "        ...,\n",
              "        [0.61960787, 0.5176471 , 0.42352942],\n",
              "        [0.59607846, 0.49019608, 0.4       ],\n",
              "        [0.5803922 , 0.4862745 , 0.40392157]],\n",
              "\n",
              "       [[0.0627451 , 0.07843138, 0.07843138],\n",
              "        [0.        , 0.        , 0.        ],\n",
              "        [0.07058824, 0.03137255, 0.        ],\n",
              "        ...,\n",
              "        [0.48235294, 0.34509805, 0.21568628],\n",
              "        [0.46666667, 0.3254902 , 0.19607843],\n",
              "        [0.47843137, 0.34117648, 0.22352941]],\n",
              "\n",
              "       [[0.09803922, 0.09411765, 0.08235294],\n",
              "        [0.0627451 , 0.02745098, 0.        ],\n",
              "        [0.19215687, 0.10588235, 0.03137255],\n",
              "        ...,\n",
              "        [0.4627451 , 0.32941177, 0.19607843],\n",
              "        [0.47058824, 0.32941177, 0.19607843],\n",
              "        [0.42745098, 0.28627452, 0.16470589]],\n",
              "\n",
              "       ...,\n",
              "\n",
              "       [[0.8156863 , 0.6666667 , 0.3764706 ],\n",
              "        [0.7882353 , 0.6       , 0.13333334],\n",
              "        [0.7764706 , 0.6313726 , 0.10196079],\n",
              "        ...,\n",
              "        [0.627451  , 0.52156866, 0.27450982],\n",
              "        [0.21960784, 0.12156863, 0.02745098],\n",
              "        [0.20784314, 0.13333334, 0.07843138]],\n",
              "\n",
              "       [[0.7058824 , 0.54509807, 0.3764706 ],\n",
              "        [0.6784314 , 0.48235294, 0.16470589],\n",
              "        [0.7294118 , 0.5647059 , 0.11764706],\n",
              "        ...,\n",
              "        [0.72156864, 0.5803922 , 0.36862746],\n",
              "        [0.38039216, 0.24313726, 0.13333334],\n",
              "        [0.3254902 , 0.20784314, 0.13333334]],\n",
              "\n",
              "       [[0.69411767, 0.5647059 , 0.45490196],\n",
              "        [0.65882355, 0.5058824 , 0.36862746],\n",
              "        [0.7019608 , 0.5568628 , 0.34117648],\n",
              "        ...,\n",
              "        [0.84705883, 0.72156864, 0.54901963],\n",
              "        [0.5921569 , 0.4627451 , 0.32941177],\n",
              "        [0.48235294, 0.36078432, 0.28235295]]], dtype=float32)"
            ]
          },
          "metadata": {
            "tags": []
          },
          "execution_count": 16
        }
      ]
    },
    {
      "cell_type": "markdown",
      "metadata": {
        "id": "I4Zr-UgILdKY",
        "colab_type": "text"
      },
      "source": [
        "# Step 3 - Building and Training the Neural Net\n",
        "\n",
        "- Conv Layer (Filter size 3x3, Depth 32)\n",
        "- Conv Layer (Filter size 3x3, Depth 32)\n",
        "- Max Pool Layer (Filter size 2x2)\n",
        "- Dropout Layer (Prob of dropout 0.25)\n",
        "- Conv Layer (Filter size 3x3, Depth 64)\n",
        "- Conv Layer (Filter size 3x3, Depth 64)\n",
        "- Max Pool Layer (Filter size 2x2)\n",
        "- Dropout Layer (Prob of dropout 0.25)\n",
        "- FC Layer (512 neurons)\n",
        "- Dropout Layer (Prob of dropout 0.5)\n",
        "- FC Layer, Softmax (10 neurons)\n",
        "\n",
        "![alt text](https://miro.medium.com/max/2000/1*b4neYlVytzv5lfGmHAcqTQ.png)"
      ]
    },
    {
      "cell_type": "code",
      "metadata": {
        "id": "UhbBLXU4SJJ9",
        "colab_type": "code",
        "colab": {}
      },
      "source": [
        "# Specifying the first layers\n",
        "model = tf.keras.Sequential();\n",
        "\n",
        "# Creates a Convolution layer with 32 depth, and (3, 3) filter width and size.\n",
        "model.add(tf.keras.layers.Conv2D(32, (3, 3), activation = 'relu', padding = 'same', input_shape = (32, 32, 3)))\n",
        "# A duplicated of the above layer, except the input shape doesn't need to be defined again.\n",
        "model.add(tf.keras.layers.Conv2D(32, (3, 3), activation = 'relu', padding = 'same'))\n",
        "# Pooling layer used to amalgamate the results from filtered output\n",
        "model.add(tf.keras.layers.MaxPool2D(pool_size = (2,2)))\n",
        "# Finally add a dropout layer to help prevent Overfitting\n",
        "model.add(tf.keras.layers.Dropout(0.25))\n"
      ],
      "execution_count": 0,
      "outputs": []
    },
    {
      "cell_type": "markdown",
      "metadata": {
        "id": "lAKQrhvvVzwA",
        "colab_type": "text"
      },
      "source": [
        "The next four layers are pretty much the same, except the depth of the convolution layer is 64 rather than 32."
      ]
    },
    {
      "cell_type": "code",
      "metadata": {
        "id": "Gz29jcoPV7wL",
        "colab_type": "code",
        "colab": {}
      },
      "source": [
        "model.add(tf.keras.layers.Conv2D(64, (3, 3), activation='relu', padding='same'))\n",
        "model.add(tf.keras.layers.Conv2D(64, (3, 3), activation='relu', padding='same'))\n",
        "model.add(tf.keras.layers.MaxPooling2D(pool_size=(2, 2)))\n",
        "model.add(tf.keras.layers.Dropout(0.25))"
      ],
      "execution_count": 0,
      "outputs": []
    },
    {
      "cell_type": "markdown",
      "metadata": {
        "id": "dgfnsxa0WRP9",
        "colab_type": "text"
      },
      "source": [
        "Need to flatten the model to bring Neurons from cube like shape to a single row."
      ]
    },
    {
      "cell_type": "code",
      "metadata": {
        "id": "LnR8oLB2Waup",
        "colab_type": "code",
        "colab": {}
      },
      "source": [
        "model.add(tf.keras.layers.Flatten())"
      ],
      "execution_count": 0,
      "outputs": []
    },
    {
      "cell_type": "markdown",
      "metadata": {
        "id": "8WsFgtTfWe10",
        "colab_type": "text"
      },
      "source": [
        "Finally adding the final four layers"
      ]
    },
    {
      "cell_type": "code",
      "metadata": {
        "id": "ZZAClJidWkHO",
        "colab_type": "code",
        "outputId": "1b287a15-0555-4343-e2ab-01f556744bb3",
        "colab": {
          "base_uri": "https://localhost:8080/",
          "height": 561
        }
      },
      "source": [
        "\n",
        "model.add(tf.keras.layers.Dense(512, activation = 'relu'))\n",
        "# high probability droput layer\n",
        "model.add(tf.keras.layers.Dropout(0.5))\n",
        "# output layer\n",
        "model.add(tf.keras.layers.Dense(10, activation = 'softmax'))\n",
        "model.summary()"
      ],
      "execution_count": 0,
      "outputs": [
        {
          "output_type": "stream",
          "text": [
            "Model: \"sequential\"\n",
            "_________________________________________________________________\n",
            "Layer (type)                 Output Shape              Param #   \n",
            "=================================================================\n",
            "conv2d (Conv2D)              (None, 32, 32, 32)        896       \n",
            "_________________________________________________________________\n",
            "conv2d_1 (Conv2D)            (None, 32, 32, 32)        9248      \n",
            "_________________________________________________________________\n",
            "max_pooling2d (MaxPooling2D) (None, 16, 16, 32)        0         \n",
            "_________________________________________________________________\n",
            "dropout (Dropout)            (None, 16, 16, 32)        0         \n",
            "_________________________________________________________________\n",
            "conv2d_2 (Conv2D)            (None, 16, 16, 64)        18496     \n",
            "_________________________________________________________________\n",
            "conv2d_3 (Conv2D)            (None, 16, 16, 64)        36928     \n",
            "_________________________________________________________________\n",
            "max_pooling2d_1 (MaxPooling2 (None, 8, 8, 64)          0         \n",
            "_________________________________________________________________\n",
            "dropout_1 (Dropout)          (None, 8, 8, 64)          0         \n",
            "_________________________________________________________________\n",
            "flatten (Flatten)            (None, 4096)              0         \n",
            "_________________________________________________________________\n",
            "dense (Dense)                (None, 512)               2097664   \n",
            "_________________________________________________________________\n",
            "dropout_2 (Dropout)          (None, 512)               0         \n",
            "_________________________________________________________________\n",
            "dense_1 (Dense)              (None, 10)                5130      \n",
            "=================================================================\n",
            "Total params: 2,168,362\n",
            "Trainable params: 2,168,362\n",
            "Non-trainable params: 0\n",
            "_________________________________________________________________\n"
          ],
          "name": "stdout"
        }
      ]
    },
    {
      "cell_type": "markdown",
      "metadata": {
        "id": "uccr42c_XKxZ",
        "colab_type": "text"
      },
      "source": [
        "# Step 4 - Compiling and Training The Model\n",
        "\n",
        "Going to use a loss function called \"Categorical Cross Entropy\", which is suitable for dealing with classification of many classes. Also using the Adam optimizer for Gradient Descent."
      ]
    },
    {
      "cell_type": "code",
      "metadata": {
        "id": "qsMiJ_h0XrFz",
        "colab_type": "code",
        "outputId": "6373d314-c6c6-4a39-dc47-52a730e116bf",
        "colab": {
          "base_uri": "https://localhost:8080/",
          "height": 697
        }
      },
      "source": [
        "model.compile(loss = 'categorical_crossentropy', optimizer = 'adam', metrics = ['accuracy'])\n",
        "hist = model.fit(x_train, y_train_one_hot, batch_size = 32, epochs= 20, validation_split=0.2)"
      ],
      "execution_count": 0,
      "outputs": [
        {
          "output_type": "stream",
          "text": [
            "Epoch 1/20\n",
            "1250/1250 [==============================] - 133s 106ms/step - loss: 1.5999 - accuracy: 0.4171 - val_loss: 1.2306 - val_accuracy: 0.5605\n",
            "Epoch 2/20\n",
            "1250/1250 [==============================] - 137s 109ms/step - loss: 1.1873 - accuracy: 0.5757 - val_loss: 1.0899 - val_accuracy: 0.6163\n",
            "Epoch 3/20\n",
            "1250/1250 [==============================] - 133s 106ms/step - loss: 1.0253 - accuracy: 0.6385 - val_loss: 0.9003 - val_accuracy: 0.6816\n",
            "Epoch 4/20\n",
            "1250/1250 [==============================] - 133s 106ms/step - loss: 0.9214 - accuracy: 0.6759 - val_loss: 0.8552 - val_accuracy: 0.7012\n",
            "Epoch 5/20\n",
            "1250/1250 [==============================] - 132s 106ms/step - loss: 0.8470 - accuracy: 0.7027 - val_loss: 0.7944 - val_accuracy: 0.7247\n",
            "Epoch 6/20\n",
            "1250/1250 [==============================] - 133s 106ms/step - loss: 0.7815 - accuracy: 0.7244 - val_loss: 0.7428 - val_accuracy: 0.7440\n",
            "Epoch 7/20\n",
            "1250/1250 [==============================] - 136s 109ms/step - loss: 0.7314 - accuracy: 0.7411 - val_loss: 0.7370 - val_accuracy: 0.7455\n",
            "Epoch 8/20\n",
            "1250/1250 [==============================] - 134s 107ms/step - loss: 0.6826 - accuracy: 0.7578 - val_loss: 0.7398 - val_accuracy: 0.7461\n",
            "Epoch 9/20\n",
            "1250/1250 [==============================] - 133s 107ms/step - loss: 0.6479 - accuracy: 0.7690 - val_loss: 0.7211 - val_accuracy: 0.7540\n",
            "Epoch 10/20\n",
            "1250/1250 [==============================] - 133s 106ms/step - loss: 0.6211 - accuracy: 0.7800 - val_loss: 0.7449 - val_accuracy: 0.7519\n",
            "Epoch 11/20\n",
            "1250/1250 [==============================] - 136s 109ms/step - loss: 0.5925 - accuracy: 0.7891 - val_loss: 0.7112 - val_accuracy: 0.7593\n",
            "Epoch 12/20\n",
            "1250/1250 [==============================] - 135s 108ms/step - loss: 0.5662 - accuracy: 0.7984 - val_loss: 0.7200 - val_accuracy: 0.7620\n",
            "Epoch 13/20\n",
            "1250/1250 [==============================] - 135s 108ms/step - loss: 0.5414 - accuracy: 0.8097 - val_loss: 0.6788 - val_accuracy: 0.7746\n",
            "Epoch 14/20\n",
            "1250/1250 [==============================] - 135s 108ms/step - loss: 0.5244 - accuracy: 0.8141 - val_loss: 0.7248 - val_accuracy: 0.7590\n",
            "Epoch 15/20\n",
            "1250/1250 [==============================] - 135s 108ms/step - loss: 0.5039 - accuracy: 0.8228 - val_loss: 0.7356 - val_accuracy: 0.7606\n",
            "Epoch 16/20\n",
            "1250/1250 [==============================] - 144s 115ms/step - loss: 0.4794 - accuracy: 0.8313 - val_loss: 0.7223 - val_accuracy: 0.7638\n",
            "Epoch 17/20\n",
            "1250/1250 [==============================] - 134s 107ms/step - loss: 0.4654 - accuracy: 0.8347 - val_loss: 0.7118 - val_accuracy: 0.7737\n",
            "Epoch 18/20\n",
            "1250/1250 [==============================] - 134s 107ms/step - loss: 0.4540 - accuracy: 0.8390 - val_loss: 0.7207 - val_accuracy: 0.7699\n",
            "Epoch 19/20\n",
            "1250/1250 [==============================] - 134s 107ms/step - loss: 0.4442 - accuracy: 0.8445 - val_loss: 0.7450 - val_accuracy: 0.7617\n",
            "Epoch 20/20\n",
            "1250/1250 [==============================] - 136s 109ms/step - loss: 0.4299 - accuracy: 0.8472 - val_loss: 0.7234 - val_accuracy: 0.7720\n"
          ],
          "name": "stdout"
        }
      ]
    },
    {
      "cell_type": "markdown",
      "metadata": {
        "id": "ib_LvPr8t_Ip",
        "colab_type": "text"
      },
      "source": [
        "Model accuracy/loss validation"
      ]
    },
    {
      "cell_type": "code",
      "metadata": {
        "id": "kxSSi43WuCw5",
        "colab_type": "code",
        "outputId": "67080ecd-e8b2-4ce1-e9cf-dfc3d236e347",
        "colab": {
          "base_uri": "https://localhost:8080/",
          "height": 295
        }
      },
      "source": [
        "plt.plot(hist.history['loss'])\n",
        "plt.plot(hist.history['val_loss'])\n",
        "plt.title('Model loss')\n",
        "plt.ylabel('Loss')\n",
        "plt.xlabel('Epoch')\n",
        "plt.legend(['Train', 'Val'], loc='upper right')\n",
        "plt.show()"
      ],
      "execution_count": 0,
      "outputs": [
        {
          "output_type": "display_data",
          "data": {
            "image/png": "[encoded data removed]",
            "text/plain": [
              "<Figure size 432x288 with 1 Axes>"
            ]
          },
          "metadata": {
            "tags": []
          }
        }
      ]
    },
    {
      "cell_type": "code",
      "metadata": {
        "id": "lGl7uWciuF1-",
        "colab_type": "code",
        "outputId": "39d9138d-d718-42aa-e725-1e099ab59ebb",
        "colab": {
          "base_uri": "https://localhost:8080/",
          "height": 295
        }
      },
      "source": [
        "plt.plot(hist.history['accuracy'])\n",
        "plt.plot(hist.history['val_accuracy'])\n",
        "plt.title('Model accuracy')\n",
        "plt.ylabel('Accuracy')\n",
        "plt.xlabel('Epoch')\n",
        "plt.legend(['Train', 'Val'], loc='lower right')\n",
        "plt.show()"
      ],
      "execution_count": 0,
      "outputs": [
        {
          "output_type": "display_data",
          "data": {
            "image/png": "[encoded data removed]",
            "text/plain": [
              "<Figure size 432x288 with 1 Axes>"
            ]
          },
          "metadata": {
            "tags": []
          }
        }
      ]
    },
    {
      "cell_type": "code",
      "metadata": {
        "id": "rrvA47IduJzY",
        "colab_type": "code",
        "outputId": "7bd0f75e-a444-4a6e-957b-380a721188f1",
        "colab": {
          "base_uri": "https://localhost:8080/",
          "height": 51
        }
      },
      "source": [
        "model.evaluate(x_test, y_test_one_hot)[1]"
      ],
      "execution_count": 0,
      "outputs": [
        {
          "output_type": "stream",
          "text": [
            "313/313 [==============================] - 8s 27ms/step - loss: 0.7651 - accuracy: 0.7638\n"
          ],
          "name": "stdout"
        },
        {
          "output_type": "execute_result",
          "data": {
            "text/plain": [
              "0.7638000249862671"
            ]
          },
          "metadata": {
            "tags": []
          },
          "execution_count": 24
        }
      ]
    },
    {
      "cell_type": "code",
      "metadata": {
        "id": "Vx1MdKzGuLV1",
        "colab_type": "code",
        "outputId": "a69c284c-080d-431a-fef7-272555db8907",
        "colab": {
          "base_uri": "https://localhost:8080/",
          "height": 122
        }
      },
      "source": [
        "from google.colab import drive\n",
        "drive.mount('/content/gdrive')\n",
        "model.save('/content/gdrive/My Drive/Neural Networks/Models/my_cifar10_model1.h5')"
      ],
      "execution_count": 0,
      "outputs": [
        {
          "output_type": "stream",
          "text": [
            "Go to this URL in a browser: https://accounts.google.com/o/oauth2/auth?client_id=947318989803-6bn6qk8qdgf4n4g3pfee6491hc0brc4i.apps.googleusercontent.com&redirect_uri=urn%3aietf%3awg%3aoauth%3a2.0%3aoob&response_type=code&scope=email%20https%3a%2f%2fwww.googleapis.com%2fauth%2fdocs.test%20https%3a%2f%2fwww.googleapis.com%2fauth%2fdrive%20https%3a%2f%2fwww.googleapis.com%2fauth%2fdrive.photos.readonly%20https%3a%2f%2fwww.googleapis.com%2fauth%2fpeopleapi.readonly\n",
            "\n",
            "Enter your authorization code:\n",
            "··········\n",
            "Mounted at /content/gdrive\n"
          ],
          "name": "stdout"
        }
      ]
    },
    {
      "cell_type": "markdown",
      "metadata": {
        "id": "l9wxO2DfPb-b",
        "colab_type": "text"
      },
      "source": [
        "# Testing With Custom Image\n",
        "\n",
        "Now I'm going to load my own image to test the models accuracy."
      ]
    },
    {
      "cell_type": "code",
      "metadata": {
        "id": "iJhwyvaZQdsx",
        "colab_type": "code",
        "colab": {}
      },
      "source": [
        "from google.colab import files\n",
        "#uploaded = files.upload();"
      ],
      "execution_count": 0,
      "outputs": []
    }
  ]
}