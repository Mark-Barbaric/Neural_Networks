{
  "nbformat": 4,
  "nbformat_minor": 0,
  "metadata": {
    "colab": {
      "name": "Image_Classification.ipynb",
      "provenance": []
    },
    "kernelspec": {
      "name": "python3",
      "display_name": "Python 3"
    },
    "language_info": {
      "name": "python"
    }
  },
  "cells": [
    {
      "cell_type": "markdown",
      "source": [
        "# **Image Classication using CNN**\n",
        "\n",
        "Building an image classifier of handwritten digits using Convolutional Neural Network.\n",
        "\n",
        "\n",
        "https://www.analyticsvidhya.com/blog/2020/02/learn-image-classification-cnn-convolutional-neural-networks-3-datasets/"
      ],
      "metadata": {
        "id": "rWBZhKnCvjzn"
      }
    },
    {
      "cell_type": "code",
      "execution_count": 19,
      "metadata": {
        "id": "jnumaRB4upJN",
        "colab": {
          "base_uri": "https://localhost:8080/"
        },
        "outputId": "3789c2f1-302f-41d4-87a3-ecfd0a10bc5c"
      },
      "outputs": [
        {
          "output_type": "stream",
          "name": "stdout",
          "text": [
            "Drive already mounted at /content/gdrive; to attempt to forcibly remount, call drive.mount(\"/content/gdrive\", force_remount=True).\n"
          ]
        }
      ],
      "source": [
        "from keras.datasets import mnist\n",
        "from keras.models import Sequential\n",
        "from keras.layers import Dense, Dropout, Conv2D, MaxPool2D, Flatten\n",
        "from keras.utils import np_utils\n",
        "import matplotlib.pyplot as plt\n",
        "from google.colab import drive\n",
        "\n",
        "\n",
        "drive.mount('/content/gdrive')"
      ]
    },
    {
      "cell_type": "markdown",
      "source": [
        "# **Custom Methods**"
      ],
      "metadata": {
        "id": "UamyYpGAv1sG"
      }
    },
    {
      "cell_type": "code",
      "source": [
        "def plot_model_loss(model_history):\n",
        "  plt.plot(model_history['loss'])\n",
        "  plt.plot(model_history['val_loss'])\n",
        "  plt.title('Model Loss')\n",
        "  plt.ylabel('Loss')\n",
        "  plt.xlabel('Epoch')\n",
        "  plt.legend(['Train', 'Val'], loc='upper right')\n",
        "  plt.show()\n",
        "\n",
        "def plot_model_accuracy(model_history):\n",
        "  plt.plot(model_history['accuracy'])\n",
        "  plt.plot(model_history['val_accuracy'])\n",
        "  plt.title('Model accuracy')\n",
        "  plt.ylabel('Accuracy')\n",
        "  plt.xlabel('Epoch')\n",
        "  plt.legen(['Train', 'Val'], loc='lower right')\n",
        "  plt.show()"
      ],
      "metadata": {
        "id": "Mmn0W1fj5kO2"
      },
      "execution_count": null,
      "outputs": []
    },
    {
      "cell_type": "markdown",
      "source": [
        "# **Importing and Reshaping DataSet**"
      ],
      "metadata": {
        "id": "mGq_rkTKwC7o"
      }
    },
    {
      "cell_type": "code",
      "source": [
        "(x_train, y_train), (x_test, y_test) = mnist.load_data()\n",
        "print('XTrain shape', x_train.shape)\n",
        "print('YTrain shape', y_train.shape)\n",
        "print('XTest shape', x_test.shape)\n",
        "print('YTest shape', y_test.shape)"
      ],
      "metadata": {
        "colab": {
          "base_uri": "https://localhost:8080/"
        },
        "id": "oVAo0oNTwGJp",
        "outputId": "ca7cdebf-a095-409f-a591-82c41dc08f63"
      },
      "execution_count": 12,
      "outputs": [
        {
          "output_type": "stream",
          "name": "stdout",
          "text": [
            "XTrain shape (60000, 28, 28)\n",
            "YTrain shape (60000,)\n",
            "XTest shape (10000, 28, 28)\n",
            "YTest shape (10000,)\n"
          ]
        }
      ]
    },
    {
      "cell_type": "code",
      "source": [
        "print('Image 1 Pic', plt.imshow(x_train[1]))\n",
        "print('Image 2 Pic', plt.imshow(x_train[15001]))"
      ],
      "metadata": {
        "colab": {
          "base_uri": "https://localhost:8080/",
          "height": 300
        },
        "id": "Q_CdGM0t1qR1",
        "outputId": "4f66cb8a-5355-4b0a-c69b-f0fc0a8a9134"
      },
      "execution_count": 15,
      "outputs": [
        {
          "output_type": "stream",
          "name": "stdout",
          "text": [
            "Image 1 Pic AxesImage(54,36;334.8x217.44)\n",
            "Image 2 Pic AxesImage(54,36;334.8x217.44)\n"
          ]
        },
        {
          "output_type": "display_data",
          "data": {
            "text/plain": [
              "<Figure size 432x288 with 1 Axes>"
            ],
            "image/png": "[encoded data removed]"
          },
          "metadata": {
            "needs_background": "light"
          }
        }
      ]
    },
    {
      "cell_type": "markdown",
      "source": [
        "Flatten images from 28x28 pixels to 1D 787 pixels."
      ],
      "metadata": {
        "id": "euVJWaduxVAb"
      }
    },
    {
      "cell_type": "code",
      "source": [
        "x_train = x_train.reshape(60000, 784)\n",
        "x_test = x_test.reshape(10000, 784)\n",
        "x_train = x_train.astype('float32')\n",
        "x_test = x_test.astype('float32')\n",
        "\n",
        "x_train /= 255\n",
        "x_test /= 255"
      ],
      "metadata": {
        "colab": {
          "base_uri": "https://localhost:8080/"
        },
        "id": "ejTsKMDLxUce",
        "outputId": "e8de32d6-0383-4476-a3a1-b3805676785f"
      },
      "execution_count": 7,
      "outputs": [
        {
          "output_type": "stream",
          "name": "stdout",
          "text": [
            "XTrain shape (60000, 784)\n",
            "YTrain shape (60000,)\n",
            "XTest shape (10000, 784)\n",
            "YTest shape (10000,)\n"
          ]
        }
      ]
    },
    {
      "cell_type": "markdown",
      "source": [
        "One-Not encoding to 10 classes"
      ],
      "metadata": {
        "id": "WyHOF4L8zowO"
      }
    },
    {
      "cell_type": "code",
      "source": [
        "n_classes = 10\n",
        "y_train_one_hot = np_utils.to_categorical(y_train, n_classes)\n",
        "y_test_one_hot = np_utils.to_categorical(y_test, n_classes)\n",
        "print('y_train_one_hot', y_train_one_hot[1])"
      ],
      "metadata": {
        "colab": {
          "base_uri": "https://localhost:8080/"
        },
        "id": "r-7uCRWdzwtu",
        "outputId": "803b34db-17b0-42c5-8dcf-1018f90f0c3e"
      },
      "execution_count": 16,
      "outputs": [
        {
          "output_type": "stream",
          "name": "stdout",
          "text": [
            "y_train_one_hot [1. 0. 0. 0. 0. 0. 0. 0. 0. 0.]\n"
          ]
        }
      ]
    },
    {
      "cell_type": "markdown",
      "source": [
        "Final shape of training and test data"
      ],
      "metadata": {
        "id": "1awTIugH0CdM"
      }
    },
    {
      "cell_type": "code",
      "source": [
        "print('XTrain shape', x_train.shape)\n",
        "print('YTrain shape', y_train_one_hot.shape)\n",
        "print('XTest shape', x_test.shape)\n",
        "print('YTest shape', y_test_one_hot.shape)"
      ],
      "metadata": {
        "colab": {
          "base_uri": "https://localhost:8080/"
        },
        "id": "uPUflnGx0CFO",
        "outputId": "22c7b08d-c8fa-42d2-ec84-c9384a626c91"
      },
      "execution_count": 9,
      "outputs": [
        {
          "output_type": "stream",
          "name": "stdout",
          "text": [
            "XTrain shape (60000, 784)\n",
            "YTrain shape (60000, 10)\n",
            "XTest shape (10000, 784)\n",
            "YTest shape (10000, 10)\n"
          ]
        }
      ]
    },
    {
      "cell_type": "markdown",
      "source": [
        "# **Create CNN Model**"
      ],
      "metadata": {
        "id": "IWvRPlLy0Svm"
      }
    },
    {
      "cell_type": "code",
      "source": [
        "model = Sequential()"
      ],
      "metadata": {
        "id": "jca6HOtC2xlx"
      },
      "execution_count": 17,
      "outputs": []
    },
    {
      "cell_type": "markdown",
      "source": [
        "Linear layers with sequential model"
      ],
      "metadata": {
        "id": "8vyV9EhR21R_"
      }
    },
    {
      "cell_type": "code",
      "source": [
        "model.add(Conv2D(25, kernel_size=(3,3), strides=(1,1), padding='valid',\n",
        "          activation='relu', input_shape=(28,28,1)))\n",
        "model.add(MaxPool2D(pool_size=(1,1)))\n",
        "# flatten output of conv\n",
        "model.add(Flatten())\n",
        "# hidden layer\n",
        "model.add(Dense(100, activation='relu'))\n",
        "# output layer\n",
        "model.add(Dense(10, activation='softmax'))\n",
        "model.summary()"
      ],
      "metadata": {
        "colab": {
          "base_uri": "https://localhost:8080/"
        },
        "id": "BmluJhEM204d",
        "outputId": "20e3d28a-afe6-4c71-a0f0-c316afdff82b"
      },
      "execution_count": 20,
      "outputs": [
        {
          "output_type": "stream",
          "name": "stdout",
          "text": [
            "Model: \"sequential\"\n",
            "_________________________________________________________________\n",
            " Layer (type)                Output Shape              Param #   \n",
            "=================================================================\n",
            " conv2d (Conv2D)             (None, 26, 26, 25)        250       \n",
            "                                                                 \n",
            " max_pooling2d (MaxPooling2D  (None, 26, 26, 25)       0         \n",
            " )                                                               \n",
            "                                                                 \n",
            " conv2d_1 (Conv2D)           (None, 24, 24, 25)        5650      \n",
            "                                                                 \n",
            " max_pooling2d_1 (MaxPooling  (None, 24, 24, 25)       0         \n",
            " 2D)                                                             \n",
            "                                                                 \n",
            " flatten (Flatten)           (None, 14400)             0         \n",
            "                                                                 \n",
            " dense (Dense)               (None, 100)               1440100   \n",
            "                                                                 \n",
            " dense_1 (Dense)             (None, 10)                1010      \n",
            "                                                                 \n",
            "=================================================================\n",
            "Total params: 1,447,010\n",
            "Trainable params: 1,447,010\n",
            "Non-trainable params: 0\n",
            "_________________________________________________________________\n"
          ]
        }
      ]
    },
    {
      "cell_type": "markdown",
      "source": [
        "Compile and train the model"
      ],
      "metadata": {
        "id": "r-oAKjUH4FG1"
      }
    },
    {
      "cell_type": "code",
      "source": [
        "# compile the sequential model\n",
        "model.compile(loss='categorical_crossentropy', metrics=['accuracy'], optimizer='adam')\n",
        "hist = model.fit(x_train, y_train_one_hot, batch_size=128, epochs=10, validation_data=(x_test, y_test_one_hot))"
      ],
      "metadata": {
        "colab": {
          "base_uri": "https://localhost:8080/"
        },
        "id": "ofWP0Klj4Gex",
        "outputId": "5d6eb168-fce4-4ee7-fc33-fe1008a22d16"
      },
      "execution_count": null,
      "outputs": [
        {
          "output_type": "stream",
          "name": "stdout",
          "text": [
            "Epoch 1/10\n",
            "469/469 [==============================] - 126s 266ms/step - loss: 0.6107 - accuracy: 0.9389 - val_loss: 0.0803 - val_accuracy: 0.9753\n",
            "Epoch 2/10\n",
            "469/469 [==============================] - 116s 247ms/step - loss: 0.0394 - accuracy: 0.9881 - val_loss: 0.0712 - val_accuracy: 0.9791\n",
            "Epoch 3/10\n",
            "469/469 [==============================] - 103s 220ms/step - loss: 0.0179 - accuracy: 0.9939 - val_loss: 0.0771 - val_accuracy: 0.9800\n",
            "Epoch 4/10\n",
            "469/469 [==============================] - 99s 212ms/step - loss: 0.0151 - accuracy: 0.9945 - val_loss: 0.0845 - val_accuracy: 0.9803\n",
            "Epoch 5/10\n",
            "130/469 [=======>......................] - ETA: 1:08 - loss: 0.0186 - accuracy: 0.9939"
          ]
        }
      ]
    },
    {
      "cell_type": "code",
      "source": [
        ""
      ],
      "metadata": {
        "id": "JBXKVSIC6buo"
      },
      "execution_count": null,
      "outputs": []
    }
  ]
}