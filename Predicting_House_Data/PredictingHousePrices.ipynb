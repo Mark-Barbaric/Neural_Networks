{
  "nbformat": 4,
  "nbformat_minor": 0,
  "metadata": {
    "colab": {
      "name": "PredictingHousePrices.ipynb",
      "provenance": [],
      "collapsed_sections": []
    },
    "kernelspec": {
      "name": "python3",
      "display_name": "Python 3"
    }
  },
  "cells": [
    {
      "cell_type": "markdown",
      "metadata": {
        "id": "w27264HNRQOn",
        "colab_type": "text"
      },
      "source": [
        "# Medium Article - Build Your First Neural Network\n",
        "https://medium.com/intuitive-deep-learning/build-your-first-neural-network-to-predict-house-prices-with-keras-eb5db60232c\n"
      ]
    },
    {
      "cell_type": "code",
      "metadata": {
        "id": "8kq0SIwXfbom",
        "colab_type": "code",
        "colab": {}
      },
      "source": [
        "import pandas as pd\n",
        "import tensorflow as tf\n",
        "from sklearn import preprocessing\n",
        "from sklearn.model_selection import train_test_split\n",
        "from keras.models import Sequential\n",
        "from keras.layers import Dense\n",
        "import matplotlib.pyplot as plt"
      ],
      "execution_count": 0,
      "outputs": []
    },
    {
      "cell_type": "markdown",
      "metadata": {
        "id": "wsxtFhr_VV0P",
        "colab_type": "text"
      },
      "source": [
        "# Step 1 - Loading Data"
      ]
    },
    {
      "cell_type": "code",
      "metadata": {
        "id": "sSyfAZExVVOr",
        "colab_type": "code",
        "outputId": "d10211c8-d56c-4177-ac2e-bfa443f78149",
        "colab": {
          "resources": {
            "http://localhost:8080/nbextensions/google.colab/files.js": {
              "data": "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",
              "ok": true,
              "headers": [
                [
                  "content-type",
                  "application/javascript"
                ]
              ],
              "status": 200,
              "status_text": ""
            }
          },
          "base_uri": "https://localhost:8080/",
          "height": 71
        }
      },
      "source": [
        "from google.colab import files\n",
        "upload = files.upload()"
      ],
      "execution_count": 3,
      "outputs": [
        {
          "output_type": "display_data",
          "data": {
            "text/html": [
              "\n",
              "     <input type=\"file\" id=\"files-80d0f73c-fd78-450f-a75f-314a05656840\" name=\"files[]\" multiple disabled />\n",
              "     <output id=\"result-80d0f73c-fd78-450f-a75f-314a05656840\">\n",
              "      Upload widget is only available when the cell has been executed in the\n",
              "      current browser session. Please rerun this cell to enable.\n",
              "      </output>\n",
              "      <script src=\"/nbextensions/google.colab/files.js\"></script> "
            ],
            "text/plain": [
              "<IPython.core.display.HTML object>"
            ]
          },
          "metadata": {
            "tags": []
          }
        },
        {
          "output_type": "stream",
          "text": [
            "Saving housepricedata.csv to housepricedata.csv\n"
          ],
          "name": "stdout"
        }
      ]
    },
    {
      "cell_type": "code",
      "metadata": {
        "id": "9II1MX1aVsWU",
        "colab_type": "code",
        "outputId": "74293cec-20d7-43cc-90ad-5a9e3f09854d",
        "colab": {
          "base_uri": "https://localhost:8080/",
          "height": 439
        }
      },
      "source": [
        "df = pd.read_csv('housepricedata.csv')\n",
        "df"
      ],
      "execution_count": 4,
      "outputs": [
        {
          "output_type": "execute_result",
          "data": {
            "text/html": [
              "<div>\n",
              "<style scoped>\n",
              "    .dataframe tbody tr th:only-of-type {\n",
              "        vertical-align: middle;\n",
              "    }\n",
              "\n",
              "    .dataframe tbody tr th {\n",
              "        vertical-align: top;\n",
              "    }\n",
              "\n",
              "    .dataframe thead th {\n",
              "        text-align: right;\n",
              "    }\n",
              "</style>\n",
              "<table border=\"1\" class=\"dataframe\">\n",
              "  <thead>\n",
              "    <tr style=\"text-align: right;\">\n",
              "      <th></th>\n",
              "      <th>LotArea</th>\n",
              "      <th>OverallQual</th>\n",
              "      <th>OverallCond</th>\n",
              "      <th>TotalBsmtSF</th>\n",
              "      <th>FullBath</th>\n",
              "      <th>HalfBath</th>\n",
              "      <th>BedroomAbvGr</th>\n",
              "      <th>TotRmsAbvGrd</th>\n",
              "      <th>Fireplaces</th>\n",
              "      <th>GarageArea</th>\n",
              "      <th>AboveMedianPrice</th>\n",
              "    </tr>\n",
              "  </thead>\n",
              "  <tbody>\n",
              "    <tr>\n",
              "      <th>0</th>\n",
              "      <td>8450</td>\n",
              "      <td>7</td>\n",
              "      <td>5</td>\n",
              "      <td>856</td>\n",
              "      <td>2</td>\n",
              "      <td>1</td>\n",
              "      <td>3</td>\n",
              "      <td>8</td>\n",
              "      <td>0</td>\n",
              "      <td>548</td>\n",
              "      <td>1</td>\n",
              "    </tr>\n",
              "    <tr>\n",
              "      <th>1</th>\n",
              "      <td>9600</td>\n",
              "      <td>6</td>\n",
              "      <td>8</td>\n",
              "      <td>1262</td>\n",
              "      <td>2</td>\n",
              "      <td>0</td>\n",
              "      <td>3</td>\n",
              "      <td>6</td>\n",
              "      <td>1</td>\n",
              "      <td>460</td>\n",
              "      <td>1</td>\n",
              "    </tr>\n",
              "    <tr>\n",
              "      <th>2</th>\n",
              "      <td>11250</td>\n",
              "      <td>7</td>\n",
              "      <td>5</td>\n",
              "      <td>920</td>\n",
              "      <td>2</td>\n",
              "      <td>1</td>\n",
              "      <td>3</td>\n",
              "      <td>6</td>\n",
              "      <td>1</td>\n",
              "      <td>608</td>\n",
              "      <td>1</td>\n",
              "    </tr>\n",
              "    <tr>\n",
              "      <th>3</th>\n",
              "      <td>9550</td>\n",
              "      <td>7</td>\n",
              "      <td>5</td>\n",
              "      <td>756</td>\n",
              "      <td>1</td>\n",
              "      <td>0</td>\n",
              "      <td>3</td>\n",
              "      <td>7</td>\n",
              "      <td>1</td>\n",
              "      <td>642</td>\n",
              "      <td>0</td>\n",
              "    </tr>\n",
              "    <tr>\n",
              "      <th>4</th>\n",
              "      <td>14260</td>\n",
              "      <td>8</td>\n",
              "      <td>5</td>\n",
              "      <td>1145</td>\n",
              "      <td>2</td>\n",
              "      <td>1</td>\n",
              "      <td>4</td>\n",
              "      <td>9</td>\n",
              "      <td>1</td>\n",
              "      <td>836</td>\n",
              "      <td>1</td>\n",
              "    </tr>\n",
              "    <tr>\n",
              "      <th>...</th>\n",
              "      <td>...</td>\n",
              "      <td>...</td>\n",
              "      <td>...</td>\n",
              "      <td>...</td>\n",
              "      <td>...</td>\n",
              "      <td>...</td>\n",
              "      <td>...</td>\n",
              "      <td>...</td>\n",
              "      <td>...</td>\n",
              "      <td>...</td>\n",
              "      <td>...</td>\n",
              "    </tr>\n",
              "    <tr>\n",
              "      <th>1455</th>\n",
              "      <td>7917</td>\n",
              "      <td>6</td>\n",
              "      <td>5</td>\n",
              "      <td>953</td>\n",
              "      <td>2</td>\n",
              "      <td>1</td>\n",
              "      <td>3</td>\n",
              "      <td>7</td>\n",
              "      <td>1</td>\n",
              "      <td>460</td>\n",
              "      <td>1</td>\n",
              "    </tr>\n",
              "    <tr>\n",
              "      <th>1456</th>\n",
              "      <td>13175</td>\n",
              "      <td>6</td>\n",
              "      <td>6</td>\n",
              "      <td>1542</td>\n",
              "      <td>2</td>\n",
              "      <td>0</td>\n",
              "      <td>3</td>\n",
              "      <td>7</td>\n",
              "      <td>2</td>\n",
              "      <td>500</td>\n",
              "      <td>1</td>\n",
              "    </tr>\n",
              "    <tr>\n",
              "      <th>1457</th>\n",
              "      <td>9042</td>\n",
              "      <td>7</td>\n",
              "      <td>9</td>\n",
              "      <td>1152</td>\n",
              "      <td>2</td>\n",
              "      <td>0</td>\n",
              "      <td>4</td>\n",
              "      <td>9</td>\n",
              "      <td>2</td>\n",
              "      <td>252</td>\n",
              "      <td>1</td>\n",
              "    </tr>\n",
              "    <tr>\n",
              "      <th>1458</th>\n",
              "      <td>9717</td>\n",
              "      <td>5</td>\n",
              "      <td>6</td>\n",
              "      <td>1078</td>\n",
              "      <td>1</td>\n",
              "      <td>0</td>\n",
              "      <td>2</td>\n",
              "      <td>5</td>\n",
              "      <td>0</td>\n",
              "      <td>240</td>\n",
              "      <td>0</td>\n",
              "    </tr>\n",
              "    <tr>\n",
              "      <th>1459</th>\n",
              "      <td>9937</td>\n",
              "      <td>5</td>\n",
              "      <td>6</td>\n",
              "      <td>1256</td>\n",
              "      <td>1</td>\n",
              "      <td>1</td>\n",
              "      <td>3</td>\n",
              "      <td>6</td>\n",
              "      <td>0</td>\n",
              "      <td>276</td>\n",
              "      <td>0</td>\n",
              "    </tr>\n",
              "  </tbody>\n",
              "</table>\n",
              "<p>1460 rows × 11 columns</p>\n",
              "</div>"
            ],
            "text/plain": [
              "      LotArea  OverallQual  ...  GarageArea  AboveMedianPrice\n",
              "0        8450            7  ...         548                 1\n",
              "1        9600            6  ...         460                 1\n",
              "2       11250            7  ...         608                 1\n",
              "3        9550            7  ...         642                 0\n",
              "4       14260            8  ...         836                 1\n",
              "...       ...          ...  ...         ...               ...\n",
              "1455     7917            6  ...         460                 1\n",
              "1456    13175            6  ...         500                 1\n",
              "1457     9042            7  ...         252                 1\n",
              "1458     9717            5  ...         240                 0\n",
              "1459     9937            5  ...         276                 0\n",
              "\n",
              "[1460 rows x 11 columns]"
            ]
          },
          "metadata": {
            "tags": []
          },
          "execution_count": 4
        }
      ]
    },
    {
      "cell_type": "markdown",
      "metadata": {
        "id": "5V8xG116YLiN",
        "colab_type": "text"
      },
      "source": [
        "# Step 2 - Cleaning Data"
      ]
    },
    {
      "cell_type": "markdown",
      "metadata": {
        "id": "TLC3mYQTWR46",
        "colab_type": "text"
      },
      "source": [
        "Convert panda to array."
      ]
    },
    {
      "cell_type": "code",
      "metadata": {
        "id": "hibDtNtoWLrG",
        "colab_type": "code",
        "outputId": "6701579d-86b6-409a-db1d-ae259a0e1d46",
        "colab": {
          "base_uri": "https://localhost:8080/",
          "height": 136
        }
      },
      "source": [
        "dataset = df.values\n",
        "dataset"
      ],
      "execution_count": 5,
      "outputs": [
        {
          "output_type": "execute_result",
          "data": {
            "text/plain": [
              "array([[ 8450,     7,     5, ...,     0,   548,     1],\n",
              "       [ 9600,     6,     8, ...,     1,   460,     1],\n",
              "       [11250,     7,     5, ...,     1,   608,     1],\n",
              "       ...,\n",
              "       [ 9042,     7,     9, ...,     2,   252,     1],\n",
              "       [ 9717,     5,     6, ...,     0,   240,     0],\n",
              "       [ 9937,     5,     6, ...,     0,   276,     0]])"
            ]
          },
          "metadata": {
            "tags": []
          },
          "execution_count": 5
        }
      ]
    },
    {
      "cell_type": "code",
      "metadata": {
        "id": "HXw5n1RcWh1q",
        "colab_type": "code",
        "colab": {}
      },
      "source": [
        "x = dataset[:,0:10]\n",
        "y = dataset[:, 10]"
      ],
      "execution_count": 0,
      "outputs": []
    },
    {
      "cell_type": "markdown",
      "metadata": {
        "id": "4mA-Stv0WtEq",
        "colab_type": "text"
      },
      "source": [
        "Normalize x array to improve training."
      ]
    },
    {
      "cell_type": "code",
      "metadata": {
        "id": "CC9f2yl0W7oj",
        "colab_type": "code",
        "outputId": "7bdfb646-66b9-4593-a3b6-df5c6bb76483",
        "colab": {
          "base_uri": "https://localhost:8080/",
          "height": 238
        }
      },
      "source": [
        "min_max_scaler = preprocessing.MinMaxScaler()\n",
        "scaled_x = min_max_scaler.fit_transform(x)\n",
        "scaled_x"
      ],
      "execution_count": 7,
      "outputs": [
        {
          "output_type": "execute_result",
          "data": {
            "text/plain": [
              "array([[0.0334198 , 0.66666667, 0.5       , ..., 0.5       , 0.        ,\n",
              "        0.3864598 ],\n",
              "       [0.03879502, 0.55555556, 0.875     , ..., 0.33333333, 0.33333333,\n",
              "        0.32440056],\n",
              "       [0.04650728, 0.66666667, 0.5       , ..., 0.33333333, 0.33333333,\n",
              "        0.42877292],\n",
              "       ...,\n",
              "       [0.03618687, 0.66666667, 1.        , ..., 0.58333333, 0.66666667,\n",
              "        0.17771509],\n",
              "       [0.03934189, 0.44444444, 0.625     , ..., 0.25      , 0.        ,\n",
              "        0.16925247],\n",
              "       [0.04037019, 0.44444444, 0.625     , ..., 0.33333333, 0.        ,\n",
              "        0.19464034]])"
            ]
          },
          "metadata": {
            "tags": []
          },
          "execution_count": 7
        }
      ]
    },
    {
      "cell_type": "markdown",
      "metadata": {
        "id": "pQytOoi8YTBI",
        "colab_type": "text"
      },
      "source": [
        "# Step 3 - Test / Train Data\n",
        "\n",
        "Last step in processing data which involves splitting dataset into a training set, a validation set and test set.\n",
        "\n",
        "We now have a total of six variables for our datasets we will use:\n",
        "\n",
        "*   x_train (10 input features, 70% of full dataset)\n",
        "*   x_val (10 input features, 15% of full dataset)\n",
        "*   x_test (10 input features, 15% of full dataset)\n",
        "*   y_train (1 label, 70% of full dataset)\n",
        "*   y_val (1 label, 15% of full dataset)\n",
        "*   y_test (1 label, 15% of full dataset)"
      ]
    },
    {
      "cell_type": "code",
      "metadata": {
        "id": "GPqf1TGXYaqu",
        "colab_type": "code",
        "outputId": "7c828d85-f01c-4fc7-d089-ece193d4ce57",
        "colab": {
          "base_uri": "https://localhost:8080/",
          "height": 34
        }
      },
      "source": [
        "x_train, x_val_and_test, y_train, y_val_and_test = train_test_split(scaled_x, y, test_size = 0.3)\n",
        "x_val, x_test, y_val, y_test = train_test_split(x_val_and_test, y_val_and_test, test_size = 0.5)\n",
        "print(x_train.shape, x_val.shape, x_test.shape, y_train.shape, y_val.shape, y_test.shape)"
      ],
      "execution_count": 8,
      "outputs": [
        {
          "output_type": "stream",
          "text": [
            "(1022, 10) (219, 10) (219, 10) (1022,) (219,) (219,)\n"
          ],
          "name": "stdout"
        }
      ]
    },
    {
      "cell_type": "markdown",
      "metadata": {
        "id": "Z9L_TRMybeS4",
        "colab_type": "text"
      },
      "source": [
        "# Step 4 - Building and Training The Neural Network\n",
        "\n",
        "In words, we want to have these layers:\n",
        "\n",
        "*   Hidden layer 1: 32 neurons, ReLU activation\n",
        "*   Hidden layer 2: 32 neurons, ReLU activation\n",
        "*   Output Layer: 1 neuron, Sigmoid activation\n",
        "\n",
        "![alt text](https://miro.medium.com/max/1366/1*n-SIfloaWQxvQ5XMgnKmRA.png)"
      ]
    },
    {
      "cell_type": "code",
      "metadata": {
        "id": "hzM5zS_WewGC",
        "colab_type": "code",
        "colab": {}
      },
      "source": [
        "# specifying our sequential model.\n",
        "model = tf.keras.Sequential([tf.keras.layers.Dense(32, activation = 'relu', input_shape = (10,)),\n",
        "                    tf.keras.layers.Dense(32, activation = 'relu'),\n",
        "                    tf.keras.layers.Dense(1, activation = 'sigmoid')])"
      ],
      "execution_count": 0,
      "outputs": []
    },
    {
      "cell_type": "code",
      "metadata": {
        "id": "eZSk2ONSryQm",
        "colab_type": "code",
        "colab": {
          "base_uri": "https://localhost:8080/",
          "height": 369
        },
        "outputId": "be8cf468-ca5e-450b-a4d0-3d5e35af535b"
      },
      "source": [
        "tf.keras.utils.plot_model(\n",
        "    model, to_file='model.png', show_shapes=False, show_layer_names=True,\n",
        "    rankdir='TB', expand_nested=False, dpi=96\n",
        ")"
      ],
      "execution_count": 13,
      "outputs": [
        {
          "output_type": "execute_result",
          "data": {
            "image/png": "[encoded data removed]",
            "text/plain": [
              "<IPython.core.display.Image object>"
            ]
          },
          "metadata": {
            "tags": []
          },
          "execution_count": 13
        }
      ]
    },
    {
      "cell_type": "code",
      "metadata": {
        "id": "Rf8GEYJqhl8j",
        "colab_type": "code",
        "colab": {}
      },
      "source": [
        "# configure the model\n",
        "model.compile(optimizer = 'sgd', loss = 'binary_crossentropy',\n",
        "              metrics = ['accuracy'])"
      ],
      "execution_count": 0,
      "outputs": []
    },
    {
      "cell_type": "code",
      "metadata": {
        "id": "PASwmiLUiCyn",
        "colab_type": "code",
        "outputId": "dc9d3f24-3153-4387-b8c4-b3e4ddceebe8",
        "colab": {
          "base_uri": "https://localhost:8080/",
          "height": 1000
        }
      },
      "source": [
        "hist = model.fit(x_train, y_train,\n",
        "                 batch_size = 32, epochs = 100,\n",
        "                 validation_data = (x_val, y_val))"
      ],
      "execution_count": 11,
      "outputs": [
        {
          "output_type": "stream",
          "text": [
            "Epoch 1/100\n",
            "32/32 [==============================] - 0s 7ms/step - loss: 0.6914 - accuracy: 0.4951 - val_loss: 0.6820 - val_accuracy: 0.5160\n",
            "Epoch 2/100\n",
            "32/32 [==============================] - 0s 2ms/step - loss: 0.6823 - accuracy: 0.5000 - val_loss: 0.6755 - val_accuracy: 0.5297\n",
            "Epoch 3/100\n",
            "32/32 [==============================] - 0s 2ms/step - loss: 0.6755 - accuracy: 0.5088 - val_loss: 0.6702 - val_accuracy: 0.5297\n",
            "Epoch 4/100\n",
            "32/32 [==============================] - 0s 2ms/step - loss: 0.6699 - accuracy: 0.5333 - val_loss: 0.6656 - val_accuracy: 0.5753\n",
            "Epoch 5/100\n",
            "32/32 [==============================] - 0s 2ms/step - loss: 0.6652 - accuracy: 0.6047 - val_loss: 0.6611 - val_accuracy: 0.6301\n",
            "Epoch 6/100\n",
            "32/32 [==============================] - 0s 2ms/step - loss: 0.6608 - accuracy: 0.6614 - val_loss: 0.6569 - val_accuracy: 0.7169\n",
            "Epoch 7/100\n",
            "32/32 [==============================] - 0s 2ms/step - loss: 0.6565 - accuracy: 0.7632 - val_loss: 0.6525 - val_accuracy: 0.7352\n",
            "Epoch 8/100\n",
            "32/32 [==============================] - 0s 2ms/step - loss: 0.6520 - accuracy: 0.7613 - val_loss: 0.6483 - val_accuracy: 0.7808\n",
            "Epoch 9/100\n",
            "32/32 [==============================] - 0s 2ms/step - loss: 0.6476 - accuracy: 0.8170 - val_loss: 0.6437 - val_accuracy: 0.7945\n",
            "Epoch 10/100\n",
            "32/32 [==============================] - 0s 2ms/step - loss: 0.6432 - accuracy: 0.8014 - val_loss: 0.6390 - val_accuracy: 0.8082\n",
            "Epoch 11/100\n",
            "32/32 [==============================] - 0s 2ms/step - loss: 0.6386 - accuracy: 0.8307 - val_loss: 0.6340 - val_accuracy: 0.8219\n",
            "Epoch 12/100\n",
            "32/32 [==============================] - 0s 3ms/step - loss: 0.6338 - accuracy: 0.8288 - val_loss: 0.6289 - val_accuracy: 0.8174\n",
            "Epoch 13/100\n",
            "32/32 [==============================] - 0s 2ms/step - loss: 0.6287 - accuracy: 0.8327 - val_loss: 0.6235 - val_accuracy: 0.8219\n",
            "Epoch 14/100\n",
            "32/32 [==============================] - 0s 2ms/step - loss: 0.6232 - accuracy: 0.8386 - val_loss: 0.6178 - val_accuracy: 0.8265\n",
            "Epoch 15/100\n",
            "32/32 [==============================] - 0s 2ms/step - loss: 0.6175 - accuracy: 0.8415 - val_loss: 0.6117 - val_accuracy: 0.8265\n",
            "Epoch 16/100\n",
            "32/32 [==============================] - 0s 2ms/step - loss: 0.6114 - accuracy: 0.8474 - val_loss: 0.6053 - val_accuracy: 0.8219\n",
            "Epoch 17/100\n",
            "32/32 [==============================] - 0s 2ms/step - loss: 0.6051 - accuracy: 0.8434 - val_loss: 0.5987 - val_accuracy: 0.8219\n",
            "Epoch 18/100\n",
            "32/32 [==============================] - 0s 2ms/step - loss: 0.5984 - accuracy: 0.8474 - val_loss: 0.5916 - val_accuracy: 0.8219\n",
            "Epoch 19/100\n",
            "32/32 [==============================] - 0s 2ms/step - loss: 0.5911 - accuracy: 0.8454 - val_loss: 0.5842 - val_accuracy: 0.8265\n",
            "Epoch 20/100\n",
            "32/32 [==============================] - 0s 2ms/step - loss: 0.5837 - accuracy: 0.8532 - val_loss: 0.5762 - val_accuracy: 0.8265\n",
            "Epoch 21/100\n",
            "32/32 [==============================] - 0s 2ms/step - loss: 0.5759 - accuracy: 0.8513 - val_loss: 0.5683 - val_accuracy: 0.8311\n",
            "Epoch 22/100\n",
            "32/32 [==============================] - 0s 2ms/step - loss: 0.5680 - accuracy: 0.8591 - val_loss: 0.5594 - val_accuracy: 0.8311\n",
            "Epoch 23/100\n",
            "32/32 [==============================] - 0s 2ms/step - loss: 0.5598 - accuracy: 0.8532 - val_loss: 0.5506 - val_accuracy: 0.8219\n",
            "Epoch 24/100\n",
            "32/32 [==============================] - 0s 2ms/step - loss: 0.5510 - accuracy: 0.8503 - val_loss: 0.5415 - val_accuracy: 0.8265\n",
            "Epoch 25/100\n",
            "32/32 [==============================] - 0s 2ms/step - loss: 0.5421 - accuracy: 0.8493 - val_loss: 0.5324 - val_accuracy: 0.8447\n",
            "Epoch 26/100\n",
            "32/32 [==============================] - 0s 2ms/step - loss: 0.5332 - accuracy: 0.8523 - val_loss: 0.5228 - val_accuracy: 0.8493\n",
            "Epoch 27/100\n",
            "32/32 [==============================] - 0s 2ms/step - loss: 0.5239 - accuracy: 0.8523 - val_loss: 0.5133 - val_accuracy: 0.8493\n",
            "Epoch 28/100\n",
            "32/32 [==============================] - 0s 2ms/step - loss: 0.5141 - accuracy: 0.8562 - val_loss: 0.5039 - val_accuracy: 0.8584\n",
            "Epoch 29/100\n",
            "32/32 [==============================] - 0s 3ms/step - loss: 0.5049 - accuracy: 0.8562 - val_loss: 0.4938 - val_accuracy: 0.8584\n",
            "Epoch 30/100\n",
            "32/32 [==============================] - 0s 3ms/step - loss: 0.4955 - accuracy: 0.8552 - val_loss: 0.4840 - val_accuracy: 0.8584\n",
            "Epoch 31/100\n",
            "32/32 [==============================] - 0s 2ms/step - loss: 0.4859 - accuracy: 0.8611 - val_loss: 0.4742 - val_accuracy: 0.8584\n",
            "Epoch 32/100\n",
            "32/32 [==============================] - 0s 2ms/step - loss: 0.4768 - accuracy: 0.8552 - val_loss: 0.4647 - val_accuracy: 0.8539\n",
            "Epoch 33/100\n",
            "32/32 [==============================] - 0s 2ms/step - loss: 0.4674 - accuracy: 0.8591 - val_loss: 0.4553 - val_accuracy: 0.8584\n",
            "Epoch 34/100\n",
            "32/32 [==============================] - 0s 2ms/step - loss: 0.4589 - accuracy: 0.8562 - val_loss: 0.4462 - val_accuracy: 0.8584\n",
            "Epoch 35/100\n",
            "32/32 [==============================] - 0s 2ms/step - loss: 0.4502 - accuracy: 0.8562 - val_loss: 0.4374 - val_accuracy: 0.8584\n",
            "Epoch 36/100\n",
            "32/32 [==============================] - 0s 2ms/step - loss: 0.4418 - accuracy: 0.8591 - val_loss: 0.4289 - val_accuracy: 0.8584\n",
            "Epoch 37/100\n",
            "32/32 [==============================] - 0s 2ms/step - loss: 0.4338 - accuracy: 0.8562 - val_loss: 0.4207 - val_accuracy: 0.8630\n",
            "Epoch 38/100\n",
            "32/32 [==============================] - 0s 2ms/step - loss: 0.4257 - accuracy: 0.8591 - val_loss: 0.4130 - val_accuracy: 0.8630\n",
            "Epoch 39/100\n",
            "32/32 [==============================] - 0s 3ms/step - loss: 0.4185 - accuracy: 0.8630 - val_loss: 0.4053 - val_accuracy: 0.8676\n",
            "Epoch 40/100\n",
            "32/32 [==============================] - 0s 2ms/step - loss: 0.4114 - accuracy: 0.8591 - val_loss: 0.3983 - val_accuracy: 0.8630\n",
            "Epoch 41/100\n",
            "32/32 [==============================] - 0s 2ms/step - loss: 0.4052 - accuracy: 0.8601 - val_loss: 0.3914 - val_accuracy: 0.8630\n",
            "Epoch 42/100\n",
            "32/32 [==============================] - 0s 2ms/step - loss: 0.3988 - accuracy: 0.8601 - val_loss: 0.3850 - val_accuracy: 0.8676\n",
            "Epoch 43/100\n",
            "32/32 [==============================] - 0s 2ms/step - loss: 0.3931 - accuracy: 0.8611 - val_loss: 0.3790 - val_accuracy: 0.8676\n",
            "Epoch 44/100\n",
            "32/32 [==============================] - 0s 3ms/step - loss: 0.3871 - accuracy: 0.8630 - val_loss: 0.3733 - val_accuracy: 0.8676\n",
            "Epoch 45/100\n",
            "32/32 [==============================] - 0s 2ms/step - loss: 0.3822 - accuracy: 0.8659 - val_loss: 0.3676 - val_accuracy: 0.8676\n",
            "Epoch 46/100\n",
            "32/32 [==============================] - 0s 2ms/step - loss: 0.3767 - accuracy: 0.8669 - val_loss: 0.3625 - val_accuracy: 0.8676\n",
            "Epoch 47/100\n",
            "32/32 [==============================] - 0s 2ms/step - loss: 0.3726 - accuracy: 0.8611 - val_loss: 0.3579 - val_accuracy: 0.8630\n",
            "Epoch 48/100\n",
            "32/32 [==============================] - 0s 2ms/step - loss: 0.3679 - accuracy: 0.8630 - val_loss: 0.3538 - val_accuracy: 0.8630\n",
            "Epoch 49/100\n",
            "32/32 [==============================] - 0s 2ms/step - loss: 0.3637 - accuracy: 0.8669 - val_loss: 0.3491 - val_accuracy: 0.8630\n",
            "Epoch 50/100\n",
            "32/32 [==============================] - 0s 2ms/step - loss: 0.3601 - accuracy: 0.8659 - val_loss: 0.3445 - val_accuracy: 0.8721\n",
            "Epoch 51/100\n",
            "32/32 [==============================] - 0s 2ms/step - loss: 0.3566 - accuracy: 0.8620 - val_loss: 0.3412 - val_accuracy: 0.8630\n",
            "Epoch 52/100\n",
            "32/32 [==============================] - 0s 2ms/step - loss: 0.3527 - accuracy: 0.8679 - val_loss: 0.3370 - val_accuracy: 0.8676\n",
            "Epoch 53/100\n",
            "32/32 [==============================] - 0s 2ms/step - loss: 0.3498 - accuracy: 0.8659 - val_loss: 0.3335 - val_accuracy: 0.8676\n",
            "Epoch 54/100\n",
            "32/32 [==============================] - 0s 2ms/step - loss: 0.3469 - accuracy: 0.8679 - val_loss: 0.3303 - val_accuracy: 0.8676\n",
            "Epoch 55/100\n",
            "32/32 [==============================] - 0s 2ms/step - loss: 0.3437 - accuracy: 0.8699 - val_loss: 0.3273 - val_accuracy: 0.8676\n",
            "Epoch 56/100\n",
            "32/32 [==============================] - 0s 2ms/step - loss: 0.3414 - accuracy: 0.8669 - val_loss: 0.3244 - val_accuracy: 0.8676\n",
            "Epoch 57/100\n",
            "32/32 [==============================] - 0s 2ms/step - loss: 0.3388 - accuracy: 0.8659 - val_loss: 0.3213 - val_accuracy: 0.8676\n",
            "Epoch 58/100\n",
            "32/32 [==============================] - 0s 2ms/step - loss: 0.3362 - accuracy: 0.8708 - val_loss: 0.3186 - val_accuracy: 0.8676\n",
            "Epoch 59/100\n",
            "32/32 [==============================] - 0s 3ms/step - loss: 0.3341 - accuracy: 0.8669 - val_loss: 0.3160 - val_accuracy: 0.8676\n",
            "Epoch 60/100\n",
            "32/32 [==============================] - 0s 2ms/step - loss: 0.3319 - accuracy: 0.8699 - val_loss: 0.3147 - val_accuracy: 0.8676\n",
            "Epoch 61/100\n",
            "32/32 [==============================] - 0s 2ms/step - loss: 0.3305 - accuracy: 0.8679 - val_loss: 0.3131 - val_accuracy: 0.8676\n",
            "Epoch 62/100\n",
            "32/32 [==============================] - 0s 2ms/step - loss: 0.3280 - accuracy: 0.8708 - val_loss: 0.3092 - val_accuracy: 0.8676\n",
            "Epoch 63/100\n",
            "32/32 [==============================] - 0s 2ms/step - loss: 0.3258 - accuracy: 0.8718 - val_loss: 0.3074 - val_accuracy: 0.8676\n",
            "Epoch 64/100\n",
            "32/32 [==============================] - 0s 2ms/step - loss: 0.3244 - accuracy: 0.8728 - val_loss: 0.3050 - val_accuracy: 0.8676\n",
            "Epoch 65/100\n",
            "32/32 [==============================] - 0s 2ms/step - loss: 0.3229 - accuracy: 0.8699 - val_loss: 0.3048 - val_accuracy: 0.8676\n",
            "Epoch 66/100\n",
            "32/32 [==============================] - 0s 2ms/step - loss: 0.3214 - accuracy: 0.8718 - val_loss: 0.3025 - val_accuracy: 0.8676\n",
            "Epoch 67/100\n",
            "32/32 [==============================] - 0s 3ms/step - loss: 0.3201 - accuracy: 0.8718 - val_loss: 0.3007 - val_accuracy: 0.8676\n",
            "Epoch 68/100\n",
            "32/32 [==============================] - 0s 2ms/step - loss: 0.3182 - accuracy: 0.8748 - val_loss: 0.2978 - val_accuracy: 0.8721\n",
            "Epoch 69/100\n",
            "32/32 [==============================] - 0s 2ms/step - loss: 0.3169 - accuracy: 0.8718 - val_loss: 0.2987 - val_accuracy: 0.8676\n",
            "Epoch 70/100\n",
            "32/32 [==============================] - 0s 2ms/step - loss: 0.3160 - accuracy: 0.8699 - val_loss: 0.2971 - val_accuracy: 0.8721\n",
            "Epoch 71/100\n",
            "32/32 [==============================] - 0s 2ms/step - loss: 0.3144 - accuracy: 0.8738 - val_loss: 0.2940 - val_accuracy: 0.8676\n",
            "Epoch 72/100\n",
            "32/32 [==============================] - 0s 3ms/step - loss: 0.3132 - accuracy: 0.8738 - val_loss: 0.2931 - val_accuracy: 0.8630\n",
            "Epoch 73/100\n",
            "32/32 [==============================] - 0s 2ms/step - loss: 0.3118 - accuracy: 0.8699 - val_loss: 0.2915 - val_accuracy: 0.8721\n",
            "Epoch 74/100\n",
            "32/32 [==============================] - 0s 2ms/step - loss: 0.3109 - accuracy: 0.8708 - val_loss: 0.2913 - val_accuracy: 0.8721\n",
            "Epoch 75/100\n",
            "32/32 [==============================] - 0s 2ms/step - loss: 0.3100 - accuracy: 0.8767 - val_loss: 0.2904 - val_accuracy: 0.8721\n",
            "Epoch 76/100\n",
            "32/32 [==============================] - 0s 2ms/step - loss: 0.3089 - accuracy: 0.8748 - val_loss: 0.2875 - val_accuracy: 0.8721\n",
            "Epoch 77/100\n",
            "32/32 [==============================] - 0s 2ms/step - loss: 0.3084 - accuracy: 0.8738 - val_loss: 0.2860 - val_accuracy: 0.8721\n",
            "Epoch 78/100\n",
            "32/32 [==============================] - 0s 2ms/step - loss: 0.3067 - accuracy: 0.8767 - val_loss: 0.2847 - val_accuracy: 0.8721\n",
            "Epoch 79/100\n",
            "32/32 [==============================] - 0s 2ms/step - loss: 0.3057 - accuracy: 0.8718 - val_loss: 0.2847 - val_accuracy: 0.8767\n",
            "Epoch 80/100\n",
            "32/32 [==============================] - 0s 2ms/step - loss: 0.3051 - accuracy: 0.8748 - val_loss: 0.2829 - val_accuracy: 0.8721\n",
            "Epoch 81/100\n",
            "32/32 [==============================] - 0s 2ms/step - loss: 0.3039 - accuracy: 0.8718 - val_loss: 0.2816 - val_accuracy: 0.8721\n",
            "Epoch 82/100\n",
            "32/32 [==============================] - 0s 3ms/step - loss: 0.3034 - accuracy: 0.8748 - val_loss: 0.2810 - val_accuracy: 0.8721\n",
            "Epoch 83/100\n",
            "32/32 [==============================] - 0s 2ms/step - loss: 0.3021 - accuracy: 0.8757 - val_loss: 0.2810 - val_accuracy: 0.8767\n",
            "Epoch 84/100\n",
            "32/32 [==============================] - 0s 2ms/step - loss: 0.3007 - accuracy: 0.8738 - val_loss: 0.2782 - val_accuracy: 0.8721\n",
            "Epoch 85/100\n",
            "32/32 [==============================] - 0s 2ms/step - loss: 0.3006 - accuracy: 0.8748 - val_loss: 0.2796 - val_accuracy: 0.8767\n",
            "Epoch 86/100\n",
            "32/32 [==============================] - 0s 3ms/step - loss: 0.2998 - accuracy: 0.8728 - val_loss: 0.2770 - val_accuracy: 0.8721\n",
            "Epoch 87/100\n",
            "32/32 [==============================] - 0s 2ms/step - loss: 0.2998 - accuracy: 0.8767 - val_loss: 0.2777 - val_accuracy: 0.8767\n",
            "Epoch 88/100\n",
            "32/32 [==============================] - 0s 2ms/step - loss: 0.2986 - accuracy: 0.8757 - val_loss: 0.2759 - val_accuracy: 0.8767\n",
            "Epoch 89/100\n",
            "32/32 [==============================] - 0s 3ms/step - loss: 0.2979 - accuracy: 0.8757 - val_loss: 0.2778 - val_accuracy: 0.8721\n",
            "Epoch 90/100\n",
            "32/32 [==============================] - 0s 2ms/step - loss: 0.2970 - accuracy: 0.8708 - val_loss: 0.2747 - val_accuracy: 0.8767\n",
            "Epoch 91/100\n",
            "32/32 [==============================] - 0s 3ms/step - loss: 0.2957 - accuracy: 0.8728 - val_loss: 0.2736 - val_accuracy: 0.8767\n",
            "Epoch 92/100\n",
            "32/32 [==============================] - 0s 2ms/step - loss: 0.2952 - accuracy: 0.8777 - val_loss: 0.2716 - val_accuracy: 0.8721\n",
            "Epoch 93/100\n",
            "32/32 [==============================] - 0s 2ms/step - loss: 0.2953 - accuracy: 0.8757 - val_loss: 0.2752 - val_accuracy: 0.8721\n",
            "Epoch 94/100\n",
            "32/32 [==============================] - 0s 2ms/step - loss: 0.2947 - accuracy: 0.8718 - val_loss: 0.2700 - val_accuracy: 0.8767\n",
            "Epoch 95/100\n",
            "32/32 [==============================] - 0s 3ms/step - loss: 0.2934 - accuracy: 0.8748 - val_loss: 0.2698 - val_accuracy: 0.8767\n",
            "Epoch 96/100\n",
            "32/32 [==============================] - 0s 2ms/step - loss: 0.2928 - accuracy: 0.8796 - val_loss: 0.2684 - val_accuracy: 0.8767\n",
            "Epoch 97/100\n",
            "32/32 [==============================] - 0s 2ms/step - loss: 0.2925 - accuracy: 0.8787 - val_loss: 0.2678 - val_accuracy: 0.8767\n",
            "Epoch 98/100\n",
            "32/32 [==============================] - 0s 2ms/step - loss: 0.2919 - accuracy: 0.8816 - val_loss: 0.2687 - val_accuracy: 0.8767\n",
            "Epoch 99/100\n",
            "32/32 [==============================] - 0s 2ms/step - loss: 0.2912 - accuracy: 0.8757 - val_loss: 0.2702 - val_accuracy: 0.8767\n",
            "Epoch 100/100\n",
            "32/32 [==============================] - 0s 2ms/step - loss: 0.2903 - accuracy: 0.8777 - val_loss: 0.2660 - val_accuracy: 0.8767\n"
          ],
          "name": "stdout"
        }
      ]
    },
    {
      "cell_type": "code",
      "metadata": {
        "id": "Gdn-gFXoi5sp",
        "colab_type": "code",
        "outputId": "9d5d262e-d5cc-4f29-c717-9ca1332e78ac",
        "colab": {
          "base_uri": "https://localhost:8080/",
          "height": 71
        }
      },
      "source": [
        "model.evaluate(x_test, y_test)[1]"
      ],
      "execution_count": 12,
      "outputs": [
        {
          "output_type": "stream",
          "text": [
            "7/7 [==============================] - 0s 1ms/step - loss: 0.2207 - accuracy: 0.9361\n"
          ],
          "name": "stdout"
        },
        {
          "output_type": "execute_result",
          "data": {
            "text/plain": [
              "0.9360730648040771"
            ]
          },
          "metadata": {
            "tags": []
          },
          "execution_count": 12
        }
      ]
    },
    {
      "cell_type": "markdown",
      "metadata": {
        "id": "bDM7bAMyrsnX",
        "colab_type": "text"
      },
      "source": [
        "# Step 4 - Analyzing Loss and Accuracy"
      ]
    },
    {
      "cell_type": "code",
      "metadata": {
        "id": "GuQ-gZnGzcnN",
        "colab_type": "code",
        "colab": {
          "base_uri": "https://localhost:8080/",
          "height": 295
        },
        "outputId": "4e271b19-3a9c-43de-b738-bcf3119fa7b8"
      },
      "source": [
        "plt.plot(hist.history['accuracy'])\n",
        "plt.plot(hist.history['val_accuracy'])\n",
        "plt.title('Model accuracy')\n",
        "plt.ylabel('Accuracy')\n",
        "plt.xlabel('Epoch')\n",
        "plt.legend(['Train', 'Val'], loc = 'lower right')\n",
        "plt.show()"
      ],
      "execution_count": 17,
      "outputs": [
        {
          "output_type": "display_data",
          "data": {
            "image/png": "[encoded data removed]",
            "text/plain": [
              "<Figure size 432x288 with 1 Axes>"
            ]
          },
          "metadata": {
            "tags": []
          }
        }
      ]
    },
    {
      "cell_type": "markdown",
      "metadata": {
        "id": "v1iJqFkB0zxZ",
        "colab_type": "text"
      },
      "source": [
        "## Simulating Overfitting\n",
        "\n",
        "Introducing regularization to formulate a neural network which badly overfits."
      ]
    },
    {
      "cell_type": "code",
      "metadata": {
        "id": "JbnU9RJa1OXd",
        "colab_type": "code",
        "colab": {
          "base_uri": "https://localhost:8080/",
          "height": 1000
        },
        "outputId": "adc806a3-7281-40dc-d1ac-3ca91ce047a1"
      },
      "source": [
        "model_2 = tf.keras.Sequential([\n",
        "    tf.keras.layers.Dense(1000, activation='relu', input_shape=(10,)),\n",
        "    tf.keras.layers.Dense(1000, activation='relu'),\n",
        "    tf.keras.layers.Dense(1000, activation='relu'),\n",
        "    tf.keras.layers.Dense(1000, activation='relu'),\n",
        "    tf.keras.layers.Dense(1, activation='sigmoid'),\n",
        "])\n",
        "\n",
        "model_2.compile(optimizer = 'adam',\n",
        "                  loss = 'binary_crossentropy',\n",
        "                  metrics = ['accuracy'])\n",
        "\n",
        "hist_2 = model_2.fit(x_train, y_train,\n",
        "                     batch_size = 32, epochs = 100,\n",
        "                     validation_data = (x_val, y_val))"
      ],
      "execution_count": 23,
      "outputs": [
        {
          "output_type": "stream",
          "text": [
            "Epoch 1/100\n",
            "32/32 [==============================] - 1s 34ms/step - loss: 0.5199 - accuracy: 0.7583 - val_loss: 0.3885 - val_accuracy: 0.8584\n",
            "Epoch 2/100\n",
            "32/32 [==============================] - 1s 32ms/step - loss: 0.3775 - accuracy: 0.8532 - val_loss: 0.3312 - val_accuracy: 0.8813\n",
            "Epoch 3/100\n",
            "32/32 [==============================] - 1s 32ms/step - loss: 0.3364 - accuracy: 0.8630 - val_loss: 0.2876 - val_accuracy: 0.8630\n",
            "Epoch 4/100\n",
            "32/32 [==============================] - 1s 32ms/step - loss: 0.3136 - accuracy: 0.8708 - val_loss: 0.2845 - val_accuracy: 0.9041\n",
            "Epoch 5/100\n",
            "32/32 [==============================] - 1s 32ms/step - loss: 0.2820 - accuracy: 0.8914 - val_loss: 0.2687 - val_accuracy: 0.8813\n",
            "Epoch 6/100\n",
            "32/32 [==============================] - 1s 32ms/step - loss: 0.2717 - accuracy: 0.8894 - val_loss: 0.2423 - val_accuracy: 0.9132\n",
            "Epoch 7/100\n",
            "32/32 [==============================] - 1s 32ms/step - loss: 0.3030 - accuracy: 0.8659 - val_loss: 0.2713 - val_accuracy: 0.9041\n",
            "Epoch 8/100\n",
            "32/32 [==============================] - 1s 33ms/step - loss: 0.2860 - accuracy: 0.8650 - val_loss: 0.2445 - val_accuracy: 0.9041\n",
            "Epoch 9/100\n",
            "32/32 [==============================] - 1s 32ms/step - loss: 0.2706 - accuracy: 0.8787 - val_loss: 0.2639 - val_accuracy: 0.8950\n",
            "Epoch 10/100\n",
            "32/32 [==============================] - 1s 33ms/step - loss: 0.2580 - accuracy: 0.8953 - val_loss: 0.2401 - val_accuracy: 0.9087\n",
            "Epoch 11/100\n",
            "32/32 [==============================] - 1s 32ms/step - loss: 0.2482 - accuracy: 0.8953 - val_loss: 0.2255 - val_accuracy: 0.9087\n",
            "Epoch 12/100\n",
            "32/32 [==============================] - 1s 32ms/step - loss: 0.2599 - accuracy: 0.8845 - val_loss: 0.2492 - val_accuracy: 0.9041\n",
            "Epoch 13/100\n",
            "32/32 [==============================] - 1s 34ms/step - loss: 0.2353 - accuracy: 0.9041 - val_loss: 0.2152 - val_accuracy: 0.9224\n",
            "Epoch 14/100\n",
            "32/32 [==============================] - 1s 33ms/step - loss: 0.2353 - accuracy: 0.9041 - val_loss: 0.2167 - val_accuracy: 0.9087\n",
            "Epoch 15/100\n",
            "32/32 [==============================] - 1s 33ms/step - loss: 0.2235 - accuracy: 0.9022 - val_loss: 0.2545 - val_accuracy: 0.8813\n",
            "Epoch 16/100\n",
            "32/32 [==============================] - 1s 33ms/step - loss: 0.2245 - accuracy: 0.8953 - val_loss: 0.2359 - val_accuracy: 0.8995\n",
            "Epoch 17/100\n",
            "32/32 [==============================] - 1s 34ms/step - loss: 0.2314 - accuracy: 0.8992 - val_loss: 0.2374 - val_accuracy: 0.9224\n",
            "Epoch 18/100\n",
            "32/32 [==============================] - 1s 33ms/step - loss: 0.2298 - accuracy: 0.9129 - val_loss: 0.2360 - val_accuracy: 0.9132\n",
            "Epoch 19/100\n",
            "32/32 [==============================] - 1s 35ms/step - loss: 0.2251 - accuracy: 0.8992 - val_loss: 0.2377 - val_accuracy: 0.9224\n",
            "Epoch 20/100\n",
            "32/32 [==============================] - 1s 34ms/step - loss: 0.2267 - accuracy: 0.9051 - val_loss: 0.2323 - val_accuracy: 0.9041\n",
            "Epoch 21/100\n",
            "32/32 [==============================] - 1s 34ms/step - loss: 0.2139 - accuracy: 0.9110 - val_loss: 0.2767 - val_accuracy: 0.9087\n",
            "Epoch 22/100\n",
            "32/32 [==============================] - 1s 34ms/step - loss: 0.2387 - accuracy: 0.9041 - val_loss: 0.2747 - val_accuracy: 0.9178\n",
            "Epoch 23/100\n",
            "32/32 [==============================] - 1s 34ms/step - loss: 0.2153 - accuracy: 0.9012 - val_loss: 0.2415 - val_accuracy: 0.9269\n",
            "Epoch 24/100\n",
            "32/32 [==============================] - 1s 35ms/step - loss: 0.2227 - accuracy: 0.9051 - val_loss: 0.2421 - val_accuracy: 0.9132\n",
            "Epoch 25/100\n",
            "32/32 [==============================] - 1s 35ms/step - loss: 0.2185 - accuracy: 0.9012 - val_loss: 0.2328 - val_accuracy: 0.9178\n",
            "Epoch 26/100\n",
            "32/32 [==============================] - 1s 35ms/step - loss: 0.2191 - accuracy: 0.9070 - val_loss: 0.2279 - val_accuracy: 0.9132\n",
            "Epoch 27/100\n",
            "32/32 [==============================] - 1s 36ms/step - loss: 0.1986 - accuracy: 0.9178 - val_loss: 0.2229 - val_accuracy: 0.9178\n",
            "Epoch 28/100\n",
            "32/32 [==============================] - 1s 36ms/step - loss: 0.1966 - accuracy: 0.9119 - val_loss: 0.2550 - val_accuracy: 0.9041\n",
            "Epoch 29/100\n",
            "32/32 [==============================] - 1s 35ms/step - loss: 0.2055 - accuracy: 0.9080 - val_loss: 0.2519 - val_accuracy: 0.9132\n",
            "Epoch 30/100\n",
            "32/32 [==============================] - 1s 34ms/step - loss: 0.2025 - accuracy: 0.9149 - val_loss: 0.2394 - val_accuracy: 0.9315\n",
            "Epoch 31/100\n",
            "32/32 [==============================] - 1s 34ms/step - loss: 0.2173 - accuracy: 0.9041 - val_loss: 0.2431 - val_accuracy: 0.8995\n",
            "Epoch 32/100\n",
            "32/32 [==============================] - 1s 32ms/step - loss: 0.1854 - accuracy: 0.9188 - val_loss: 0.2548 - val_accuracy: 0.9178\n",
            "Epoch 33/100\n",
            "32/32 [==============================] - 1s 32ms/step - loss: 0.1778 - accuracy: 0.9207 - val_loss: 0.2638 - val_accuracy: 0.9132\n",
            "Epoch 34/100\n",
            "32/32 [==============================] - 1s 32ms/step - loss: 0.2079 - accuracy: 0.9080 - val_loss: 0.2222 - val_accuracy: 0.8950\n",
            "Epoch 35/100\n",
            "32/32 [==============================] - 1s 32ms/step - loss: 0.1915 - accuracy: 0.9129 - val_loss: 0.2649 - val_accuracy: 0.9269\n",
            "Epoch 36/100\n",
            "32/32 [==============================] - 1s 32ms/step - loss: 0.1852 - accuracy: 0.9149 - val_loss: 0.2594 - val_accuracy: 0.9224\n",
            "Epoch 37/100\n",
            "32/32 [==============================] - 1s 33ms/step - loss: 0.2129 - accuracy: 0.8982 - val_loss: 0.2808 - val_accuracy: 0.8813\n",
            "Epoch 38/100\n",
            "32/32 [==============================] - 1s 33ms/step - loss: 0.1966 - accuracy: 0.9149 - val_loss: 0.2518 - val_accuracy: 0.9087\n",
            "Epoch 39/100\n",
            "32/32 [==============================] - 1s 33ms/step - loss: 0.1985 - accuracy: 0.9247 - val_loss: 0.2449 - val_accuracy: 0.9132\n",
            "Epoch 40/100\n",
            "32/32 [==============================] - 1s 33ms/step - loss: 0.1806 - accuracy: 0.9149 - val_loss: 0.3034 - val_accuracy: 0.8995\n",
            "Epoch 41/100\n",
            "32/32 [==============================] - 1s 32ms/step - loss: 0.1884 - accuracy: 0.9188 - val_loss: 0.1883 - val_accuracy: 0.9087\n",
            "Epoch 42/100\n",
            "32/32 [==============================] - 1s 32ms/step - loss: 0.1834 - accuracy: 0.9129 - val_loss: 0.2318 - val_accuracy: 0.9224\n",
            "Epoch 43/100\n",
            "32/32 [==============================] - 1s 32ms/step - loss: 0.1707 - accuracy: 0.9276 - val_loss: 0.2455 - val_accuracy: 0.9132\n",
            "Epoch 44/100\n",
            "32/32 [==============================] - 1s 32ms/step - loss: 0.1862 - accuracy: 0.9168 - val_loss: 0.2753 - val_accuracy: 0.9041\n",
            "Epoch 45/100\n",
            "32/32 [==============================] - 1s 33ms/step - loss: 0.1812 - accuracy: 0.9207 - val_loss: 0.2798 - val_accuracy: 0.9132\n",
            "Epoch 46/100\n",
            "32/32 [==============================] - 1s 33ms/step - loss: 0.1719 - accuracy: 0.9266 - val_loss: 0.2635 - val_accuracy: 0.8950\n",
            "Epoch 47/100\n",
            "32/32 [==============================] - 1s 33ms/step - loss: 0.1988 - accuracy: 0.9119 - val_loss: 0.2916 - val_accuracy: 0.8995\n",
            "Epoch 48/100\n",
            "32/32 [==============================] - 1s 32ms/step - loss: 0.1731 - accuracy: 0.9178 - val_loss: 0.2942 - val_accuracy: 0.8995\n",
            "Epoch 49/100\n",
            "32/32 [==============================] - 1s 32ms/step - loss: 0.1767 - accuracy: 0.9237 - val_loss: 0.3044 - val_accuracy: 0.9041\n",
            "Epoch 50/100\n",
            "32/32 [==============================] - 1s 32ms/step - loss: 0.1830 - accuracy: 0.9276 - val_loss: 0.2503 - val_accuracy: 0.9132\n",
            "Epoch 51/100\n",
            "32/32 [==============================] - 1s 32ms/step - loss: 0.1693 - accuracy: 0.9227 - val_loss: 0.2331 - val_accuracy: 0.9132\n",
            "Epoch 52/100\n",
            "32/32 [==============================] - 1s 32ms/step - loss: 0.1762 - accuracy: 0.9188 - val_loss: 0.2479 - val_accuracy: 0.9087\n",
            "Epoch 53/100\n",
            "32/32 [==============================] - 1s 32ms/step - loss: 0.1871 - accuracy: 0.9266 - val_loss: 0.3531 - val_accuracy: 0.8813\n",
            "Epoch 54/100\n",
            "32/32 [==============================] - 1s 32ms/step - loss: 0.1852 - accuracy: 0.9237 - val_loss: 0.2605 - val_accuracy: 0.9224\n",
            "Epoch 55/100\n",
            "32/32 [==============================] - 1s 33ms/step - loss: 0.1684 - accuracy: 0.9188 - val_loss: 0.2795 - val_accuracy: 0.9087\n",
            "Epoch 56/100\n",
            "32/32 [==============================] - 1s 33ms/step - loss: 0.1642 - accuracy: 0.9266 - val_loss: 0.3060 - val_accuracy: 0.9178\n",
            "Epoch 57/100\n",
            "32/32 [==============================] - 1s 33ms/step - loss: 0.1577 - accuracy: 0.9295 - val_loss: 0.3641 - val_accuracy: 0.8858\n",
            "Epoch 58/100\n",
            "32/32 [==============================] - 1s 33ms/step - loss: 0.1744 - accuracy: 0.9286 - val_loss: 0.3330 - val_accuracy: 0.8904\n",
            "Epoch 59/100\n",
            "32/32 [==============================] - 1s 33ms/step - loss: 0.2080 - accuracy: 0.9119 - val_loss: 0.2234 - val_accuracy: 0.8813\n",
            "Epoch 60/100\n",
            "32/32 [==============================] - 1s 33ms/step - loss: 0.1721 - accuracy: 0.9266 - val_loss: 0.2393 - val_accuracy: 0.9087\n",
            "Epoch 61/100\n",
            "32/32 [==============================] - 1s 33ms/step - loss: 0.1541 - accuracy: 0.9305 - val_loss: 0.2964 - val_accuracy: 0.9132\n",
            "Epoch 62/100\n",
            "32/32 [==============================] - 1s 32ms/step - loss: 0.1586 - accuracy: 0.9276 - val_loss: 0.2997 - val_accuracy: 0.8676\n",
            "Epoch 63/100\n",
            "32/32 [==============================] - 1s 33ms/step - loss: 0.1840 - accuracy: 0.9129 - val_loss: 0.2411 - val_accuracy: 0.8995\n",
            "Epoch 64/100\n",
            "32/32 [==============================] - 1s 33ms/step - loss: 0.1558 - accuracy: 0.9325 - val_loss: 0.2920 - val_accuracy: 0.9132\n",
            "Epoch 65/100\n",
            "32/32 [==============================] - 1s 33ms/step - loss: 0.1535 - accuracy: 0.9364 - val_loss: 0.2969 - val_accuracy: 0.8950\n",
            "Epoch 66/100\n",
            "32/32 [==============================] - 1s 34ms/step - loss: 0.1431 - accuracy: 0.9413 - val_loss: 0.3178 - val_accuracy: 0.8995\n",
            "Epoch 67/100\n",
            "32/32 [==============================] - 1s 33ms/step - loss: 0.1554 - accuracy: 0.9315 - val_loss: 0.2326 - val_accuracy: 0.9132\n",
            "Epoch 68/100\n",
            "32/32 [==============================] - 1s 32ms/step - loss: 0.1548 - accuracy: 0.9344 - val_loss: 0.3260 - val_accuracy: 0.9132\n",
            "Epoch 69/100\n",
            "32/32 [==============================] - 1s 33ms/step - loss: 0.1734 - accuracy: 0.9295 - val_loss: 0.3150 - val_accuracy: 0.9041\n",
            "Epoch 70/100\n",
            "32/32 [==============================] - 1s 33ms/step - loss: 0.1625 - accuracy: 0.9266 - val_loss: 0.2462 - val_accuracy: 0.9178\n",
            "Epoch 71/100\n",
            "32/32 [==============================] - 1s 34ms/step - loss: 0.1382 - accuracy: 0.9403 - val_loss: 0.3404 - val_accuracy: 0.8858\n",
            "Epoch 72/100\n",
            "32/32 [==============================] - 1s 33ms/step - loss: 0.1509 - accuracy: 0.9315 - val_loss: 0.2596 - val_accuracy: 0.9178\n",
            "Epoch 73/100\n",
            "32/32 [==============================] - 1s 33ms/step - loss: 0.1335 - accuracy: 0.9374 - val_loss: 0.2925 - val_accuracy: 0.9087\n",
            "Epoch 74/100\n",
            "32/32 [==============================] - 1s 33ms/step - loss: 0.1440 - accuracy: 0.9325 - val_loss: 0.3696 - val_accuracy: 0.8813\n",
            "Epoch 75/100\n",
            "32/32 [==============================] - 1s 34ms/step - loss: 0.1627 - accuracy: 0.9286 - val_loss: 0.3315 - val_accuracy: 0.8904\n",
            "Epoch 76/100\n",
            "32/32 [==============================] - 1s 34ms/step - loss: 0.1668 - accuracy: 0.9247 - val_loss: 0.3277 - val_accuracy: 0.8995\n",
            "Epoch 77/100\n",
            "32/32 [==============================] - 1s 33ms/step - loss: 0.1465 - accuracy: 0.9247 - val_loss: 0.3297 - val_accuracy: 0.9087\n",
            "Epoch 78/100\n",
            "32/32 [==============================] - 1s 32ms/step - loss: 0.1748 - accuracy: 0.9276 - val_loss: 0.3179 - val_accuracy: 0.8813\n",
            "Epoch 79/100\n",
            "32/32 [==============================] - 1s 33ms/step - loss: 0.1612 - accuracy: 0.9276 - val_loss: 0.3058 - val_accuracy: 0.9087\n",
            "Epoch 80/100\n",
            "32/32 [==============================] - 1s 33ms/step - loss: 0.1302 - accuracy: 0.9481 - val_loss: 0.3270 - val_accuracy: 0.8950\n",
            "Epoch 81/100\n",
            "32/32 [==============================] - 1s 33ms/step - loss: 0.1201 - accuracy: 0.9491 - val_loss: 0.4261 - val_accuracy: 0.8858\n",
            "Epoch 82/100\n",
            "32/32 [==============================] - 1s 34ms/step - loss: 0.1205 - accuracy: 0.9511 - val_loss: 0.4130 - val_accuracy: 0.8950\n",
            "Epoch 83/100\n",
            "32/32 [==============================] - 1s 34ms/step - loss: 0.1133 - accuracy: 0.9511 - val_loss: 0.4277 - val_accuracy: 0.9132\n",
            "Epoch 84/100\n",
            "32/32 [==============================] - 1s 34ms/step - loss: 0.2239 - accuracy: 0.9100 - val_loss: 0.2947 - val_accuracy: 0.9132\n",
            "Epoch 85/100\n",
            "32/32 [==============================] - 1s 34ms/step - loss: 0.1410 - accuracy: 0.9403 - val_loss: 0.3353 - val_accuracy: 0.8995\n",
            "Epoch 86/100\n",
            "32/32 [==============================] - 1s 33ms/step - loss: 0.1485 - accuracy: 0.9335 - val_loss: 0.3861 - val_accuracy: 0.9224\n",
            "Epoch 87/100\n",
            "32/32 [==============================] - 1s 34ms/step - loss: 0.1128 - accuracy: 0.9550 - val_loss: 0.4020 - val_accuracy: 0.8950\n",
            "Epoch 88/100\n",
            "32/32 [==============================] - 1s 34ms/step - loss: 0.1085 - accuracy: 0.9530 - val_loss: 0.4268 - val_accuracy: 0.8767\n",
            "Epoch 89/100\n",
            "32/32 [==============================] - 1s 33ms/step - loss: 0.1116 - accuracy: 0.9481 - val_loss: 0.4154 - val_accuracy: 0.8995\n",
            "Epoch 90/100\n",
            "32/32 [==============================] - 1s 33ms/step - loss: 0.1020 - accuracy: 0.9579 - val_loss: 0.5287 - val_accuracy: 0.8950\n",
            "Epoch 91/100\n",
            "32/32 [==============================] - 1s 33ms/step - loss: 0.1522 - accuracy: 0.9384 - val_loss: 0.3496 - val_accuracy: 0.9087\n",
            "Epoch 92/100\n",
            "32/32 [==============================] - 1s 33ms/step - loss: 0.1228 - accuracy: 0.9560 - val_loss: 0.4950 - val_accuracy: 0.8721\n",
            "Epoch 93/100\n",
            "32/32 [==============================] - 1s 32ms/step - loss: 0.1354 - accuracy: 0.9403 - val_loss: 0.3273 - val_accuracy: 0.9041\n",
            "Epoch 94/100\n",
            "32/32 [==============================] - 1s 34ms/step - loss: 0.1291 - accuracy: 0.9452 - val_loss: 0.4399 - val_accuracy: 0.8950\n",
            "Epoch 95/100\n",
            "32/32 [==============================] - 1s 33ms/step - loss: 0.1381 - accuracy: 0.9423 - val_loss: 0.4044 - val_accuracy: 0.8950\n",
            "Epoch 96/100\n",
            "32/32 [==============================] - 1s 33ms/step - loss: 0.1656 - accuracy: 0.9188 - val_loss: 0.3348 - val_accuracy: 0.8767\n",
            "Epoch 97/100\n",
            "32/32 [==============================] - 1s 34ms/step - loss: 0.1414 - accuracy: 0.9374 - val_loss: 0.4876 - val_accuracy: 0.9041\n",
            "Epoch 98/100\n",
            "32/32 [==============================] - 1s 33ms/step - loss: 0.1427 - accuracy: 0.9344 - val_loss: 0.4035 - val_accuracy: 0.9178\n",
            "Epoch 99/100\n",
            "32/32 [==============================] - 1s 33ms/step - loss: 0.1319 - accuracy: 0.9462 - val_loss: 0.4167 - val_accuracy: 0.9041\n",
            "Epoch 100/100\n",
            "32/32 [==============================] - 1s 32ms/step - loss: 0.1084 - accuracy: 0.9569 - val_loss: 0.4891 - val_accuracy: 0.8904\n"
          ],
          "name": "stdout"
        }
      ]
    },
    {
      "cell_type": "code",
      "metadata": {
        "id": "QvloeioK3P30",
        "colab_type": "code",
        "colab": {
          "base_uri": "https://localhost:8080/",
          "height": 295
        },
        "outputId": "7404d08d-5a49-43cc-870b-cb8d97095b94"
      },
      "source": [
        "plt.plot(hist_2.history['loss'])\n",
        "plt.plot(hist_2.history['val_loss'])\n",
        "plt.title('Model loss')\n",
        "plt.ylabel('Loss')\n",
        "plt.xlabel('Epoch')\n",
        "plt.legend(['Train', 'Val'], loc = 'upper right')\n",
        "plt.show()"
      ],
      "execution_count": 24,
      "outputs": [
        {
          "output_type": "display_data",
          "data": {
            "image/png": "[encoded data removed]",
            "text/plain": [
              "<Figure size 432x288 with 1 Axes>"
            ]
          },
          "metadata": {
            "tags": []
          }
        }
      ]
    },
    {
      "cell_type": "code",
      "metadata": {
        "id": "tcxf4-jn4JmV",
        "colab_type": "code",
        "colab": {
          "base_uri": "https://localhost:8080/",
          "height": 295
        },
        "outputId": "7e852217-7cea-4894-fe50-c6810fa4bf40"
      },
      "source": [
        "plt.plot(hist_2.history['accuracy'])\n",
        "plt.plot(hist_2.history['val_accuracy'])\n",
        "plt.title('Model accuracy')\n",
        "plt.ylabel('Accuracy')\n",
        "plt.xlabel('Epoch')\n",
        "plt.legend(['Train', 'Val'], loc='lower right')\n",
        "plt.show()"
      ],
      "execution_count": 25,
      "outputs": [
        {
          "output_type": "display_data",
          "data": {
            "image/png": "[encoded data removed]",
            "text/plain": [
              "<Figure size 432x288 with 1 Axes>"
            ]
          },
          "metadata": {
            "tags": []
          }
        }
      ]
    }
  ]
}