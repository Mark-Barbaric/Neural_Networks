{
  "nbformat": 4,
  "nbformat_minor": 0,
  "metadata": {
    "colab": {
      "name": "PredictingHousePrices.ipynb",
      "provenance": [],
      "collapsed_sections": []
    },
    "kernelspec": {
      "name": "python3",
      "display_name": "Python 3"
    }
  },
  "cells": [
    {
      "cell_type": "markdown",
      "metadata": {
        "id": "w27264HNRQOn",
        "colab_type": "text"
      },
      "source": [
        "# Medium Article - Build Your First Neural Network\n",
        "https://medium.com/intuitive-deep-learning/build-your-first-neural-network-to-predict-house-prices-with-keras-eb5db60232c\n"
      ]
    },
    {
      "cell_type": "code",
      "metadata": {
        "id": "8kq0SIwXfbom",
        "colab_type": "code",
        "colab": {}
      },
      "source": [
        "import pandas as pd\n",
        "import tensorflow as tf\n",
        "from sklearn import preprocessing\n",
        "from sklearn.model_selection import train_test_split\n",
        "from keras.models import Sequential\n",
        "from keras.layers import Dense\n",
        "from keras.layers import Dropout\n",
        "from keras import regularizers\n",
        "import matplotlib.pyplot as plt"
      ],
      "execution_count": 0,
      "outputs": []
    },
    {
      "cell_type": "markdown",
      "metadata": {
        "id": "oVy_u13Sy9A_",
        "colab_type": "text"
      },
      "source": [
        "Add seeding models to generate reproducable results for training."
      ]
    },
    {
      "cell_type": "code",
      "metadata": {
        "id": "OtoYrB7Fy73R",
        "colab_type": "code",
        "colab": {}
      },
      "source": [
        "from numpy.random import seed\n",
        "seed(1)\n",
        "tf.random.set_seed(2)"
      ],
      "execution_count": 0,
      "outputs": []
    },
    {
      "cell_type": "markdown",
      "metadata": {
        "id": "wsxtFhr_VV0P",
        "colab_type": "text"
      },
      "source": [
        "# Step 1 - Loading Data"
      ]
    },
    {
      "cell_type": "code",
      "metadata": {
        "id": "sSyfAZExVVOr",
        "colab_type": "code",
        "outputId": "ab66185a-9dc2-489b-993a-5d4eae00789c",
        "colab": {
          "resources": {
            "http://localhost:8080/nbextensions/google.colab/files.js": {
              "data": "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",
              "ok": true,
              "headers": [
                [
                  "content-type",
                  "application/javascript"
                ]
              ],
              "status": 200,
              "status_text": ""
            }
          },
          "base_uri": "https://localhost:8080/",
          "height": 71
        }
      },
      "source": [
        "from google.colab import files\n",
        "upload = files.upload()"
      ],
      "execution_count": 29,
      "outputs": [
        {
          "output_type": "display_data",
          "data": {
            "text/html": [
              "\n",
              "     <input type=\"file\" id=\"files-04c4b857-0627-47b2-83f1-4672673e0531\" name=\"files[]\" multiple disabled />\n",
              "     <output id=\"result-04c4b857-0627-47b2-83f1-4672673e0531\">\n",
              "      Upload widget is only available when the cell has been executed in the\n",
              "      current browser session. Please rerun this cell to enable.\n",
              "      </output>\n",
              "      <script src=\"/nbextensions/google.colab/files.js\"></script> "
            ],
            "text/plain": [
              "<IPython.core.display.HTML object>"
            ]
          },
          "metadata": {
            "tags": []
          }
        },
        {
          "output_type": "stream",
          "text": [
            "Saving housepricedata.csv to housepricedata (2).csv\n"
          ],
          "name": "stdout"
        }
      ]
    },
    {
      "cell_type": "code",
      "metadata": {
        "id": "9II1MX1aVsWU",
        "colab_type": "code",
        "outputId": "4a4fcd41-6140-4e7e-8e93-21201a6faad7",
        "colab": {
          "base_uri": "https://localhost:8080/",
          "height": 419
        }
      },
      "source": [
        "df = pd.read_csv('housepricedata.csv')\n",
        "df"
      ],
      "execution_count": 30,
      "outputs": [
        {
          "output_type": "execute_result",
          "data": {
            "text/html": [
              "<div>\n",
              "<style scoped>\n",
              "    .dataframe tbody tr th:only-of-type {\n",
              "        vertical-align: middle;\n",
              "    }\n",
              "\n",
              "    .dataframe tbody tr th {\n",
              "        vertical-align: top;\n",
              "    }\n",
              "\n",
              "    .dataframe thead th {\n",
              "        text-align: right;\n",
              "    }\n",
              "</style>\n",
              "<table border=\"1\" class=\"dataframe\">\n",
              "  <thead>\n",
              "    <tr style=\"text-align: right;\">\n",
              "      <th></th>\n",
              "      <th>LotArea</th>\n",
              "      <th>OverallQual</th>\n",
              "      <th>OverallCond</th>\n",
              "      <th>TotalBsmtSF</th>\n",
              "      <th>FullBath</th>\n",
              "      <th>HalfBath</th>\n",
              "      <th>BedroomAbvGr</th>\n",
              "      <th>TotRmsAbvGrd</th>\n",
              "      <th>Fireplaces</th>\n",
              "      <th>GarageArea</th>\n",
              "      <th>AboveMedianPrice</th>\n",
              "    </tr>\n",
              "  </thead>\n",
              "  <tbody>\n",
              "    <tr>\n",
              "      <th>0</th>\n",
              "      <td>8450</td>\n",
              "      <td>7</td>\n",
              "      <td>5</td>\n",
              "      <td>856</td>\n",
              "      <td>2</td>\n",
              "      <td>1</td>\n",
              "      <td>3</td>\n",
              "      <td>8</td>\n",
              "      <td>0</td>\n",
              "      <td>548</td>\n",
              "      <td>1</td>\n",
              "    </tr>\n",
              "    <tr>\n",
              "      <th>1</th>\n",
              "      <td>9600</td>\n",
              "      <td>6</td>\n",
              "      <td>8</td>\n",
              "      <td>1262</td>\n",
              "      <td>2</td>\n",
              "      <td>0</td>\n",
              "      <td>3</td>\n",
              "      <td>6</td>\n",
              "      <td>1</td>\n",
              "      <td>460</td>\n",
              "      <td>1</td>\n",
              "    </tr>\n",
              "    <tr>\n",
              "      <th>2</th>\n",
              "      <td>11250</td>\n",
              "      <td>7</td>\n",
              "      <td>5</td>\n",
              "      <td>920</td>\n",
              "      <td>2</td>\n",
              "      <td>1</td>\n",
              "      <td>3</td>\n",
              "      <td>6</td>\n",
              "      <td>1</td>\n",
              "      <td>608</td>\n",
              "      <td>1</td>\n",
              "    </tr>\n",
              "    <tr>\n",
              "      <th>3</th>\n",
              "      <td>9550</td>\n",
              "      <td>7</td>\n",
              "      <td>5</td>\n",
              "      <td>756</td>\n",
              "      <td>1</td>\n",
              "      <td>0</td>\n",
              "      <td>3</td>\n",
              "      <td>7</td>\n",
              "      <td>1</td>\n",
              "      <td>642</td>\n",
              "      <td>0</td>\n",
              "    </tr>\n",
              "    <tr>\n",
              "      <th>4</th>\n",
              "      <td>14260</td>\n",
              "      <td>8</td>\n",
              "      <td>5</td>\n",
              "      <td>1145</td>\n",
              "      <td>2</td>\n",
              "      <td>1</td>\n",
              "      <td>4</td>\n",
              "      <td>9</td>\n",
              "      <td>1</td>\n",
              "      <td>836</td>\n",
              "      <td>1</td>\n",
              "    </tr>\n",
              "    <tr>\n",
              "      <th>...</th>\n",
              "      <td>...</td>\n",
              "      <td>...</td>\n",
              "      <td>...</td>\n",
              "      <td>...</td>\n",
              "      <td>...</td>\n",
              "      <td>...</td>\n",
              "      <td>...</td>\n",
              "      <td>...</td>\n",
              "      <td>...</td>\n",
              "      <td>...</td>\n",
              "      <td>...</td>\n",
              "    </tr>\n",
              "    <tr>\n",
              "      <th>1455</th>\n",
              "      <td>7917</td>\n",
              "      <td>6</td>\n",
              "      <td>5</td>\n",
              "      <td>953</td>\n",
              "      <td>2</td>\n",
              "      <td>1</td>\n",
              "      <td>3</td>\n",
              "      <td>7</td>\n",
              "      <td>1</td>\n",
              "      <td>460</td>\n",
              "      <td>1</td>\n",
              "    </tr>\n",
              "    <tr>\n",
              "      <th>1456</th>\n",
              "      <td>13175</td>\n",
              "      <td>6</td>\n",
              "      <td>6</td>\n",
              "      <td>1542</td>\n",
              "      <td>2</td>\n",
              "      <td>0</td>\n",
              "      <td>3</td>\n",
              "      <td>7</td>\n",
              "      <td>2</td>\n",
              "      <td>500</td>\n",
              "      <td>1</td>\n",
              "    </tr>\n",
              "    <tr>\n",
              "      <th>1457</th>\n",
              "      <td>9042</td>\n",
              "      <td>7</td>\n",
              "      <td>9</td>\n",
              "      <td>1152</td>\n",
              "      <td>2</td>\n",
              "      <td>0</td>\n",
              "      <td>4</td>\n",
              "      <td>9</td>\n",
              "      <td>2</td>\n",
              "      <td>252</td>\n",
              "      <td>1</td>\n",
              "    </tr>\n",
              "    <tr>\n",
              "      <th>1458</th>\n",
              "      <td>9717</td>\n",
              "      <td>5</td>\n",
              "      <td>6</td>\n",
              "      <td>1078</td>\n",
              "      <td>1</td>\n",
              "      <td>0</td>\n",
              "      <td>2</td>\n",
              "      <td>5</td>\n",
              "      <td>0</td>\n",
              "      <td>240</td>\n",
              "      <td>0</td>\n",
              "    </tr>\n",
              "    <tr>\n",
              "      <th>1459</th>\n",
              "      <td>9937</td>\n",
              "      <td>5</td>\n",
              "      <td>6</td>\n",
              "      <td>1256</td>\n",
              "      <td>1</td>\n",
              "      <td>1</td>\n",
              "      <td>3</td>\n",
              "      <td>6</td>\n",
              "      <td>0</td>\n",
              "      <td>276</td>\n",
              "      <td>0</td>\n",
              "    </tr>\n",
              "  </tbody>\n",
              "</table>\n",
              "<p>1460 rows × 11 columns</p>\n",
              "</div>"
            ],
            "text/plain": [
              "      LotArea  OverallQual  ...  GarageArea  AboveMedianPrice\n",
              "0        8450            7  ...         548                 1\n",
              "1        9600            6  ...         460                 1\n",
              "2       11250            7  ...         608                 1\n",
              "3        9550            7  ...         642                 0\n",
              "4       14260            8  ...         836                 1\n",
              "...       ...          ...  ...         ...               ...\n",
              "1455     7917            6  ...         460                 1\n",
              "1456    13175            6  ...         500                 1\n",
              "1457     9042            7  ...         252                 1\n",
              "1458     9717            5  ...         240                 0\n",
              "1459     9937            5  ...         276                 0\n",
              "\n",
              "[1460 rows x 11 columns]"
            ]
          },
          "metadata": {
            "tags": []
          },
          "execution_count": 30
        }
      ]
    },
    {
      "cell_type": "markdown",
      "metadata": {
        "id": "5V8xG116YLiN",
        "colab_type": "text"
      },
      "source": [
        "# Step 2 - Cleaning Data"
      ]
    },
    {
      "cell_type": "markdown",
      "metadata": {
        "id": "TLC3mYQTWR46",
        "colab_type": "text"
      },
      "source": [
        "Convert panda to array."
      ]
    },
    {
      "cell_type": "code",
      "metadata": {
        "id": "hibDtNtoWLrG",
        "colab_type": "code",
        "outputId": "c1afe78a-18ef-4f70-dfb4-da0036d1da6d",
        "colab": {
          "base_uri": "https://localhost:8080/",
          "height": 136
        }
      },
      "source": [
        "dataset = df.values\n",
        "dataset"
      ],
      "execution_count": 31,
      "outputs": [
        {
          "output_type": "execute_result",
          "data": {
            "text/plain": [
              "array([[ 8450,     7,     5, ...,     0,   548,     1],\n",
              "       [ 9600,     6,     8, ...,     1,   460,     1],\n",
              "       [11250,     7,     5, ...,     1,   608,     1],\n",
              "       ...,\n",
              "       [ 9042,     7,     9, ...,     2,   252,     1],\n",
              "       [ 9717,     5,     6, ...,     0,   240,     0],\n",
              "       [ 9937,     5,     6, ...,     0,   276,     0]])"
            ]
          },
          "metadata": {
            "tags": []
          },
          "execution_count": 31
        }
      ]
    },
    {
      "cell_type": "code",
      "metadata": {
        "id": "HXw5n1RcWh1q",
        "colab_type": "code",
        "colab": {}
      },
      "source": [
        "x = dataset[:,0:10]\n",
        "y = dataset[:, 10]"
      ],
      "execution_count": 0,
      "outputs": []
    },
    {
      "cell_type": "markdown",
      "metadata": {
        "id": "4mA-Stv0WtEq",
        "colab_type": "text"
      },
      "source": [
        "Normalize x array to improve training."
      ]
    },
    {
      "cell_type": "code",
      "metadata": {
        "id": "CC9f2yl0W7oj",
        "colab_type": "code",
        "outputId": "1e6d896d-6a91-493e-d5c7-0c60ee0bfc08",
        "colab": {
          "base_uri": "https://localhost:8080/",
          "height": 238
        }
      },
      "source": [
        "min_max_scaler = preprocessing.MinMaxScaler()\n",
        "scaled_x = min_max_scaler.fit_transform(x)\n",
        "scaled_x"
      ],
      "execution_count": 33,
      "outputs": [
        {
          "output_type": "execute_result",
          "data": {
            "text/plain": [
              "array([[0.0334198 , 0.66666667, 0.5       , ..., 0.5       , 0.        ,\n",
              "        0.3864598 ],\n",
              "       [0.03879502, 0.55555556, 0.875     , ..., 0.33333333, 0.33333333,\n",
              "        0.32440056],\n",
              "       [0.04650728, 0.66666667, 0.5       , ..., 0.33333333, 0.33333333,\n",
              "        0.42877292],\n",
              "       ...,\n",
              "       [0.03618687, 0.66666667, 1.        , ..., 0.58333333, 0.66666667,\n",
              "        0.17771509],\n",
              "       [0.03934189, 0.44444444, 0.625     , ..., 0.25      , 0.        ,\n",
              "        0.16925247],\n",
              "       [0.04037019, 0.44444444, 0.625     , ..., 0.33333333, 0.        ,\n",
              "        0.19464034]])"
            ]
          },
          "metadata": {
            "tags": []
          },
          "execution_count": 33
        }
      ]
    },
    {
      "cell_type": "markdown",
      "metadata": {
        "id": "pQytOoi8YTBI",
        "colab_type": "text"
      },
      "source": [
        "# Step 3 - Test / Train Data\n",
        "\n",
        "Last step in processing data which involves splitting dataset into a training set, a validation set and test set.\n",
        "\n",
        "We now have a total of six variables for our datasets we will use:\n",
        "\n",
        "*   x_train (10 input features, 70% of full dataset)\n",
        "*   x_val (10 input features, 15% of full dataset)\n",
        "*   x_test (10 input features, 15% of full dataset)\n",
        "*   y_train (1 label, 70% of full dataset)\n",
        "*   y_val (1 label, 15% of full dataset)\n",
        "*   y_test (1 label, 15% of full dataset)"
      ]
    },
    {
      "cell_type": "code",
      "metadata": {
        "id": "GPqf1TGXYaqu",
        "colab_type": "code",
        "outputId": "6bae41d0-9602-47b8-e123-1b5267c3b454",
        "colab": {
          "base_uri": "https://localhost:8080/",
          "height": 34
        }
      },
      "source": [
        "x_train, x_val_and_test, y_train, y_val_and_test = train_test_split(scaled_x, y, test_size = 0.3)\n",
        "x_val, x_test, y_val, y_test = train_test_split(x_val_and_test, y_val_and_test, test_size = 0.5)\n",
        "print(x_train.shape, x_val.shape, x_test.shape, y_train.shape, y_val.shape, y_test.shape)"
      ],
      "execution_count": 34,
      "outputs": [
        {
          "output_type": "stream",
          "text": [
            "(1022, 10) (219, 10) (219, 10) (1022,) (219,) (219,)\n"
          ],
          "name": "stdout"
        }
      ]
    },
    {
      "cell_type": "markdown",
      "metadata": {
        "id": "Z9L_TRMybeS4",
        "colab_type": "text"
      },
      "source": [
        "# Step 4 - Building and Training The Neural Network\n",
        "\n",
        "In words, we want to have these layers:\n",
        "\n",
        "*   Hidden layer 1: 32 neurons, ReLU activation\n",
        "*   Hidden layer 2: 32 neurons, ReLU activation\n",
        "*   Output Layer: 1 neuron, Sigmoid activation\n",
        "\n",
        "![alt text](https://miro.medium.com/max/1366/1*n-SIfloaWQxvQ5XMgnKmRA.png)"
      ]
    },
    {
      "cell_type": "code",
      "metadata": {
        "id": "hzM5zS_WewGC",
        "colab_type": "code",
        "colab": {}
      },
      "source": [
        "# specifying our sequential model.\n",
        "model = tf.keras.Sequential([tf.keras.layers.Dense(32, activation = 'relu', input_shape = (10,)),\n",
        "                    tf.keras.layers.Dense(32, activation = 'relu'),\n",
        "                    tf.keras.layers.Dense(1, activation = 'sigmoid')])"
      ],
      "execution_count": 0,
      "outputs": []
    },
    {
      "cell_type": "code",
      "metadata": {
        "id": "eZSk2ONSryQm",
        "colab_type": "code",
        "outputId": "017a3f91-96d6-493b-efcc-5de2d495ee3c",
        "colab": {
          "base_uri": "https://localhost:8080/",
          "height": 369
        }
      },
      "source": [
        "tf.keras.utils.plot_model(\n",
        "    model, to_file='model.png', show_shapes=False, show_layer_names=True,\n",
        "    rankdir='TB', expand_nested=False, dpi=96\n",
        ")"
      ],
      "execution_count": 36,
      "outputs": [
        {
          "output_type": "execute_result",
          "data": {
            "image/png": "[encoded data removed]",
            "text/plain": [
              "<IPython.core.display.Image object>"
            ]
          },
          "metadata": {
            "tags": []
          },
          "execution_count": 36
        }
      ]
    },
    {
      "cell_type": "code",
      "metadata": {
        "id": "Rf8GEYJqhl8j",
        "colab_type": "code",
        "colab": {}
      },
      "source": [
        "# configure the model\n",
        "model.compile(optimizer = 'sgd', loss = 'binary_crossentropy',\n",
        "              metrics = ['accuracy'])"
      ],
      "execution_count": 0,
      "outputs": []
    },
    {
      "cell_type": "code",
      "metadata": {
        "id": "PASwmiLUiCyn",
        "colab_type": "code",
        "outputId": "24d6c7d3-17ff-4fb5-c21c-c2fbccc216f3",
        "colab": {
          "base_uri": "https://localhost:8080/",
          "height": 1000
        }
      },
      "source": [
        "hist = model.fit(x_train, y_train,\n",
        "                 batch_size = 32, epochs = 100,\n",
        "                 validation_data = (x_val, y_val))"
      ],
      "execution_count": 38,
      "outputs": [
        {
          "output_type": "stream",
          "text": [
            "Epoch 1/100\n",
            "32/32 [==============================] - 0s 4ms/step - loss: 0.7042 - accuracy: 0.5000 - val_loss: 0.6908 - val_accuracy: 0.5205\n",
            "Epoch 2/100\n",
            "32/32 [==============================] - 0s 2ms/step - loss: 0.6854 - accuracy: 0.5695 - val_loss: 0.6801 - val_accuracy: 0.7489\n",
            "Epoch 3/100\n",
            "32/32 [==============================] - 0s 2ms/step - loss: 0.6749 - accuracy: 0.7603 - val_loss: 0.6733 - val_accuracy: 0.7032\n",
            "Epoch 4/100\n",
            "32/32 [==============================] - 0s 2ms/step - loss: 0.6677 - accuracy: 0.7006 - val_loss: 0.6677 - val_accuracy: 0.6895\n",
            "Epoch 5/100\n",
            "32/32 [==============================] - 0s 2ms/step - loss: 0.6620 - accuracy: 0.6869 - val_loss: 0.6626 - val_accuracy: 0.6712\n",
            "Epoch 6/100\n",
            "32/32 [==============================] - 0s 2ms/step - loss: 0.6565 - accuracy: 0.6605 - val_loss: 0.6573 - val_accuracy: 0.6895\n",
            "Epoch 7/100\n",
            "32/32 [==============================] - 0s 2ms/step - loss: 0.6512 - accuracy: 0.7123 - val_loss: 0.6519 - val_accuracy: 0.6941\n",
            "Epoch 8/100\n",
            "32/32 [==============================] - 0s 2ms/step - loss: 0.6453 - accuracy: 0.7133 - val_loss: 0.6461 - val_accuracy: 0.7169\n",
            "Epoch 9/100\n",
            "32/32 [==============================] - 0s 2ms/step - loss: 0.6395 - accuracy: 0.7407 - val_loss: 0.6401 - val_accuracy: 0.7352\n",
            "Epoch 10/100\n",
            "32/32 [==============================] - 0s 2ms/step - loss: 0.6334 - accuracy: 0.7446 - val_loss: 0.6337 - val_accuracy: 0.7534\n",
            "Epoch 11/100\n",
            "32/32 [==============================] - 0s 2ms/step - loss: 0.6273 - accuracy: 0.7701 - val_loss: 0.6270 - val_accuracy: 0.7671\n",
            "Epoch 12/100\n",
            "32/32 [==============================] - 0s 2ms/step - loss: 0.6205 - accuracy: 0.7906 - val_loss: 0.6204 - val_accuracy: 0.7763\n",
            "Epoch 13/100\n",
            "32/32 [==============================] - 0s 2ms/step - loss: 0.6140 - accuracy: 0.7847 - val_loss: 0.6134 - val_accuracy: 0.8037\n",
            "Epoch 14/100\n",
            "32/32 [==============================] - 0s 2ms/step - loss: 0.6071 - accuracy: 0.7857 - val_loss: 0.6059 - val_accuracy: 0.8265\n",
            "Epoch 15/100\n",
            "32/32 [==============================] - 0s 2ms/step - loss: 0.6002 - accuracy: 0.8023 - val_loss: 0.5987 - val_accuracy: 0.8265\n",
            "Epoch 16/100\n",
            "32/32 [==============================] - 0s 2ms/step - loss: 0.5932 - accuracy: 0.8102 - val_loss: 0.5911 - val_accuracy: 0.8356\n",
            "Epoch 17/100\n",
            "32/32 [==============================] - 0s 2ms/step - loss: 0.5857 - accuracy: 0.8219 - val_loss: 0.5833 - val_accuracy: 0.8356\n",
            "Epoch 18/100\n",
            "32/32 [==============================] - 0s 2ms/step - loss: 0.5780 - accuracy: 0.8346 - val_loss: 0.5755 - val_accuracy: 0.8402\n",
            "Epoch 19/100\n",
            "32/32 [==============================] - 0s 2ms/step - loss: 0.5702 - accuracy: 0.8317 - val_loss: 0.5672 - val_accuracy: 0.8356\n",
            "Epoch 20/100\n",
            "32/32 [==============================] - 0s 2ms/step - loss: 0.5622 - accuracy: 0.8317 - val_loss: 0.5583 - val_accuracy: 0.8219\n",
            "Epoch 21/100\n",
            "32/32 [==============================] - 0s 2ms/step - loss: 0.5539 - accuracy: 0.8415 - val_loss: 0.5497 - val_accuracy: 0.8219\n",
            "Epoch 22/100\n",
            "32/32 [==============================] - 0s 2ms/step - loss: 0.5457 - accuracy: 0.8376 - val_loss: 0.5407 - val_accuracy: 0.8311\n",
            "Epoch 23/100\n",
            "32/32 [==============================] - 0s 2ms/step - loss: 0.5371 - accuracy: 0.8376 - val_loss: 0.5319 - val_accuracy: 0.8311\n",
            "Epoch 24/100\n",
            "32/32 [==============================] - 0s 2ms/step - loss: 0.5282 - accuracy: 0.8395 - val_loss: 0.5227 - val_accuracy: 0.8265\n",
            "Epoch 25/100\n",
            "32/32 [==============================] - 0s 2ms/step - loss: 0.5198 - accuracy: 0.8395 - val_loss: 0.5138 - val_accuracy: 0.8265\n",
            "Epoch 26/100\n",
            "32/32 [==============================] - 0s 2ms/step - loss: 0.5110 - accuracy: 0.8415 - val_loss: 0.5048 - val_accuracy: 0.8265\n",
            "Epoch 27/100\n",
            "32/32 [==============================] - 0s 2ms/step - loss: 0.5022 - accuracy: 0.8454 - val_loss: 0.4953 - val_accuracy: 0.8311\n",
            "Epoch 28/100\n",
            "32/32 [==============================] - 0s 2ms/step - loss: 0.4934 - accuracy: 0.8444 - val_loss: 0.4863 - val_accuracy: 0.8311\n",
            "Epoch 29/100\n",
            "32/32 [==============================] - 0s 2ms/step - loss: 0.4848 - accuracy: 0.8503 - val_loss: 0.4771 - val_accuracy: 0.8311\n",
            "Epoch 30/100\n",
            "32/32 [==============================] - 0s 2ms/step - loss: 0.4764 - accuracy: 0.8454 - val_loss: 0.4681 - val_accuracy: 0.8311\n",
            "Epoch 31/100\n",
            "32/32 [==============================] - 0s 2ms/step - loss: 0.4680 - accuracy: 0.8483 - val_loss: 0.4592 - val_accuracy: 0.8447\n",
            "Epoch 32/100\n",
            "32/32 [==============================] - 0s 2ms/step - loss: 0.4602 - accuracy: 0.8425 - val_loss: 0.4508 - val_accuracy: 0.8493\n",
            "Epoch 33/100\n",
            "32/32 [==============================] - 0s 2ms/step - loss: 0.4521 - accuracy: 0.8454 - val_loss: 0.4425 - val_accuracy: 0.8447\n",
            "Epoch 34/100\n",
            "32/32 [==============================] - 0s 2ms/step - loss: 0.4444 - accuracy: 0.8454 - val_loss: 0.4353 - val_accuracy: 0.8356\n",
            "Epoch 35/100\n",
            "32/32 [==============================] - 0s 2ms/step - loss: 0.4375 - accuracy: 0.8415 - val_loss: 0.4273 - val_accuracy: 0.8493\n",
            "Epoch 36/100\n",
            "32/32 [==============================] - 0s 2ms/step - loss: 0.4304 - accuracy: 0.8464 - val_loss: 0.4197 - val_accuracy: 0.8493\n",
            "Epoch 37/100\n",
            "32/32 [==============================] - 0s 2ms/step - loss: 0.4232 - accuracy: 0.8464 - val_loss: 0.4125 - val_accuracy: 0.8447\n",
            "Epoch 38/100\n",
            "32/32 [==============================] - 0s 2ms/step - loss: 0.4175 - accuracy: 0.8454 - val_loss: 0.4064 - val_accuracy: 0.8493\n",
            "Epoch 39/100\n",
            "32/32 [==============================] - 0s 2ms/step - loss: 0.4112 - accuracy: 0.8483 - val_loss: 0.3998 - val_accuracy: 0.8493\n",
            "Epoch 40/100\n",
            "32/32 [==============================] - 0s 2ms/step - loss: 0.4051 - accuracy: 0.8483 - val_loss: 0.3949 - val_accuracy: 0.8447\n",
            "Epoch 41/100\n",
            "32/32 [==============================] - 0s 2ms/step - loss: 0.3999 - accuracy: 0.8483 - val_loss: 0.3880 - val_accuracy: 0.8493\n",
            "Epoch 42/100\n",
            "32/32 [==============================] - 0s 2ms/step - loss: 0.3944 - accuracy: 0.8513 - val_loss: 0.3837 - val_accuracy: 0.8493\n",
            "Epoch 43/100\n",
            "32/32 [==============================] - 0s 2ms/step - loss: 0.3903 - accuracy: 0.8454 - val_loss: 0.3786 - val_accuracy: 0.8493\n",
            "Epoch 44/100\n",
            "32/32 [==============================] - 0s 2ms/step - loss: 0.3852 - accuracy: 0.8493 - val_loss: 0.3743 - val_accuracy: 0.8493\n",
            "Epoch 45/100\n",
            "32/32 [==============================] - 0s 2ms/step - loss: 0.3813 - accuracy: 0.8464 - val_loss: 0.3685 - val_accuracy: 0.8539\n",
            "Epoch 46/100\n",
            "32/32 [==============================] - 0s 2ms/step - loss: 0.3772 - accuracy: 0.8464 - val_loss: 0.3644 - val_accuracy: 0.8539\n",
            "Epoch 47/100\n",
            "32/32 [==============================] - 0s 3ms/step - loss: 0.3734 - accuracy: 0.8513 - val_loss: 0.3603 - val_accuracy: 0.8584\n",
            "Epoch 48/100\n",
            "32/32 [==============================] - 0s 3ms/step - loss: 0.3697 - accuracy: 0.8523 - val_loss: 0.3563 - val_accuracy: 0.8584\n",
            "Epoch 49/100\n",
            "32/32 [==============================] - 0s 2ms/step - loss: 0.3663 - accuracy: 0.8552 - val_loss: 0.3530 - val_accuracy: 0.8584\n",
            "Epoch 50/100\n",
            "32/32 [==============================] - 0s 2ms/step - loss: 0.3633 - accuracy: 0.8542 - val_loss: 0.3498 - val_accuracy: 0.8584\n",
            "Epoch 51/100\n",
            "32/32 [==============================] - 0s 3ms/step - loss: 0.3600 - accuracy: 0.8532 - val_loss: 0.3461 - val_accuracy: 0.8584\n",
            "Epoch 52/100\n",
            "32/32 [==============================] - 0s 8ms/step - loss: 0.3575 - accuracy: 0.8659 - val_loss: 0.3434 - val_accuracy: 0.8584\n",
            "Epoch 53/100\n",
            "32/32 [==============================] - 0s 2ms/step - loss: 0.3551 - accuracy: 0.8571 - val_loss: 0.3404 - val_accuracy: 0.8584\n",
            "Epoch 54/100\n",
            "32/32 [==============================] - 0s 2ms/step - loss: 0.3522 - accuracy: 0.8601 - val_loss: 0.3374 - val_accuracy: 0.8493\n",
            "Epoch 55/100\n",
            "32/32 [==============================] - 0s 2ms/step - loss: 0.3505 - accuracy: 0.8630 - val_loss: 0.3350 - val_accuracy: 0.8539\n",
            "Epoch 56/100\n",
            "32/32 [==============================] - 0s 2ms/step - loss: 0.3475 - accuracy: 0.8611 - val_loss: 0.3331 - val_accuracy: 0.8584\n",
            "Epoch 57/100\n",
            "32/32 [==============================] - 0s 2ms/step - loss: 0.3454 - accuracy: 0.8611 - val_loss: 0.3306 - val_accuracy: 0.8539\n",
            "Epoch 58/100\n",
            "32/32 [==============================] - 0s 2ms/step - loss: 0.3432 - accuracy: 0.8591 - val_loss: 0.3281 - val_accuracy: 0.8539\n",
            "Epoch 59/100\n",
            "32/32 [==============================] - 0s 2ms/step - loss: 0.3410 - accuracy: 0.8630 - val_loss: 0.3260 - val_accuracy: 0.8584\n",
            "Epoch 60/100\n",
            "32/32 [==============================] - 0s 2ms/step - loss: 0.3391 - accuracy: 0.8669 - val_loss: 0.3260 - val_accuracy: 0.8584\n",
            "Epoch 61/100\n",
            "32/32 [==============================] - 0s 3ms/step - loss: 0.3380 - accuracy: 0.8581 - val_loss: 0.3226 - val_accuracy: 0.8539\n",
            "Epoch 62/100\n",
            "32/32 [==============================] - 0s 2ms/step - loss: 0.3361 - accuracy: 0.8650 - val_loss: 0.3209 - val_accuracy: 0.8539\n",
            "Epoch 63/100\n",
            "32/32 [==============================] - 0s 2ms/step - loss: 0.3343 - accuracy: 0.8659 - val_loss: 0.3185 - val_accuracy: 0.8584\n",
            "Epoch 64/100\n",
            "32/32 [==============================] - 0s 2ms/step - loss: 0.3329 - accuracy: 0.8669 - val_loss: 0.3179 - val_accuracy: 0.8539\n",
            "Epoch 65/100\n",
            "32/32 [==============================] - 0s 2ms/step - loss: 0.3316 - accuracy: 0.8659 - val_loss: 0.3156 - val_accuracy: 0.8584\n",
            "Epoch 66/100\n",
            "32/32 [==============================] - 0s 2ms/step - loss: 0.3300 - accuracy: 0.8679 - val_loss: 0.3149 - val_accuracy: 0.8539\n",
            "Epoch 67/100\n",
            "32/32 [==============================] - 0s 2ms/step - loss: 0.3287 - accuracy: 0.8659 - val_loss: 0.3121 - val_accuracy: 0.8584\n",
            "Epoch 68/100\n",
            "32/32 [==============================] - 0s 2ms/step - loss: 0.3272 - accuracy: 0.8708 - val_loss: 0.3128 - val_accuracy: 0.8539\n",
            "Epoch 69/100\n",
            "32/32 [==============================] - 0s 2ms/step - loss: 0.3260 - accuracy: 0.8708 - val_loss: 0.3104 - val_accuracy: 0.8584\n",
            "Epoch 70/100\n",
            "32/32 [==============================] - 0s 2ms/step - loss: 0.3246 - accuracy: 0.8689 - val_loss: 0.3085 - val_accuracy: 0.8584\n",
            "Epoch 71/100\n",
            "32/32 [==============================] - 0s 2ms/step - loss: 0.3240 - accuracy: 0.8650 - val_loss: 0.3065 - val_accuracy: 0.8584\n",
            "Epoch 72/100\n",
            "32/32 [==============================] - 0s 2ms/step - loss: 0.3224 - accuracy: 0.8708 - val_loss: 0.3051 - val_accuracy: 0.8630\n",
            "Epoch 73/100\n",
            "32/32 [==============================] - 0s 2ms/step - loss: 0.3216 - accuracy: 0.8679 - val_loss: 0.3043 - val_accuracy: 0.8584\n",
            "Epoch 74/100\n",
            "32/32 [==============================] - 0s 2ms/step - loss: 0.3200 - accuracy: 0.8679 - val_loss: 0.3030 - val_accuracy: 0.8630\n",
            "Epoch 75/100\n",
            "32/32 [==============================] - 0s 2ms/step - loss: 0.3188 - accuracy: 0.8699 - val_loss: 0.3025 - val_accuracy: 0.8584\n",
            "Epoch 76/100\n",
            "32/32 [==============================] - 0s 2ms/step - loss: 0.3181 - accuracy: 0.8689 - val_loss: 0.3008 - val_accuracy: 0.8630\n",
            "Epoch 77/100\n",
            "32/32 [==============================] - 0s 2ms/step - loss: 0.3165 - accuracy: 0.8728 - val_loss: 0.2999 - val_accuracy: 0.8630\n",
            "Epoch 78/100\n",
            "32/32 [==============================] - 0s 2ms/step - loss: 0.3161 - accuracy: 0.8699 - val_loss: 0.2990 - val_accuracy: 0.8630\n",
            "Epoch 79/100\n",
            "32/32 [==============================] - 0s 2ms/step - loss: 0.3151 - accuracy: 0.8699 - val_loss: 0.2976 - val_accuracy: 0.8630\n",
            "Epoch 80/100\n",
            "32/32 [==============================] - 0s 2ms/step - loss: 0.3146 - accuracy: 0.8748 - val_loss: 0.2979 - val_accuracy: 0.8630\n",
            "Epoch 81/100\n",
            "32/32 [==============================] - 0s 2ms/step - loss: 0.3131 - accuracy: 0.8728 - val_loss: 0.2969 - val_accuracy: 0.8630\n",
            "Epoch 82/100\n",
            "32/32 [==============================] - 0s 2ms/step - loss: 0.3125 - accuracy: 0.8679 - val_loss: 0.2958 - val_accuracy: 0.8630\n",
            "Epoch 83/100\n",
            "32/32 [==============================] - 0s 2ms/step - loss: 0.3117 - accuracy: 0.8689 - val_loss: 0.2942 - val_accuracy: 0.8676\n",
            "Epoch 84/100\n",
            "32/32 [==============================] - 0s 2ms/step - loss: 0.3110 - accuracy: 0.8757 - val_loss: 0.2937 - val_accuracy: 0.8676\n",
            "Epoch 85/100\n",
            "32/32 [==============================] - 0s 2ms/step - loss: 0.3093 - accuracy: 0.8728 - val_loss: 0.2914 - val_accuracy: 0.8721\n",
            "Epoch 86/100\n",
            "32/32 [==============================] - 0s 2ms/step - loss: 0.3084 - accuracy: 0.8748 - val_loss: 0.2907 - val_accuracy: 0.8676\n",
            "Epoch 87/100\n",
            "32/32 [==============================] - 0s 2ms/step - loss: 0.3076 - accuracy: 0.8757 - val_loss: 0.2903 - val_accuracy: 0.8676\n",
            "Epoch 88/100\n",
            "32/32 [==============================] - 0s 2ms/step - loss: 0.3071 - accuracy: 0.8738 - val_loss: 0.2888 - val_accuracy: 0.8721\n",
            "Epoch 89/100\n",
            "32/32 [==============================] - 0s 2ms/step - loss: 0.3061 - accuracy: 0.8777 - val_loss: 0.2887 - val_accuracy: 0.8676\n",
            "Epoch 90/100\n",
            "32/32 [==============================] - 0s 2ms/step - loss: 0.3052 - accuracy: 0.8738 - val_loss: 0.2873 - val_accuracy: 0.8721\n",
            "Epoch 91/100\n",
            "32/32 [==============================] - 0s 2ms/step - loss: 0.3047 - accuracy: 0.8777 - val_loss: 0.2862 - val_accuracy: 0.8721\n",
            "Epoch 92/100\n",
            "32/32 [==============================] - 0s 2ms/step - loss: 0.3038 - accuracy: 0.8718 - val_loss: 0.2855 - val_accuracy: 0.8721\n",
            "Epoch 93/100\n",
            "32/32 [==============================] - 0s 2ms/step - loss: 0.3037 - accuracy: 0.8757 - val_loss: 0.2847 - val_accuracy: 0.8721\n",
            "Epoch 94/100\n",
            "32/32 [==============================] - 0s 2ms/step - loss: 0.3028 - accuracy: 0.8748 - val_loss: 0.2847 - val_accuracy: 0.8676\n",
            "Epoch 95/100\n",
            "32/32 [==============================] - 0s 2ms/step - loss: 0.3021 - accuracy: 0.8777 - val_loss: 0.2835 - val_accuracy: 0.8721\n",
            "Epoch 96/100\n",
            "32/32 [==============================] - 0s 2ms/step - loss: 0.3009 - accuracy: 0.8777 - val_loss: 0.2830 - val_accuracy: 0.8721\n",
            "Epoch 97/100\n",
            "32/32 [==============================] - 0s 2ms/step - loss: 0.2998 - accuracy: 0.8816 - val_loss: 0.2816 - val_accuracy: 0.8721\n",
            "Epoch 98/100\n",
            "32/32 [==============================] - 0s 2ms/step - loss: 0.2987 - accuracy: 0.8767 - val_loss: 0.2809 - val_accuracy: 0.8858\n",
            "Epoch 99/100\n",
            "32/32 [==============================] - 0s 2ms/step - loss: 0.2993 - accuracy: 0.8796 - val_loss: 0.2802 - val_accuracy: 0.8813\n",
            "Epoch 100/100\n",
            "32/32 [==============================] - 0s 2ms/step - loss: 0.2984 - accuracy: 0.8796 - val_loss: 0.2795 - val_accuracy: 0.8813\n"
          ],
          "name": "stdout"
        }
      ]
    },
    {
      "cell_type": "code",
      "metadata": {
        "id": "Gdn-gFXoi5sp",
        "colab_type": "code",
        "outputId": "95264cb9-5a59-478f-cc2f-7ff8c3bb37da",
        "colab": {
          "base_uri": "https://localhost:8080/",
          "height": 51
        }
      },
      "source": [
        "model.evaluate(x_test, y_test)[1]"
      ],
      "execution_count": 39,
      "outputs": [
        {
          "output_type": "stream",
          "text": [
            "7/7 [==============================] - 0s 1ms/step - loss: 0.2501 - accuracy: 0.9087\n"
          ],
          "name": "stdout"
        },
        {
          "output_type": "execute_result",
          "data": {
            "text/plain": [
              "0.9086757898330688"
            ]
          },
          "metadata": {
            "tags": []
          },
          "execution_count": 39
        }
      ]
    },
    {
      "cell_type": "markdown",
      "metadata": {
        "id": "bDM7bAMyrsnX",
        "colab_type": "text"
      },
      "source": [
        "# Step 4 - Analyzing Loss and Accuracy"
      ]
    },
    {
      "cell_type": "code",
      "metadata": {
        "id": "GuQ-gZnGzcnN",
        "colab_type": "code",
        "outputId": "2e69a29a-1ac2-4fbd-c2e4-0b3e0f1b8a7a",
        "colab": {
          "base_uri": "https://localhost:8080/",
          "height": 295
        }
      },
      "source": [
        "plt.plot(hist.history['accuracy'])\n",
        "plt.plot(hist.history['val_accuracy'])\n",
        "plt.title('Model accuracy')\n",
        "plt.ylabel('Accuracy')\n",
        "plt.xlabel('Epoch')\n",
        "plt.legend(['Train', 'Val'], loc = 'lower right')\n",
        "plt.show()"
      ],
      "execution_count": 40,
      "outputs": [
        {
          "output_type": "display_data",
          "data": {
            "image/png": "[encoded data removed]",
            "text/plain": [
              "<Figure size 432x288 with 1 Axes>"
            ]
          },
          "metadata": {
            "tags": []
          }
        }
      ]
    },
    {
      "cell_type": "markdown",
      "metadata": {
        "id": "v1iJqFkB0zxZ",
        "colab_type": "text"
      },
      "source": [
        "## Step 5 - Simulating Overfitting\n",
        "\n",
        "Introduce regularization to formulate a neural network which badly overfits. This is done by substantially increasing the number of neurons in each layer, and adding extra hidden layers to the model."
      ]
    },
    {
      "cell_type": "code",
      "metadata": {
        "id": "JbnU9RJa1OXd",
        "colab_type": "code",
        "outputId": "aa3e47b8-96b2-4029-85fa-90286d5f34cd",
        "colab": {
          "base_uri": "https://localhost:8080/",
          "height": 1000
        }
      },
      "source": [
        "model_2 = tf.keras.Sequential([\n",
        "    tf.keras.layers.Dense(1000, activation='relu', input_shape=(10,)),\n",
        "    tf.keras.layers.Dense(1000, activation='relu'),\n",
        "    tf.keras.layers.Dense(1000, activation='relu'),\n",
        "    tf.keras.layers.Dense(1000, activation='relu'),\n",
        "    tf.keras.layers.Dense(1, activation='sigmoid'),\n",
        "])\n",
        "\n",
        "model_2.compile(optimizer = 'adam',\n",
        "                  loss = 'binary_crossentropy',\n",
        "                  metrics = ['accuracy'])\n",
        "\n",
        "hist_2 = model_2.fit(x_train, y_train,\n",
        "                     batch_size = 32, epochs = 100,\n",
        "                     validation_data = (x_val, y_val))"
      ],
      "execution_count": 41,
      "outputs": [
        {
          "output_type": "stream",
          "text": [
            "Epoch 1/100\n",
            "32/32 [==============================] - 1s 33ms/step - loss: 0.4779 - accuracy: 0.7789 - val_loss: 0.3311 - val_accuracy: 0.8767\n",
            "Epoch 2/100\n",
            "32/32 [==============================] - 1s 33ms/step - loss: 0.3586 - accuracy: 0.8483 - val_loss: 0.2987 - val_accuracy: 0.8767\n",
            "Epoch 3/100\n",
            "32/32 [==============================] - 1s 33ms/step - loss: 0.3157 - accuracy: 0.8669 - val_loss: 0.3295 - val_accuracy: 0.8584\n",
            "Epoch 4/100\n",
            "32/32 [==============================] - 1s 31ms/step - loss: 0.2916 - accuracy: 0.8748 - val_loss: 0.3361 - val_accuracy: 0.8493\n",
            "Epoch 5/100\n",
            "32/32 [==============================] - 1s 31ms/step - loss: 0.2690 - accuracy: 0.8924 - val_loss: 0.2302 - val_accuracy: 0.8858\n",
            "Epoch 6/100\n",
            "32/32 [==============================] - 1s 31ms/step - loss: 0.2637 - accuracy: 0.8982 - val_loss: 0.2557 - val_accuracy: 0.8767\n",
            "Epoch 7/100\n",
            "32/32 [==============================] - 1s 32ms/step - loss: 0.2620 - accuracy: 0.8885 - val_loss: 0.2303 - val_accuracy: 0.8950\n",
            "Epoch 8/100\n",
            "32/32 [==============================] - 1s 31ms/step - loss: 0.2647 - accuracy: 0.8904 - val_loss: 0.2295 - val_accuracy: 0.8813\n",
            "Epoch 9/100\n",
            "32/32 [==============================] - 1s 31ms/step - loss: 0.2400 - accuracy: 0.9110 - val_loss: 0.2359 - val_accuracy: 0.9087\n",
            "Epoch 10/100\n",
            "32/32 [==============================] - 1s 31ms/step - loss: 0.2800 - accuracy: 0.8924 - val_loss: 0.2687 - val_accuracy: 0.9178\n",
            "Epoch 11/100\n",
            "32/32 [==============================] - 1s 31ms/step - loss: 0.2482 - accuracy: 0.9031 - val_loss: 0.2349 - val_accuracy: 0.8904\n",
            "Epoch 12/100\n",
            "32/32 [==============================] - 1s 32ms/step - loss: 0.2293 - accuracy: 0.9051 - val_loss: 0.2153 - val_accuracy: 0.9132\n",
            "Epoch 13/100\n",
            "32/32 [==============================] - 1s 31ms/step - loss: 0.2488 - accuracy: 0.8973 - val_loss: 0.2224 - val_accuracy: 0.9132\n",
            "Epoch 14/100\n",
            "32/32 [==============================] - 1s 31ms/step - loss: 0.2445 - accuracy: 0.8943 - val_loss: 0.2100 - val_accuracy: 0.9087\n",
            "Epoch 15/100\n",
            "32/32 [==============================] - 1s 33ms/step - loss: 0.2214 - accuracy: 0.9149 - val_loss: 0.2424 - val_accuracy: 0.8858\n",
            "Epoch 16/100\n",
            "32/32 [==============================] - 1s 31ms/step - loss: 0.2170 - accuracy: 0.9041 - val_loss: 0.2178 - val_accuracy: 0.8995\n",
            "Epoch 17/100\n",
            "32/32 [==============================] - 1s 31ms/step - loss: 0.2216 - accuracy: 0.9168 - val_loss: 0.2563 - val_accuracy: 0.8676\n",
            "Epoch 18/100\n",
            "32/32 [==============================] - 1s 31ms/step - loss: 0.2150 - accuracy: 0.9100 - val_loss: 0.2092 - val_accuracy: 0.8950\n",
            "Epoch 19/100\n",
            "32/32 [==============================] - 1s 31ms/step - loss: 0.2158 - accuracy: 0.9100 - val_loss: 0.2300 - val_accuracy: 0.8858\n",
            "Epoch 20/100\n",
            "32/32 [==============================] - 1s 31ms/step - loss: 0.2308 - accuracy: 0.9080 - val_loss: 0.1946 - val_accuracy: 0.8995\n",
            "Epoch 21/100\n",
            "32/32 [==============================] - 1s 30ms/step - loss: 0.2092 - accuracy: 0.9168 - val_loss: 0.2097 - val_accuracy: 0.8995\n",
            "Epoch 22/100\n",
            "32/32 [==============================] - 1s 30ms/step - loss: 0.2083 - accuracy: 0.9129 - val_loss: 0.2082 - val_accuracy: 0.9087\n",
            "Epoch 23/100\n",
            "32/32 [==============================] - 1s 30ms/step - loss: 0.1997 - accuracy: 0.9198 - val_loss: 0.2486 - val_accuracy: 0.8813\n",
            "Epoch 24/100\n",
            "32/32 [==============================] - 1s 30ms/step - loss: 0.1850 - accuracy: 0.9256 - val_loss: 0.2449 - val_accuracy: 0.8767\n",
            "Epoch 25/100\n",
            "32/32 [==============================] - 1s 31ms/step - loss: 0.2003 - accuracy: 0.9207 - val_loss: 0.2209 - val_accuracy: 0.8721\n",
            "Epoch 26/100\n",
            "32/32 [==============================] - 1s 31ms/step - loss: 0.2186 - accuracy: 0.9070 - val_loss: 0.1863 - val_accuracy: 0.9178\n",
            "Epoch 27/100\n",
            "32/32 [==============================] - 1s 30ms/step - loss: 0.1898 - accuracy: 0.9227 - val_loss: 0.2218 - val_accuracy: 0.8767\n",
            "Epoch 28/100\n",
            "32/32 [==============================] - 1s 30ms/step - loss: 0.2028 - accuracy: 0.9198 - val_loss: 0.2414 - val_accuracy: 0.8630\n",
            "Epoch 29/100\n",
            "32/32 [==============================] - 1s 31ms/step - loss: 0.1846 - accuracy: 0.9295 - val_loss: 0.2035 - val_accuracy: 0.8904\n",
            "Epoch 30/100\n",
            "32/32 [==============================] - 1s 30ms/step - loss: 0.1671 - accuracy: 0.9335 - val_loss: 0.2487 - val_accuracy: 0.8858\n",
            "Epoch 31/100\n",
            "32/32 [==============================] - 1s 30ms/step - loss: 0.2638 - accuracy: 0.9022 - val_loss: 0.2941 - val_accuracy: 0.8813\n",
            "Epoch 32/100\n",
            "32/32 [==============================] - 1s 30ms/step - loss: 0.2143 - accuracy: 0.9159 - val_loss: 0.2644 - val_accuracy: 0.8767\n",
            "Epoch 33/100\n",
            "32/32 [==============================] - 1s 30ms/step - loss: 0.1736 - accuracy: 0.9354 - val_loss: 0.2362 - val_accuracy: 0.9087\n",
            "Epoch 34/100\n",
            "32/32 [==============================] - 1s 30ms/step - loss: 0.2107 - accuracy: 0.9149 - val_loss: 0.2071 - val_accuracy: 0.8995\n",
            "Epoch 35/100\n",
            "32/32 [==============================] - 1s 31ms/step - loss: 0.2023 - accuracy: 0.9198 - val_loss: 0.2145 - val_accuracy: 0.9041\n",
            "Epoch 36/100\n",
            "32/32 [==============================] - 1s 31ms/step - loss: 0.1891 - accuracy: 0.9276 - val_loss: 0.2152 - val_accuracy: 0.9087\n",
            "Epoch 37/100\n",
            "32/32 [==============================] - 1s 30ms/step - loss: 0.1719 - accuracy: 0.9315 - val_loss: 0.2233 - val_accuracy: 0.8904\n",
            "Epoch 38/100\n",
            "32/32 [==============================] - 1s 30ms/step - loss: 0.2100 - accuracy: 0.9207 - val_loss: 0.2302 - val_accuracy: 0.8995\n",
            "Epoch 39/100\n",
            "32/32 [==============================] - 1s 30ms/step - loss: 0.1814 - accuracy: 0.9295 - val_loss: 0.2320 - val_accuracy: 0.8858\n",
            "Epoch 40/100\n",
            "32/32 [==============================] - 1s 30ms/step - loss: 0.1751 - accuracy: 0.9335 - val_loss: 0.2192 - val_accuracy: 0.8995\n",
            "Epoch 41/100\n",
            "32/32 [==============================] - 1s 30ms/step - loss: 0.1698 - accuracy: 0.9315 - val_loss: 0.2866 - val_accuracy: 0.8447\n",
            "Epoch 42/100\n",
            "32/32 [==============================] - 1s 31ms/step - loss: 0.1751 - accuracy: 0.9325 - val_loss: 0.2423 - val_accuracy: 0.8767\n",
            "Epoch 43/100\n",
            "32/32 [==============================] - 1s 30ms/step - loss: 0.1907 - accuracy: 0.9198 - val_loss: 0.1966 - val_accuracy: 0.9178\n",
            "Epoch 44/100\n",
            "32/32 [==============================] - 1s 30ms/step - loss: 0.1681 - accuracy: 0.9374 - val_loss: 0.2134 - val_accuracy: 0.9041\n",
            "Epoch 45/100\n",
            "32/32 [==============================] - 1s 30ms/step - loss: 0.1666 - accuracy: 0.9335 - val_loss: 0.2582 - val_accuracy: 0.8584\n",
            "Epoch 46/100\n",
            "32/32 [==============================] - 1s 31ms/step - loss: 0.1611 - accuracy: 0.9315 - val_loss: 0.2174 - val_accuracy: 0.8950\n",
            "Epoch 47/100\n",
            "32/32 [==============================] - 1s 30ms/step - loss: 0.1581 - accuracy: 0.9374 - val_loss: 0.2101 - val_accuracy: 0.8995\n",
            "Epoch 48/100\n",
            "32/32 [==============================] - 1s 30ms/step - loss: 0.1614 - accuracy: 0.9374 - val_loss: 0.2430 - val_accuracy: 0.8950\n",
            "Epoch 49/100\n",
            "32/32 [==============================] - 1s 30ms/step - loss: 0.1675 - accuracy: 0.9305 - val_loss: 0.2730 - val_accuracy: 0.8950\n",
            "Epoch 50/100\n",
            "32/32 [==============================] - 1s 30ms/step - loss: 0.1572 - accuracy: 0.9384 - val_loss: 0.2640 - val_accuracy: 0.8813\n",
            "Epoch 51/100\n",
            "32/32 [==============================] - 1s 30ms/step - loss: 0.1558 - accuracy: 0.9364 - val_loss: 0.2887 - val_accuracy: 0.8767\n",
            "Epoch 52/100\n",
            "32/32 [==============================] - 1s 30ms/step - loss: 0.1555 - accuracy: 0.9413 - val_loss: 0.2401 - val_accuracy: 0.8858\n",
            "Epoch 53/100\n",
            "32/32 [==============================] - 1s 30ms/step - loss: 0.1817 - accuracy: 0.9315 - val_loss: 0.2256 - val_accuracy: 0.8904\n",
            "Epoch 54/100\n",
            "32/32 [==============================] - 1s 30ms/step - loss: 0.1816 - accuracy: 0.9276 - val_loss: 0.2375 - val_accuracy: 0.8858\n",
            "Epoch 55/100\n",
            "32/32 [==============================] - 1s 30ms/step - loss: 0.1683 - accuracy: 0.9256 - val_loss: 0.2758 - val_accuracy: 0.8676\n",
            "Epoch 56/100\n",
            "32/32 [==============================] - 1s 32ms/step - loss: 0.1669 - accuracy: 0.9315 - val_loss: 0.2314 - val_accuracy: 0.8995\n",
            "Epoch 57/100\n",
            "32/32 [==============================] - 1s 30ms/step - loss: 0.1672 - accuracy: 0.9286 - val_loss: 0.2448 - val_accuracy: 0.9041\n",
            "Epoch 58/100\n",
            "32/32 [==============================] - 1s 30ms/step - loss: 0.1441 - accuracy: 0.9364 - val_loss: 0.3201 - val_accuracy: 0.8676\n",
            "Epoch 59/100\n",
            "32/32 [==============================] - 1s 30ms/step - loss: 0.1633 - accuracy: 0.9276 - val_loss: 0.2452 - val_accuracy: 0.8950\n",
            "Epoch 60/100\n",
            "32/32 [==============================] - 1s 30ms/step - loss: 0.1313 - accuracy: 0.9481 - val_loss: 0.2699 - val_accuracy: 0.8904\n",
            "Epoch 61/100\n",
            "32/32 [==============================] - 1s 31ms/step - loss: 0.1420 - accuracy: 0.9462 - val_loss: 0.2736 - val_accuracy: 0.8767\n",
            "Epoch 62/100\n",
            "32/32 [==============================] - 1s 31ms/step - loss: 0.1362 - accuracy: 0.9393 - val_loss: 0.2868 - val_accuracy: 0.8950\n",
            "Epoch 63/100\n",
            "32/32 [==============================] - 1s 30ms/step - loss: 0.1763 - accuracy: 0.9286 - val_loss: 0.2729 - val_accuracy: 0.8904\n",
            "Epoch 64/100\n",
            "32/32 [==============================] - 1s 30ms/step - loss: 0.1657 - accuracy: 0.9335 - val_loss: 0.2555 - val_accuracy: 0.8858\n",
            "Epoch 65/100\n",
            "32/32 [==============================] - 1s 30ms/step - loss: 0.1678 - accuracy: 0.9384 - val_loss: 0.2745 - val_accuracy: 0.8721\n",
            "Epoch 66/100\n",
            "32/32 [==============================] - 1s 30ms/step - loss: 0.1643 - accuracy: 0.9374 - val_loss: 0.2411 - val_accuracy: 0.8813\n",
            "Epoch 67/100\n",
            "32/32 [==============================] - 1s 31ms/step - loss: 0.1485 - accuracy: 0.9442 - val_loss: 0.2099 - val_accuracy: 0.8995\n",
            "Epoch 68/100\n",
            "32/32 [==============================] - 1s 30ms/step - loss: 0.1729 - accuracy: 0.9315 - val_loss: 0.2460 - val_accuracy: 0.8950\n",
            "Epoch 69/100\n",
            "32/32 [==============================] - 1s 30ms/step - loss: 0.1661 - accuracy: 0.9393 - val_loss: 0.2597 - val_accuracy: 0.8767\n",
            "Epoch 70/100\n",
            "32/32 [==============================] - 1s 30ms/step - loss: 0.1665 - accuracy: 0.9286 - val_loss: 0.2740 - val_accuracy: 0.8539\n",
            "Epoch 71/100\n",
            "32/32 [==============================] - 1s 30ms/step - loss: 0.1488 - accuracy: 0.9423 - val_loss: 0.2724 - val_accuracy: 0.8676\n",
            "Epoch 72/100\n",
            "32/32 [==============================] - 1s 30ms/step - loss: 0.1283 - accuracy: 0.9462 - val_loss: 0.2824 - val_accuracy: 0.8813\n",
            "Epoch 73/100\n",
            "32/32 [==============================] - 1s 30ms/step - loss: 0.1258 - accuracy: 0.9491 - val_loss: 0.2606 - val_accuracy: 0.8858\n",
            "Epoch 74/100\n",
            "32/32 [==============================] - 1s 29ms/step - loss: 0.1329 - accuracy: 0.9442 - val_loss: 0.2954 - val_accuracy: 0.8447\n",
            "Epoch 75/100\n",
            "32/32 [==============================] - 1s 30ms/step - loss: 0.1286 - accuracy: 0.9501 - val_loss: 0.2417 - val_accuracy: 0.9041\n",
            "Epoch 76/100\n",
            "32/32 [==============================] - 1s 31ms/step - loss: 0.1284 - accuracy: 0.9511 - val_loss: 0.3673 - val_accuracy: 0.8813\n",
            "Epoch 77/100\n",
            "32/32 [==============================] - 1s 31ms/step - loss: 0.1375 - accuracy: 0.9501 - val_loss: 0.2485 - val_accuracy: 0.8858\n",
            "Epoch 78/100\n",
            "32/32 [==============================] - 1s 30ms/step - loss: 0.1138 - accuracy: 0.9540 - val_loss: 0.3333 - val_accuracy: 0.8813\n",
            "Epoch 79/100\n",
            "32/32 [==============================] - 1s 30ms/step - loss: 0.1130 - accuracy: 0.9589 - val_loss: 0.3965 - val_accuracy: 0.8904\n",
            "Epoch 80/100\n",
            "32/32 [==============================] - 1s 30ms/step - loss: 0.1484 - accuracy: 0.9315 - val_loss: 0.3230 - val_accuracy: 0.8904\n",
            "Epoch 81/100\n",
            "32/32 [==============================] - 1s 30ms/step - loss: 0.1618 - accuracy: 0.9364 - val_loss: 0.2820 - val_accuracy: 0.8813\n",
            "Epoch 82/100\n",
            "32/32 [==============================] - 1s 30ms/step - loss: 0.1301 - accuracy: 0.9530 - val_loss: 0.2712 - val_accuracy: 0.8904\n",
            "Epoch 83/100\n",
            "32/32 [==============================] - 1s 32ms/step - loss: 0.1245 - accuracy: 0.9501 - val_loss: 0.3038 - val_accuracy: 0.8767\n",
            "Epoch 84/100\n",
            "32/32 [==============================] - 1s 30ms/step - loss: 0.1179 - accuracy: 0.9530 - val_loss: 0.3402 - val_accuracy: 0.8950\n",
            "Epoch 85/100\n",
            "32/32 [==============================] - 1s 31ms/step - loss: 0.1544 - accuracy: 0.9403 - val_loss: 0.3603 - val_accuracy: 0.8858\n",
            "Epoch 86/100\n",
            "32/32 [==============================] - 1s 31ms/step - loss: 0.1122 - accuracy: 0.9540 - val_loss: 0.3784 - val_accuracy: 0.8858\n",
            "Epoch 87/100\n",
            "32/32 [==============================] - 1s 31ms/step - loss: 0.1019 - accuracy: 0.9609 - val_loss: 0.3527 - val_accuracy: 0.8858\n",
            "Epoch 88/100\n",
            "32/32 [==============================] - 1s 30ms/step - loss: 0.1585 - accuracy: 0.9335 - val_loss: 0.2765 - val_accuracy: 0.8813\n",
            "Epoch 89/100\n",
            "32/32 [==============================] - 1s 31ms/step - loss: 0.1668 - accuracy: 0.9266 - val_loss: 0.3387 - val_accuracy: 0.8767\n",
            "Epoch 90/100\n",
            "32/32 [==============================] - 1s 31ms/step - loss: 0.1151 - accuracy: 0.9569 - val_loss: 0.4682 - val_accuracy: 0.8584\n",
            "Epoch 91/100\n",
            "32/32 [==============================] - 1s 30ms/step - loss: 0.1289 - accuracy: 0.9530 - val_loss: 0.3025 - val_accuracy: 0.8995\n",
            "Epoch 92/100\n",
            "32/32 [==============================] - 1s 31ms/step - loss: 0.1136 - accuracy: 0.9540 - val_loss: 0.3703 - val_accuracy: 0.8584\n",
            "Epoch 93/100\n",
            "32/32 [==============================] - 1s 30ms/step - loss: 0.1030 - accuracy: 0.9599 - val_loss: 0.3964 - val_accuracy: 0.8813\n",
            "Epoch 94/100\n",
            "32/32 [==============================] - 1s 30ms/step - loss: 0.0965 - accuracy: 0.9599 - val_loss: 0.4832 - val_accuracy: 0.8767\n",
            "Epoch 95/100\n",
            "32/32 [==============================] - 1s 31ms/step - loss: 0.0979 - accuracy: 0.9618 - val_loss: 0.3660 - val_accuracy: 0.8813\n",
            "Epoch 96/100\n",
            "32/32 [==============================] - 1s 31ms/step - loss: 0.1138 - accuracy: 0.9540 - val_loss: 0.3416 - val_accuracy: 0.8721\n",
            "Epoch 97/100\n",
            "32/32 [==============================] - 1s 31ms/step - loss: 0.0977 - accuracy: 0.9638 - val_loss: 0.4505 - val_accuracy: 0.8767\n",
            "Epoch 98/100\n",
            "32/32 [==============================] - 1s 32ms/step - loss: 0.1018 - accuracy: 0.9609 - val_loss: 0.4512 - val_accuracy: 0.8813\n",
            "Epoch 99/100\n",
            "32/32 [==============================] - 1s 31ms/step - loss: 0.1191 - accuracy: 0.9530 - val_loss: 0.4801 - val_accuracy: 0.8950\n",
            "Epoch 100/100\n",
            "32/32 [==============================] - 1s 31ms/step - loss: 0.1272 - accuracy: 0.9452 - val_loss: 0.4614 - val_accuracy: 0.8539\n"
          ],
          "name": "stdout"
        }
      ]
    },
    {
      "cell_type": "code",
      "metadata": {
        "id": "QvloeioK3P30",
        "colab_type": "code",
        "outputId": "c7b92381-cc01-4d79-b8c1-66d85fd84702",
        "colab": {
          "base_uri": "https://localhost:8080/",
          "height": 295
        }
      },
      "source": [
        "plt.plot(hist_2.history['loss'])\n",
        "plt.plot(hist_2.history['val_loss'])\n",
        "plt.title('Model loss')\n",
        "plt.ylabel('Loss')\n",
        "plt.xlabel('Epoch')\n",
        "plt.legend(['Train', 'Val'], loc = 'upper right')\n",
        "plt.show()"
      ],
      "execution_count": 42,
      "outputs": [
        {
          "output_type": "display_data",
          "data": {
            "image/png": "[encoded data removed]",
            "text/plain": [
              "<Figure size 432x288 with 1 Axes>"
            ]
          },
          "metadata": {
            "tags": []
          }
        }
      ]
    },
    {
      "cell_type": "code",
      "metadata": {
        "id": "tcxf4-jn4JmV",
        "colab_type": "code",
        "outputId": "4f7f3354-3ec9-4466-ad0e-5e8e57d0f657",
        "colab": {
          "base_uri": "https://localhost:8080/",
          "height": 295
        }
      },
      "source": [
        "plt.plot(hist_2.history['accuracy'])\n",
        "plt.plot(hist_2.history['val_accuracy'])\n",
        "plt.title('Model accuracy')\n",
        "plt.ylabel('Accuracy')\n",
        "plt.xlabel('Epoch')\n",
        "plt.legend(['Train', 'Val'], loc='lower right')\n",
        "plt.show()"
      ],
      "execution_count": 43,
      "outputs": [
        {
          "output_type": "display_data",
          "data": {
            "image/png": "[encoded data removed]",
            "text/plain": [
              "<Figure size 432x288 with 1 Axes>"
            ]
          },
          "metadata": {
            "tags": []
          }
        }
      ]
    },
    {
      "cell_type": "markdown",
      "metadata": {
        "id": "-EiUoE0L8pQ_",
        "colab_type": "text"
      },
      "source": [
        "## Step 6 - Reducing Overfitting\n",
        "\n",
        "There are three ways to reduce over fitting:\n",
        "\n",
        "1. L2 Regularization: works by penalizing extremely large parameters within a model. Adds a penalty to the loss function which is squared value of the parameters (scaled by a constant).\n",
        "\n",
        "\n",
        "2. Early Stopping: the loss function follows a u shaped curve, so this method involves taking the model at the bottom of the U-Shaped curve.\n",
        "\n",
        "3. Dropout: during training of the model, you can randomly assign some of the models to drop out at each step with a set probability. Introduces randomness to the training to prevent over-reliance on key neurons.\n",
        "\n",
        "L2 Regularization and Dropout will be used to resolve the overfitting from Model 2. A probability of 30% will be applied to the Neutron Dropout, and we will apply a constant of 0.01 to the L2 Regularization."
      ]
    },
    {
      "cell_type": "code",
      "metadata": {
        "id": "P3PNndN3DnRL",
        "colab_type": "code",
        "colab": {}
      },
      "source": [
        "model_3 = tf.keras.Sequential([\n",
        "    tf.keras.layers.Dense(1000, activation='relu', kernel_regularizer=regularizers.l2(0.01), input_shape=(10,)),\n",
        "    tf.keras.layers.Dropout(0.3),\n",
        "    tf.keras.layers.Dense(1000, activation='relu', kernel_regularizer=regularizers.l2(0.01)),\n",
        "    tf.keras.layers.Dropout(0.3),\n",
        "    tf.keras.layers.Dense(1000, activation='relu', kernel_regularizer=regularizers.l2(0.01)),\n",
        "    tf.keras.layers.Dropout(0.3),\n",
        "    tf.keras.layers.Dense(1000, activation='relu', kernel_regularizer=regularizers.l2(0.01)),\n",
        "    tf.keras.layers.Dropout(0.3),\n",
        "    tf.keras.layers.Dense(1, activation='sigmoid', kernel_regularizer=regularizers.l2(0.01)),\n",
        "])"
      ],
      "execution_count": 0,
      "outputs": []
    },
    {
      "cell_type": "code",
      "metadata": {
        "id": "uDMoTKRrwcm2",
        "colab_type": "code",
        "colab": {
          "base_uri": "https://localhost:8080/",
          "height": 1000
        },
        "outputId": "98734c29-bb0a-4fc8-ddd4-d1aaab3e6ae3"
      },
      "source": [
        "model_3.compile(optimizer = 'adam',\n",
        "                loss = 'binary_crossentropy',\n",
        "                metrics = ['accuracy'])\n",
        "hist_3 = model_3.fit(x_train, y_train,\n",
        "                     batch_size=32, epochs=100,\n",
        "                     validation_data=(x_val, y_val))"
      ],
      "execution_count": 45,
      "outputs": [
        {
          "output_type": "stream",
          "text": [
            "Epoch 1/100\n",
            "32/32 [==============================] - 1s 42ms/step - loss: 14.2254 - accuracy: 0.6027 - val_loss: 3.9142 - val_accuracy: 0.8493\n",
            "Epoch 2/100\n",
            "32/32 [==============================] - 1s 39ms/step - loss: 1.6670 - accuracy: 0.8356 - val_loss: 0.6692 - val_accuracy: 0.8584\n",
            "Epoch 3/100\n",
            "32/32 [==============================] - 1s 39ms/step - loss: 0.5890 - accuracy: 0.8532 - val_loss: 0.5000 - val_accuracy: 0.8630\n",
            "Epoch 4/100\n",
            "32/32 [==============================] - 1s 39ms/step - loss: 0.5121 - accuracy: 0.8513 - val_loss: 0.5273 - val_accuracy: 0.8630\n",
            "Epoch 5/100\n",
            "32/32 [==============================] - 1s 40ms/step - loss: 0.4960 - accuracy: 0.8699 - val_loss: 0.4546 - val_accuracy: 0.8995\n",
            "Epoch 6/100\n",
            "32/32 [==============================] - 1s 39ms/step - loss: 0.4914 - accuracy: 0.8748 - val_loss: 0.4607 - val_accuracy: 0.8950\n",
            "Epoch 7/100\n",
            "32/32 [==============================] - 1s 39ms/step - loss: 0.4904 - accuracy: 0.8748 - val_loss: 0.4383 - val_accuracy: 0.8950\n",
            "Epoch 8/100\n",
            "32/32 [==============================] - 1s 40ms/step - loss: 0.4940 - accuracy: 0.8659 - val_loss: 0.4321 - val_accuracy: 0.8858\n",
            "Epoch 9/100\n",
            "32/32 [==============================] - 1s 39ms/step - loss: 0.5003 - accuracy: 0.8650 - val_loss: 0.4418 - val_accuracy: 0.8721\n",
            "Epoch 10/100\n",
            "32/32 [==============================] - 1s 39ms/step - loss: 0.4962 - accuracy: 0.8689 - val_loss: 0.4715 - val_accuracy: 0.8721\n",
            "Epoch 11/100\n",
            "32/32 [==============================] - 1s 39ms/step - loss: 0.4811 - accuracy: 0.8669 - val_loss: 0.4439 - val_accuracy: 0.8904\n",
            "Epoch 12/100\n",
            "32/32 [==============================] - 1s 39ms/step - loss: 0.4546 - accuracy: 0.8845 - val_loss: 0.4631 - val_accuracy: 0.8721\n",
            "Epoch 13/100\n",
            "32/32 [==============================] - 1s 38ms/step - loss: 0.4653 - accuracy: 0.8767 - val_loss: 0.4271 - val_accuracy: 0.8767\n",
            "Epoch 14/100\n",
            "32/32 [==============================] - 1s 38ms/step - loss: 0.4496 - accuracy: 0.8806 - val_loss: 0.4133 - val_accuracy: 0.8904\n",
            "Epoch 15/100\n",
            "32/32 [==============================] - 1s 39ms/step - loss: 0.4646 - accuracy: 0.8689 - val_loss: 0.4456 - val_accuracy: 0.8858\n",
            "Epoch 16/100\n",
            "32/32 [==============================] - 1s 39ms/step - loss: 0.4491 - accuracy: 0.8885 - val_loss: 0.4086 - val_accuracy: 0.8950\n",
            "Epoch 17/100\n",
            "32/32 [==============================] - 1s 38ms/step - loss: 0.4621 - accuracy: 0.8748 - val_loss: 0.4269 - val_accuracy: 0.8904\n",
            "Epoch 18/100\n",
            "32/32 [==============================] - 1s 38ms/step - loss: 0.4436 - accuracy: 0.8845 - val_loss: 0.4140 - val_accuracy: 0.8858\n",
            "Epoch 19/100\n",
            "32/32 [==============================] - 1s 38ms/step - loss: 0.4572 - accuracy: 0.8845 - val_loss: 0.4101 - val_accuracy: 0.8858\n",
            "Epoch 20/100\n",
            "32/32 [==============================] - 1s 39ms/step - loss: 0.4806 - accuracy: 0.8630 - val_loss: 0.4442 - val_accuracy: 0.8813\n",
            "Epoch 21/100\n",
            "32/32 [==============================] - 1s 40ms/step - loss: 0.5018 - accuracy: 0.8630 - val_loss: 0.4460 - val_accuracy: 0.8904\n",
            "Epoch 22/100\n",
            "32/32 [==============================] - 1s 38ms/step - loss: 0.4525 - accuracy: 0.8836 - val_loss: 0.4360 - val_accuracy: 0.8904\n",
            "Epoch 23/100\n",
            "32/32 [==============================] - 1s 39ms/step - loss: 0.4474 - accuracy: 0.8826 - val_loss: 0.4493 - val_accuracy: 0.8676\n",
            "Epoch 24/100\n",
            "32/32 [==============================] - 1s 39ms/step - loss: 0.4543 - accuracy: 0.8748 - val_loss: 0.4478 - val_accuracy: 0.8858\n",
            "Epoch 25/100\n",
            "32/32 [==============================] - 1s 39ms/step - loss: 0.4515 - accuracy: 0.8816 - val_loss: 0.4100 - val_accuracy: 0.8858\n",
            "Epoch 26/100\n",
            "32/32 [==============================] - 1s 39ms/step - loss: 0.4578 - accuracy: 0.8796 - val_loss: 0.4198 - val_accuracy: 0.8813\n",
            "Epoch 27/100\n",
            "32/32 [==============================] - 1s 38ms/step - loss: 0.4477 - accuracy: 0.8757 - val_loss: 0.4118 - val_accuracy: 0.8904\n",
            "Epoch 28/100\n",
            "32/32 [==============================] - 1s 38ms/step - loss: 0.4351 - accuracy: 0.8885 - val_loss: 0.4036 - val_accuracy: 0.8904\n",
            "Epoch 29/100\n",
            "32/32 [==============================] - 1s 39ms/step - loss: 0.4455 - accuracy: 0.8757 - val_loss: 0.4244 - val_accuracy: 0.8950\n",
            "Epoch 30/100\n",
            "32/32 [==============================] - 1s 38ms/step - loss: 0.4348 - accuracy: 0.8855 - val_loss: 0.4114 - val_accuracy: 0.8858\n",
            "Epoch 31/100\n",
            "32/32 [==============================] - 1s 39ms/step - loss: 0.4604 - accuracy: 0.8669 - val_loss: 0.4754 - val_accuracy: 0.8630\n",
            "Epoch 32/100\n",
            "32/32 [==============================] - 1s 39ms/step - loss: 0.4795 - accuracy: 0.8620 - val_loss: 0.4340 - val_accuracy: 0.8813\n",
            "Epoch 33/100\n",
            "32/32 [==============================] - 1s 38ms/step - loss: 0.4486 - accuracy: 0.8836 - val_loss: 0.4344 - val_accuracy: 0.8904\n",
            "Epoch 34/100\n",
            "32/32 [==============================] - 1s 39ms/step - loss: 0.4383 - accuracy: 0.8894 - val_loss: 0.4018 - val_accuracy: 0.8858\n",
            "Epoch 35/100\n",
            "32/32 [==============================] - 1s 40ms/step - loss: 0.4610 - accuracy: 0.8659 - val_loss: 0.4109 - val_accuracy: 0.8858\n",
            "Epoch 36/100\n",
            "32/32 [==============================] - 1s 39ms/step - loss: 0.4441 - accuracy: 0.8787 - val_loss: 0.4020 - val_accuracy: 0.8950\n",
            "Epoch 37/100\n",
            "32/32 [==============================] - 1s 38ms/step - loss: 0.4398 - accuracy: 0.8777 - val_loss: 0.4340 - val_accuracy: 0.8904\n",
            "Epoch 38/100\n",
            "32/32 [==============================] - 1s 39ms/step - loss: 0.4743 - accuracy: 0.8611 - val_loss: 0.4368 - val_accuracy: 0.8858\n",
            "Epoch 39/100\n",
            "32/32 [==============================] - 1s 38ms/step - loss: 0.4455 - accuracy: 0.8787 - val_loss: 0.4202 - val_accuracy: 0.8950\n",
            "Epoch 40/100\n",
            "32/32 [==============================] - 1s 38ms/step - loss: 0.4509 - accuracy: 0.8748 - val_loss: 0.4176 - val_accuracy: 0.8767\n",
            "Epoch 41/100\n",
            "32/32 [==============================] - 1s 39ms/step - loss: 0.4374 - accuracy: 0.8836 - val_loss: 0.4064 - val_accuracy: 0.8858\n",
            "Epoch 42/100\n",
            "32/32 [==============================] - 1s 38ms/step - loss: 0.4444 - accuracy: 0.8816 - val_loss: 0.4210 - val_accuracy: 0.8950\n",
            "Epoch 43/100\n",
            "32/32 [==============================] - 1s 38ms/step - loss: 0.4878 - accuracy: 0.8640 - val_loss: 0.4168 - val_accuracy: 0.8904\n",
            "Epoch 44/100\n",
            "32/32 [==============================] - 1s 38ms/step - loss: 0.4614 - accuracy: 0.8757 - val_loss: 0.4169 - val_accuracy: 0.8904\n",
            "Epoch 45/100\n",
            "32/32 [==============================] - 1s 38ms/step - loss: 0.4415 - accuracy: 0.8816 - val_loss: 0.4241 - val_accuracy: 0.8950\n",
            "Epoch 46/100\n",
            "32/32 [==============================] - 1s 39ms/step - loss: 0.4515 - accuracy: 0.8611 - val_loss: 0.4423 - val_accuracy: 0.8767\n",
            "Epoch 47/100\n",
            "32/32 [==============================] - 1s 40ms/step - loss: 0.4476 - accuracy: 0.8806 - val_loss: 0.4066 - val_accuracy: 0.8767\n",
            "Epoch 48/100\n",
            "32/32 [==============================] - 1s 39ms/step - loss: 0.4474 - accuracy: 0.8738 - val_loss: 0.4009 - val_accuracy: 0.8950\n",
            "Epoch 49/100\n",
            "32/32 [==============================] - 1s 39ms/step - loss: 0.4446 - accuracy: 0.8767 - val_loss: 0.4091 - val_accuracy: 0.8813\n",
            "Epoch 50/100\n",
            "32/32 [==============================] - 1s 39ms/step - loss: 0.4481 - accuracy: 0.8738 - val_loss: 0.3988 - val_accuracy: 0.8950\n",
            "Epoch 51/100\n",
            "32/32 [==============================] - 1s 39ms/step - loss: 0.4441 - accuracy: 0.8757 - val_loss: 0.4108 - val_accuracy: 0.8904\n",
            "Epoch 52/100\n",
            "32/32 [==============================] - 1s 39ms/step - loss: 0.4407 - accuracy: 0.8816 - val_loss: 0.4018 - val_accuracy: 0.8858\n",
            "Epoch 53/100\n",
            "32/32 [==============================] - 1s 39ms/step - loss: 0.4499 - accuracy: 0.8787 - val_loss: 0.4025 - val_accuracy: 0.8904\n",
            "Epoch 54/100\n",
            "32/32 [==============================] - 1s 39ms/step - loss: 0.4424 - accuracy: 0.8796 - val_loss: 0.4171 - val_accuracy: 0.8813\n",
            "Epoch 55/100\n",
            "32/32 [==============================] - 1s 40ms/step - loss: 0.4532 - accuracy: 0.8757 - val_loss: 0.4129 - val_accuracy: 0.8858\n",
            "Epoch 56/100\n",
            "32/32 [==============================] - 1s 39ms/step - loss: 0.4383 - accuracy: 0.8855 - val_loss: 0.4089 - val_accuracy: 0.8858\n",
            "Epoch 57/100\n",
            "32/32 [==============================] - 1s 39ms/step - loss: 0.4377 - accuracy: 0.8777 - val_loss: 0.4061 - val_accuracy: 0.8858\n",
            "Epoch 58/100\n",
            "32/32 [==============================] - 1s 39ms/step - loss: 0.4437 - accuracy: 0.8845 - val_loss: 0.4328 - val_accuracy: 0.8904\n",
            "Epoch 59/100\n",
            "32/32 [==============================] - 1s 39ms/step - loss: 0.4760 - accuracy: 0.8611 - val_loss: 0.4218 - val_accuracy: 0.8858\n",
            "Epoch 60/100\n",
            "32/32 [==============================] - 1s 38ms/step - loss: 0.4394 - accuracy: 0.8865 - val_loss: 0.4378 - val_accuracy: 0.8767\n",
            "Epoch 61/100\n",
            "32/32 [==============================] - 1s 39ms/step - loss: 0.4511 - accuracy: 0.8669 - val_loss: 0.4048 - val_accuracy: 0.8950\n",
            "Epoch 62/100\n",
            "32/32 [==============================] - 1s 38ms/step - loss: 0.4400 - accuracy: 0.8845 - val_loss: 0.4022 - val_accuracy: 0.8950\n",
            "Epoch 63/100\n",
            "32/32 [==============================] - 1s 38ms/step - loss: 0.4346 - accuracy: 0.8796 - val_loss: 0.4072 - val_accuracy: 0.8813\n",
            "Epoch 64/100\n",
            "32/32 [==============================] - 1s 39ms/step - loss: 0.4486 - accuracy: 0.8787 - val_loss: 0.4172 - val_accuracy: 0.8858\n",
            "Epoch 65/100\n",
            "32/32 [==============================] - 1s 38ms/step - loss: 0.4355 - accuracy: 0.8836 - val_loss: 0.4009 - val_accuracy: 0.8813\n",
            "Epoch 66/100\n",
            "32/32 [==============================] - 1s 39ms/step - loss: 0.4465 - accuracy: 0.8796 - val_loss: 0.4077 - val_accuracy: 0.8767\n",
            "Epoch 67/100\n",
            "32/32 [==============================] - 1s 38ms/step - loss: 0.4323 - accuracy: 0.8748 - val_loss: 0.4073 - val_accuracy: 0.8858\n",
            "Epoch 68/100\n",
            "32/32 [==============================] - 1s 38ms/step - loss: 0.4472 - accuracy: 0.8699 - val_loss: 0.4844 - val_accuracy: 0.8767\n",
            "Epoch 69/100\n",
            "32/32 [==============================] - 1s 38ms/step - loss: 0.4500 - accuracy: 0.8836 - val_loss: 0.4045 - val_accuracy: 0.8858\n",
            "Epoch 70/100\n",
            "32/32 [==============================] - 1s 38ms/step - loss: 0.4452 - accuracy: 0.8738 - val_loss: 0.3964 - val_accuracy: 0.8950\n",
            "Epoch 71/100\n",
            "32/32 [==============================] - 1s 40ms/step - loss: 0.4677 - accuracy: 0.8669 - val_loss: 0.4117 - val_accuracy: 0.8904\n",
            "Epoch 72/100\n",
            "32/32 [==============================] - 1s 39ms/step - loss: 0.4459 - accuracy: 0.8826 - val_loss: 0.4172 - val_accuracy: 0.8950\n",
            "Epoch 73/100\n",
            "32/32 [==============================] - 1s 39ms/step - loss: 0.4444 - accuracy: 0.8748 - val_loss: 0.4205 - val_accuracy: 0.8950\n",
            "Epoch 74/100\n",
            "32/32 [==============================] - 1s 38ms/step - loss: 0.4359 - accuracy: 0.8845 - val_loss: 0.4148 - val_accuracy: 0.8950\n",
            "Epoch 75/100\n",
            "32/32 [==============================] - 1s 38ms/step - loss: 0.4523 - accuracy: 0.8816 - val_loss: 0.4061 - val_accuracy: 0.8858\n",
            "Epoch 76/100\n",
            "32/32 [==============================] - 1s 39ms/step - loss: 0.4512 - accuracy: 0.8767 - val_loss: 0.4440 - val_accuracy: 0.8767\n",
            "Epoch 77/100\n",
            "32/32 [==============================] - 1s 39ms/step - loss: 0.4371 - accuracy: 0.8757 - val_loss: 0.4037 - val_accuracy: 0.8858\n",
            "Epoch 78/100\n",
            "32/32 [==============================] - 1s 38ms/step - loss: 0.4713 - accuracy: 0.8611 - val_loss: 0.4121 - val_accuracy: 0.8858\n",
            "Epoch 79/100\n",
            "32/32 [==============================] - 1s 38ms/step - loss: 0.4419 - accuracy: 0.8806 - val_loss: 0.4020 - val_accuracy: 0.8904\n",
            "Epoch 80/100\n",
            "32/32 [==============================] - 1s 38ms/step - loss: 0.4579 - accuracy: 0.8777 - val_loss: 0.4258 - val_accuracy: 0.8858\n",
            "Epoch 81/100\n",
            "32/32 [==============================] - 1s 38ms/step - loss: 0.4587 - accuracy: 0.8689 - val_loss: 0.4159 - val_accuracy: 0.8858\n",
            "Epoch 82/100\n",
            "32/32 [==============================] - 1s 39ms/step - loss: 0.4300 - accuracy: 0.8816 - val_loss: 0.3993 - val_accuracy: 0.8813\n",
            "Epoch 83/100\n",
            "32/32 [==============================] - 1s 38ms/step - loss: 0.4420 - accuracy: 0.8845 - val_loss: 0.4103 - val_accuracy: 0.8813\n",
            "Epoch 84/100\n",
            "32/32 [==============================] - 1s 38ms/step - loss: 0.4475 - accuracy: 0.8748 - val_loss: 0.4073 - val_accuracy: 0.8858\n",
            "Epoch 85/100\n",
            "32/32 [==============================] - 1s 38ms/step - loss: 0.4390 - accuracy: 0.8806 - val_loss: 0.3980 - val_accuracy: 0.8904\n",
            "Epoch 86/100\n",
            "32/32 [==============================] - 1s 38ms/step - loss: 0.4405 - accuracy: 0.8787 - val_loss: 0.3994 - val_accuracy: 0.8950\n",
            "Epoch 87/100\n",
            "32/32 [==============================] - 1s 39ms/step - loss: 0.4320 - accuracy: 0.8836 - val_loss: 0.4073 - val_accuracy: 0.8858\n",
            "Epoch 88/100\n",
            "32/32 [==============================] - 1s 39ms/step - loss: 0.4584 - accuracy: 0.8728 - val_loss: 0.4282 - val_accuracy: 0.8904\n",
            "Epoch 89/100\n",
            "32/32 [==============================] - 1s 39ms/step - loss: 0.4425 - accuracy: 0.8777 - val_loss: 0.4039 - val_accuracy: 0.8858\n",
            "Epoch 90/100\n",
            "32/32 [==============================] - 1s 38ms/step - loss: 0.4458 - accuracy: 0.8699 - val_loss: 0.3995 - val_accuracy: 0.8950\n",
            "Epoch 91/100\n",
            "32/32 [==============================] - 1s 39ms/step - loss: 0.4457 - accuracy: 0.8748 - val_loss: 0.4149 - val_accuracy: 0.8767\n",
            "Epoch 92/100\n",
            "32/32 [==============================] - 1s 38ms/step - loss: 0.4410 - accuracy: 0.8777 - val_loss: 0.4012 - val_accuracy: 0.8858\n",
            "Epoch 93/100\n",
            "32/32 [==============================] - 1s 38ms/step - loss: 0.4510 - accuracy: 0.8748 - val_loss: 0.4007 - val_accuracy: 0.8904\n",
            "Epoch 94/100\n",
            "32/32 [==============================] - 1s 39ms/step - loss: 0.4403 - accuracy: 0.8816 - val_loss: 0.4159 - val_accuracy: 0.8904\n",
            "Epoch 95/100\n",
            "32/32 [==============================] - 1s 40ms/step - loss: 0.4366 - accuracy: 0.8796 - val_loss: 0.4170 - val_accuracy: 0.8858\n",
            "Epoch 96/100\n",
            "32/32 [==============================] - 1s 39ms/step - loss: 0.4424 - accuracy: 0.8748 - val_loss: 0.4038 - val_accuracy: 0.8858\n",
            "Epoch 97/100\n",
            "32/32 [==============================] - 1s 38ms/step - loss: 0.4263 - accuracy: 0.8933 - val_loss: 0.4043 - val_accuracy: 0.8858\n",
            "Epoch 98/100\n",
            "32/32 [==============================] - 1s 38ms/step - loss: 0.4331 - accuracy: 0.8836 - val_loss: 0.4174 - val_accuracy: 0.8904\n",
            "Epoch 99/100\n",
            "32/32 [==============================] - 1s 39ms/step - loss: 0.4513 - accuracy: 0.8787 - val_loss: 0.4127 - val_accuracy: 0.8813\n",
            "Epoch 100/100\n",
            "32/32 [==============================] - 1s 38ms/step - loss: 0.4384 - accuracy: 0.8787 - val_loss: 0.4058 - val_accuracy: 0.8858\n"
          ],
          "name": "stdout"
        }
      ]
    },
    {
      "cell_type": "code",
      "metadata": {
        "id": "r0CC_16vxuXu",
        "colab_type": "code",
        "colab": {
          "base_uri": "https://localhost:8080/",
          "height": 295
        },
        "outputId": "83a17cc9-4151-4212-f271-86449407a803"
      },
      "source": [
        "\n",
        "plt.plot(hist_3.history['loss'])\n",
        "plt.plot(hist_3.history['val_loss'])\n",
        "plt.title('Model loss')\n",
        "plt.ylabel('Loss')\n",
        "plt.xlabel('Epoch')\n",
        "plt.legend(['Train', 'Val'], loc = 'upper right')\n",
        "plt.ylim(top = 1.2, bottom = 0)\n",
        "plt.show()"
      ],
      "execution_count": 49,
      "outputs": [
        {
          "output_type": "display_data",
          "data": {
            "image/png": "[encoded data removed]",
            "text/plain": [
              "<Figure size 432x288 with 1 Axes>"
            ]
          },
          "metadata": {
            "tags": []
          }
        }
      ]
    },
    {
      "cell_type": "code",
      "metadata": {
        "id": "INaPAOPi4anP",
        "colab_type": "code",
        "colab": {
          "base_uri": "https://localhost:8080/",
          "height": 295
        },
        "outputId": "7f66e018-8853-4377-ae76-ef1358983dc4"
      },
      "source": [
        "plt.plot(hist_3.history['accuracy'])\n",
        "plt.plot(hist_3.history['val_accuracy'])\n",
        "plt.title('Model Accuracy')\n",
        "plt.ylabel('Accuracy')\n",
        "plt.xlabel('Epoch')\n",
        "plt.legend(['Train', 'Val'], loc = 'upper right')\n",
        "plt.show()"
      ],
      "execution_count": 53,
      "outputs": [
        {
          "output_type": "display_data",
          "data": {
            "image/png": "[encoded data removed]",
            "text/plain": [
              "<Figure size 432x288 with 1 Axes>"
            ]
          },
          "metadata": {
            "tags": []
          }
        }
      ]
    }
  ]
}