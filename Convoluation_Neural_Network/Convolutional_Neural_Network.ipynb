{
  "nbformat": 4,
  "nbformat_minor": 0,
  "metadata": {
    "colab": {
      "name": "Convolutional Neural Network.ipynb",
      "provenance": [],
      "collapsed_sections": []
    },
    "kernelspec": {
      "name": "python3",
      "display_name": "Python 3"
    }
  },
  "cells": [
    {
      "cell_type": "markdown",
      "metadata": {
        "id": "JVVbWepB_HPq",
        "colab_type": "text"
      },
      "source": [
        "# Medium Article - CNNs for Computer Vision\n",
        "\n",
        "https://medium.com/intuitive-deep-learning/intuitive-deep-learning-part-2-cnns-for-computer-vision-24992d050a27"
      ]
    },
    {
      "cell_type": "code",
      "metadata": {
        "id": "zV_2TmLG8br5",
        "colab_type": "code",
        "colab": {}
      },
      "source": [
        "import pandas as pd\n",
        "import tensorflow as tf\n",
        "import keras\n",
        "from sklearn import preprocessing\n",
        "from sklearn.model_selection import train_test_split\n",
        "from keras.models import Sequential\n",
        "from keras.layers import Dense, Dropout, Flatten, Conv2D, MaxPooling2D\n",
        "from keras.datasets import cifar10\n",
        "from keras import regularizers\n",
        "import matplotlib.pyplot as plt"
      ],
      "execution_count": 0,
      "outputs": []
    },
    {
      "cell_type": "markdown",
      "metadata": {
        "id": "bNeZ_o2CAIya",
        "colab_type": "text"
      },
      "source": [
        "Add seeding to models to generate reproducable training result."
      ]
    },
    {
      "cell_type": "code",
      "metadata": {
        "id": "2WKJDriaAvNM",
        "colab_type": "code",
        "colab": {}
      },
      "source": [
        "from numpy.random import seed\n",
        "seed(1)\n",
        "tf.random.set_seed(2)"
      ],
      "execution_count": 0,
      "outputs": []
    },
    {
      "cell_type": "markdown",
      "metadata": {
        "id": "Qxv7UIywA6SZ",
        "colab_type": "text"
      },
      "source": [
        "# Step 1 - Loading and Cleaning Image Data\n",
        "\n",
        "Images will be 32 x 32 pixels in size, with 10 possible labels and the dataset size will be 6000 (5000 for training and 1000 for testing)"
      ]
    },
    {
      "cell_type": "code",
      "metadata": {
        "id": "E1SRpaA1A_fX",
        "colab_type": "code",
        "colab": {
          "base_uri": "https://localhost:8080/",
          "height": 51
        },
        "outputId": "06494dfd-2b14-48db-cc0a-7cea0b3defc2"
      },
      "source": [
        "(x_train, y_train), (x_test, y_test) = cifar10.load_data()"
      ],
      "execution_count": 8,
      "outputs": [
        {
          "output_type": "stream",
          "text": [
            "Downloading data from https://www.cs.toronto.edu/~kriz/cifar-10-python.tar.gz\n",
            "170500096/170498071 [==============================] - 2s 0us/step\n"
          ],
          "name": "stdout"
        }
      ]
    },
    {
      "cell_type": "markdown",
      "metadata": {
        "id": "T4wN4p70DIax",
        "colab_type": "text"
      },
      "source": [
        "Printing out dataset dimensions"
      ]
    },
    {
      "cell_type": "code",
      "metadata": {
        "id": "M0ubMvmmDKxT",
        "colab_type": "code",
        "colab": {
          "base_uri": "https://localhost:8080/",
          "height": 34
        },
        "outputId": "7182971e-6d9d-4418-8c8f-d9622dbb903c"
      },
      "source": [
        "print('x_train_shape', x_train.shape)"
      ],
      "execution_count": 9,
      "outputs": [
        {
          "output_type": "stream",
          "text": [
            "x_train_shape (50000, 32, 32, 3)\n"
          ],
          "name": "stdout"
        }
      ]
    },
    {
      "cell_type": "code",
      "metadata": {
        "id": "Oxb-Ruc7DU06",
        "colab_type": "code",
        "colab": {
          "base_uri": "https://localhost:8080/",
          "height": 34
        },
        "outputId": "5ad2457e-b45e-4a1e-c39e-15c7acceeb0d"
      },
      "source": [
        "print('x_test_shape', y_train.shape)"
      ],
      "execution_count": 11,
      "outputs": [
        {
          "output_type": "stream",
          "text": [
            "x_test_shape (50000, 1)\n"
          ],
          "name": "stdout"
        }
      ]
    },
    {
      "cell_type": "markdown",
      "metadata": {
        "id": "KHDCWDe9Ds2c",
        "colab_type": "text"
      },
      "source": [
        "Printing out individual image dataset."
      ]
    },
    {
      "cell_type": "code",
      "metadata": {
        "id": "gYrhR4gxDwCD",
        "colab_type": "code",
        "colab": {
          "base_uri": "https://localhost:8080/",
          "height": 850
        },
        "outputId": "6bb9b5e1-d9ae-4f43-8736-673280af2be5"
      },
      "source": [
        "print('Image 1 Data', x_train[0])"
      ],
      "execution_count": 12,
      "outputs": [
        {
          "output_type": "stream",
          "text": [
            "Image 1 Data [[[ 59  62  63]\n",
            "  [ 43  46  45]\n",
            "  [ 50  48  43]\n",
            "  ...\n",
            "  [158 132 108]\n",
            "  [152 125 102]\n",
            "  [148 124 103]]\n",
            "\n",
            " [[ 16  20  20]\n",
            "  [  0   0   0]\n",
            "  [ 18   8   0]\n",
            "  ...\n",
            "  [123  88  55]\n",
            "  [119  83  50]\n",
            "  [122  87  57]]\n",
            "\n",
            " [[ 25  24  21]\n",
            "  [ 16   7   0]\n",
            "  [ 49  27   8]\n",
            "  ...\n",
            "  [118  84  50]\n",
            "  [120  84  50]\n",
            "  [109  73  42]]\n",
            "\n",
            " ...\n",
            "\n",
            " [[208 170  96]\n",
            "  [201 153  34]\n",
            "  [198 161  26]\n",
            "  ...\n",
            "  [160 133  70]\n",
            "  [ 56  31   7]\n",
            "  [ 53  34  20]]\n",
            "\n",
            " [[180 139  96]\n",
            "  [173 123  42]\n",
            "  [186 144  30]\n",
            "  ...\n",
            "  [184 148  94]\n",
            "  [ 97  62  34]\n",
            "  [ 83  53  34]]\n",
            "\n",
            " [[177 144 116]\n",
            "  [168 129  94]\n",
            "  [179 142  87]\n",
            "  ...\n",
            "  [216 184 140]\n",
            "  [151 118  84]\n",
            "  [123  92  72]]]\n"
          ],
          "name": "stdout"
        }
      ]
    },
    {
      "cell_type": "markdown",
      "metadata": {
        "id": "pQHmODQyD29z",
        "colab_type": "text"
      },
      "source": [
        "Showing the actual image."
      ]
    },
    {
      "cell_type": "code",
      "metadata": {
        "id": "vxqNEgRjD4Xr",
        "colab_type": "code",
        "colab": {
          "base_uri": "https://localhost:8080/",
          "height": 283
        },
        "outputId": "258e1426-e4af-4000-901c-a67a7d5f4468"
      },
      "source": [
        "print('Image 1 Pic', plt.imshow(x_train[0]))"
      ],
      "execution_count": 14,
      "outputs": [
        {
          "output_type": "stream",
          "text": [
            "Image 1 Pic AxesImage(54,36;334.8x217.44)\n"
          ],
          "name": "stdout"
        },
        {
          "output_type": "display_data",
          "data": {
            "image/png": "[encoded data removed]",
            "text/plain": [
              "<Figure size 432x288 with 1 Axes>"
            ]
          },
          "metadata": {
            "tags": []
          }
        }
      ]
    },
    {
      "cell_type": "markdown",
      "metadata": {
        "id": "BHerguKeIpmy",
        "colab_type": "text"
      },
      "source": [
        "We need set up the model to it predicts the probability of each image being one of the ten classes. To do so, there need to be 10 Output Neurons in the network, and the label needs to be converted into a set of 10 numbers representing if the image belongs to that class (if the image belongs to the first class is will be set to 1 and the rest will be zero).\n",
        "\n",
        "![alt text](https://miro.medium.com/max/1130/1*t-ttNgcua-JtTlLjdRScww.png)\n"
      ]
    },
    {
      "cell_type": "code",
      "metadata": {
        "id": "4hamERp5Jw3i",
        "colab_type": "code",
        "colab": {
          "base_uri": "https://localhost:8080/",
          "height": 51
        },
        "outputId": "7850b190-b143-4d3d-c1ba-f42a607b121e"
      },
      "source": [
        "y_train_one_hot = keras.utils.to_categorical(y_train, 10)\n",
        "y_test_one_hot = keras.utils.to_categorical(y_test, 10)\n",
        "print('y_train_one_hot', y_train_one_hot[1])"
      ],
      "execution_count": 25,
      "outputs": [
        {
          "output_type": "stream",
          "text": [
            "y_train_one_hot [0. 0. 0. 0. 0. 0. 0. 0. 0. 1.]\n",
            "size 500000\n"
          ],
          "name": "stdout"
        }
      ]
    },
    {
      "cell_type": "markdown",
      "metadata": {
        "id": "-Cm_bI7TK-hJ",
        "colab_type": "text"
      },
      "source": [
        "The image data is represented as a number between 1 and 255, so this will need to be normalised in order to improve the training of the model."
      ]
    },
    {
      "cell_type": "code",
      "metadata": {
        "id": "jik85KIELKLV",
        "colab_type": "code",
        "colab": {
          "base_uri": "https://localhost:8080/",
          "height": 850
        },
        "outputId": "60d044c1-f7b5-45c2-cae1-ab56929ceb55"
      },
      "source": [
        "x_train = x_train.astype('float')\n",
        "y_train = y_train.astype('float')\n",
        "x_train /= 255\n",
        "y_train /= 255\n",
        "\n",
        "#print the newly normalized data\n",
        "x_train[0]"
      ],
      "execution_count": 26,
      "outputs": [
        {
          "output_type": "execute_result",
          "data": {
            "text/plain": [
              "array([[[0.23137255, 0.24313725, 0.24705882],\n",
              "        [0.16862745, 0.18039216, 0.17647059],\n",
              "        [0.19607843, 0.18823529, 0.16862745],\n",
              "        ...,\n",
              "        [0.61960784, 0.51764706, 0.42352941],\n",
              "        [0.59607843, 0.49019608, 0.4       ],\n",
              "        [0.58039216, 0.48627451, 0.40392157]],\n",
              "\n",
              "       [[0.0627451 , 0.07843137, 0.07843137],\n",
              "        [0.        , 0.        , 0.        ],\n",
              "        [0.07058824, 0.03137255, 0.        ],\n",
              "        ...,\n",
              "        [0.48235294, 0.34509804, 0.21568627],\n",
              "        [0.46666667, 0.3254902 , 0.19607843],\n",
              "        [0.47843137, 0.34117647, 0.22352941]],\n",
              "\n",
              "       [[0.09803922, 0.09411765, 0.08235294],\n",
              "        [0.0627451 , 0.02745098, 0.        ],\n",
              "        [0.19215686, 0.10588235, 0.03137255],\n",
              "        ...,\n",
              "        [0.4627451 , 0.32941176, 0.19607843],\n",
              "        [0.47058824, 0.32941176, 0.19607843],\n",
              "        [0.42745098, 0.28627451, 0.16470588]],\n",
              "\n",
              "       ...,\n",
              "\n",
              "       [[0.81568627, 0.66666667, 0.37647059],\n",
              "        [0.78823529, 0.6       , 0.13333333],\n",
              "        [0.77647059, 0.63137255, 0.10196078],\n",
              "        ...,\n",
              "        [0.62745098, 0.52156863, 0.2745098 ],\n",
              "        [0.21960784, 0.12156863, 0.02745098],\n",
              "        [0.20784314, 0.13333333, 0.07843137]],\n",
              "\n",
              "       [[0.70588235, 0.54509804, 0.37647059],\n",
              "        [0.67843137, 0.48235294, 0.16470588],\n",
              "        [0.72941176, 0.56470588, 0.11764706],\n",
              "        ...,\n",
              "        [0.72156863, 0.58039216, 0.36862745],\n",
              "        [0.38039216, 0.24313725, 0.13333333],\n",
              "        [0.3254902 , 0.20784314, 0.13333333]],\n",
              "\n",
              "       [[0.69411765, 0.56470588, 0.45490196],\n",
              "        [0.65882353, 0.50588235, 0.36862745],\n",
              "        [0.70196078, 0.55686275, 0.34117647],\n",
              "        ...,\n",
              "        [0.84705882, 0.72156863, 0.54901961],\n",
              "        [0.59215686, 0.4627451 , 0.32941176],\n",
              "        [0.48235294, 0.36078431, 0.28235294]]])"
            ]
          },
          "metadata": {
            "tags": []
          },
          "execution_count": 26
        }
      ]
    },
    {
      "cell_type": "markdown",
      "metadata": {
        "id": "I4Zr-UgILdKY",
        "colab_type": "text"
      },
      "source": [
        "# Step 3 - Building and Training the Neural Net\n",
        "\n",
        "- Conv Layer (Filter size 3x3, Depth 32)\n",
        "- Conv Layer (Filter size 3x3, Depth 32)\n",
        "- Max Pool Layer (Filter size 2x2)\n",
        "- Dropout Layer (Prob of dropout 0.25)\n",
        "- Conv Layer (Filter size 3x3, Depth 64)\n",
        "- Conv Layer (Filter size 3x3, Depth 64)\n",
        "- Max Pool Layer (Filter size 2x2)\n",
        "- Dropout Layer (Prob of dropout 0.25)\n",
        "- FC Layer (512 neurons)\n",
        "- Dropout Layer (Prob of dropout 0.5)\n",
        "- FC Layer, Softmax (10 neurons)\n",
        "\n",
        "![alt text](https://miro.medium.com/max/2000/1*b4neYlVytzv5lfGmHAcqTQ.png)"
      ]
    },
    {
      "cell_type": "code",
      "metadata": {
        "id": "UhbBLXU4SJJ9",
        "colab_type": "code",
        "colab": {}
      },
      "source": [
        "# Specifying the first layers\n",
        "model = tf.keras.Sequential();\n",
        "\n",
        "# Creates a Convolution layer with 32 depth, and (3, 3) filter width and size.\n",
        "model.add(tf.keras.layers.Conv2D(32, (3, 3), activation = 'relu', padding = 'same', input_shape = (32, 32, 3)))\n",
        "# A duplicated of the above layer, except the input shape doesn't need to be defined again.\n",
        "model.add(tf.keras.layers.Conv2D(32, (3, 3), activation = 'relu', padding = 'same'))\n",
        "# Pooling layer used to amalgamate the results from filtered output\n",
        "model.add(tf.keras.layers.MaxPool2D(pool_size = (2,2)))\n",
        "# Finally add a dropout layer to help prevent Overfitting\n",
        "model.add(tf.keras.layers.Dropout(0.25))\n"
      ],
      "execution_count": 0,
      "outputs": []
    },
    {
      "cell_type": "markdown",
      "metadata": {
        "id": "lAKQrhvvVzwA",
        "colab_type": "text"
      },
      "source": [
        "The next four layers are pretty much the same, except the depth of the convolution layer is 64 rather than 32."
      ]
    },
    {
      "cell_type": "code",
      "metadata": {
        "id": "Gz29jcoPV7wL",
        "colab_type": "code",
        "colab": {}
      },
      "source": [
        "model.add(tf.keras.layers.Conv2D(64, (3, 3), activation='relu', padding='same'))\n",
        "model.add(tf.keras.layers.Conv2D(64, (3, 3), activation='relu', padding='same'))\n",
        "model.add(tf.keras.layers.MaxPooling2D(pool_size=(2, 2)))\n",
        "model.add(tf.keras.layers.Dropout(0.25))"
      ],
      "execution_count": 0,
      "outputs": []
    },
    {
      "cell_type": "markdown",
      "metadata": {
        "id": "dgfnsxa0WRP9",
        "colab_type": "text"
      },
      "source": [
        "Need to flatten the model to bring Neurons from cube like shape to a single row."
      ]
    },
    {
      "cell_type": "code",
      "metadata": {
        "id": "LnR8oLB2Waup",
        "colab_type": "code",
        "colab": {}
      },
      "source": [
        "model.add(tf.keras.layers.Flatten())"
      ],
      "execution_count": 0,
      "outputs": []
    },
    {
      "cell_type": "markdown",
      "metadata": {
        "id": "8WsFgtTfWe10",
        "colab_type": "text"
      },
      "source": [
        "Finally adding the final four layers"
      ]
    },
    {
      "cell_type": "code",
      "metadata": {
        "id": "ZZAClJidWkHO",
        "colab_type": "code",
        "colab": {
          "base_uri": "https://localhost:8080/",
          "height": 595
        },
        "outputId": "3462e75d-701c-438b-fec1-fb2a474da6bb"
      },
      "source": [
        "\n",
        "model.add(tf.keras.layers.Dense(512, activation = 'relu'))\n",
        "# high probability droput layer\n",
        "model.add(tf.keras.layers.Dropout(0.5))\n",
        "# output layer\n",
        "model.add(tf.keras.layers.Dense(10, activation = 'softmax'))\n",
        "model.summary()"
      ],
      "execution_count": 40,
      "outputs": [
        {
          "output_type": "stream",
          "text": [
            "Model: \"sequential_6\"\n",
            "_________________________________________________________________\n",
            "Layer (type)                 Output Shape              Param #   \n",
            "=================================================================\n",
            "conv2d_7 (Conv2D)            (None, 32, 32, 32)        896       \n",
            "_________________________________________________________________\n",
            "conv2d_8 (Conv2D)            (None, 32, 32, 32)        9248      \n",
            "_________________________________________________________________\n",
            "max_pooling2d_2 (MaxPooling2 (None, 16, 16, 32)        0         \n",
            "_________________________________________________________________\n",
            "dropout_2 (Dropout)          (None, 16, 16, 32)        0         \n",
            "_________________________________________________________________\n",
            "conv2d_9 (Conv2D)            (None, 16, 16, 64)        18496     \n",
            "_________________________________________________________________\n",
            "conv2d_10 (Conv2D)           (None, 16, 16, 64)        36928     \n",
            "_________________________________________________________________\n",
            "max_pooling2d_3 (MaxPooling2 (None, 8, 8, 64)          0         \n",
            "_________________________________________________________________\n",
            "dropout_3 (Dropout)          (None, 8, 8, 64)          0         \n",
            "_________________________________________________________________\n",
            "flatten (Flatten)            (None, 4096)              0         \n",
            "_________________________________________________________________\n",
            "dense (Dense)                (None, 512)               2097664   \n",
            "_________________________________________________________________\n",
            "dense_1 (Dense)              (None, 512)               262656    \n",
            "_________________________________________________________________\n",
            "dropout_4 (Dropout)          (None, 512)               0         \n",
            "_________________________________________________________________\n",
            "dense_2 (Dense)              (None, 10)                5130      \n",
            "=================================================================\n",
            "Total params: 2,431,018\n",
            "Trainable params: 2,431,018\n",
            "Non-trainable params: 0\n",
            "_________________________________________________________________\n"
          ],
          "name": "stdout"
        }
      ]
    },
    {
      "cell_type": "markdown",
      "metadata": {
        "id": "uccr42c_XKxZ",
        "colab_type": "text"
      },
      "source": [
        "# Step 4 - Compiling and Training The Model\n",
        "\n",
        "Going to use a loss function called \"Categorical Cross Entropy\", which is suitable for dealing with classification of many classes. Also using the Adam optimizer for Gradient Descent."
      ]
    },
    {
      "cell_type": "code",
      "metadata": {
        "id": "qsMiJ_h0XrFz",
        "colab_type": "code",
        "colab": {
          "base_uri": "https://localhost:8080/",
          "height": 153
        },
        "outputId": "fb1b9dee-4d39-4dd1-e227-c6e3d58a1691"
      },
      "source": [
        "model.compile(loss = 'categorical_crossentropy', optimizer = 'adam', metrics = ['accuracy'])\n",
        "hist = model.fit(x_train, y_train_one_hot, batch_size = 32, epochs= 20, validation_split=0.2)"
      ],
      "execution_count": 0,
      "outputs": [
        {
          "output_type": "stream",
          "text": [
            "Epoch 1/20\n",
            "1250/1250 [==============================] - 238s 190ms/step - loss: 0.2196 - accuracy: 0.9294 - val_loss: 1.1632 - val_accuracy: 0.7485\n",
            "Epoch 2/20\n",
            "1250/1250 [==============================] - 238s 190ms/step - loss: 0.1959 - accuracy: 0.9362 - val_loss: 1.1290 - val_accuracy: 0.7446\n",
            "Epoch 3/20\n",
            "1250/1250 [==============================] - 237s 190ms/step - loss: 0.1792 - accuracy: 0.9416 - val_loss: 1.2138 - val_accuracy: 0.7451\n",
            "Epoch 4/20\n",
            "1054/1250 [========================>.....] - ETA: 35s - loss: 0.1798 - accuracy: 0.9426"
          ],
          "name": "stdout"
        }
      ]
    },
    {
      "cell_type": "markdown",
      "metadata": {
        "id": "ib_LvPr8t_Ip",
        "colab_type": "text"
      },
      "source": [
        "Model accuracy/loss validation"
      ]
    },
    {
      "cell_type": "code",
      "metadata": {
        "id": "kxSSi43WuCw5",
        "colab_type": "code",
        "colab": {}
      },
      "source": [
        "plt.plot(hist.history['loss'])\n",
        "plt.plot(hist.history['val_loss'])\n",
        "plt.title('Model loss')\n",
        "plt.ylabel('Loss')\n",
        "plt.xlabel('Epoch')\n",
        "plt.legend(['Train', 'Val'], loc='upper right')\n",
        "plt.show()"
      ],
      "execution_count": 0,
      "outputs": []
    },
    {
      "cell_type": "code",
      "metadata": {
        "id": "lGl7uWciuF1-",
        "colab_type": "code",
        "colab": {}
      },
      "source": [
        "plt.plot(hist.history['acc'])\n",
        "plt.plot(hist.history['val_acc'])\n",
        "plt.title('Model accuracy')\n",
        "plt.ylabel('Accuracy')\n",
        "plt.xlabel('Epoch')\n",
        "plt.legend(['Train', 'Val'], loc='lower right')\n",
        "plt.show()"
      ],
      "execution_count": 0,
      "outputs": []
    },
    {
      "cell_type": "code",
      "metadata": {
        "id": "rrvA47IduJzY",
        "colab_type": "code",
        "colab": {}
      },
      "source": [
        "model.evaluate(x_test, y_test_one_hot)[1]"
      ],
      "execution_count": 0,
      "outputs": []
    },
    {
      "cell_type": "code",
      "metadata": {
        "id": "Vx1MdKzGuLV1",
        "colab_type": "code",
        "colab": {}
      },
      "source": [
        "model.save('my_cifar10_model.h5')"
      ],
      "execution_count": 0,
      "outputs": []
    }
  ]
}